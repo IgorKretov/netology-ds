{
 "cells": [
  {
   "cell_type": "markdown",
   "metadata": {},
   "source": [
    "# Домашняя работа 1"
   ]
  },
  {
   "cell_type": "markdown",
   "metadata": {},
   "source": [
    "### Задание 1\n",
    "Даны 2 строки long_phrase и short_phrase. Напишите код, который проверяет действительно ли длинная фраза long_phrase длиннее короткой short_phrase. И выводит True или False в зависимости от результата сравнения.\n",
    "\n",
    "long_phrase = 'Насколько проще было бы писать программы, если бы не заказчики'\n",
    "short_phrase = '640Кб должно хватить для любых задач. Билл Гейтс (по легенде)'"
   ]
  },
  {
   "cell_type": "code",
   "execution_count": 1,
   "metadata": {},
   "outputs": [],
   "source": [
    "long_phrase = 'Насколько проще было бы писать программы, если бы не заказчики'\n",
    "short_phrase = '640Кб должно хватить для любых задач. Билл Гейтс (по легенде)'"
   ]
  },
  {
   "cell_type": "code",
   "execution_count": 2,
   "metadata": {},
   "outputs": [
    {
     "data": {
      "text/plain": [
       "True"
      ]
     },
     "execution_count": 2,
     "metadata": {},
     "output_type": "execute_result"
    }
   ],
   "source": [
    "len(long_phrase) > len(short_phrase)"
   ]
  },
  {
   "cell_type": "markdown",
   "metadata": {},
   "source": [
    "### Задание 2\n",
    "Дана строка text. Определите какая из двух букв встречается в нем чаще - 'а' или 'и'.\n",
    "text = 'Если программист в 9-00 утра на работе, значит, он там и ночевал'"
   ]
  },
  {
   "cell_type": "code",
   "execution_count": 3,
   "metadata": {},
   "outputs": [],
   "source": [
    "text = 'Если программист в 9-00 утра на работе, значит, он там и ночевал'"
   ]
  },
  {
   "cell_type": "code",
   "execution_count": 4,
   "metadata": {},
   "outputs": [
    {
     "data": {
      "text/plain": [
       "True"
      ]
     },
     "execution_count": 4,
     "metadata": {},
     "output_type": "execute_result"
    }
   ],
   "source": [
    "len(text.replace('а', '')) < len(text.replace('и', ''))"
   ]
  },
  {
   "cell_type": "code",
   "execution_count": 5,
   "metadata": {},
   "outputs": [
    {
     "data": {
      "text/plain": [
       "True"
      ]
     },
     "execution_count": 5,
     "metadata": {},
     "output_type": "execute_result"
    }
   ],
   "source": [
    "text.count('а') > text.count('и')"
   ]
  },
  {
   "cell_type": "markdown",
   "metadata": {},
   "source": [
    "### Задание 3\n",
    "Дано значение объема файла в байтах (выберите любое значение). Напишите перевод этого значения в мегабайты в формате:\n",
    "'Объем файла равен 213.68Mb'"
   ]
  },
  {
   "cell_type": "code",
   "execution_count": 6,
   "metadata": {},
   "outputs": [],
   "source": [
    "file_size_bytes = 1000000"
   ]
  },
  {
   "cell_type": "code",
   "execution_count": 7,
   "metadata": {},
   "outputs": [
    {
     "name": "stdout",
     "output_type": "stream",
     "text": [
      "Объем файла равен 0.95Mb\n"
     ]
    }
   ],
   "source": [
    "print('Объем файла равен {:.2f}Mb'.format(file_size_bytes / 1024 / 1024))"
   ]
  },
  {
   "cell_type": "markdown",
   "metadata": {},
   "source": [
    "### Задание 4\n",
    "Выведите на экран значение синуса 30 градусов с помощью метода math.sin"
   ]
  },
  {
   "cell_type": "code",
   "execution_count": 8,
   "metadata": {},
   "outputs": [],
   "source": [
    "import math"
   ]
  },
  {
   "cell_type": "code",
   "execution_count": 9,
   "metadata": {},
   "outputs": [],
   "source": [
    "?math.sin"
   ]
  },
  {
   "cell_type": "code",
   "execution_count": 10,
   "metadata": {},
   "outputs": [
    {
     "data": {
      "text/plain": [
       "0.5235987755982988"
      ]
     },
     "execution_count": 10,
     "metadata": {},
     "output_type": "execute_result"
    }
   ],
   "source": [
    "math.radians(30)"
   ]
  },
  {
   "cell_type": "code",
   "execution_count": 11,
   "metadata": {},
   "outputs": [
    {
     "data": {
      "text/plain": [
       "0.49999999999999994"
      ]
     },
     "execution_count": 11,
     "metadata": {},
     "output_type": "execute_result"
    }
   ],
   "source": [
    "math.sin(math.radians(30))"
   ]
  },
  {
   "cell_type": "markdown",
   "metadata": {},
   "source": [
    "### Задание 5\n",
    "В прошлом задании у вас скорее всего не получилось точного значения 0.5 из-за конечной точности вычисления синуса. Но почему некоторые простые операции также могут давать неточный результат? Попробуйте вывести на экран результат операции 0.1 + 0.2. Почему результат не 0.3?"
   ]
  },
  {
   "cell_type": "code",
   "execution_count": 12,
   "metadata": {},
   "outputs": [
    {
     "data": {
      "text/plain": [
       "0.30000000000000004"
      ]
     },
     "execution_count": 12,
     "metadata": {},
     "output_type": "execute_result"
    }
   ],
   "source": [
    "0.1 + 0.2"
   ]
  },
  {
   "cell_type": "code",
   "execution_count": null,
   "metadata": {},
   "outputs": [],
   "source": [
    "0.5 = 0.1 1 / 2**1"
   ]
  },
  {
   "cell_type": "code",
   "execution_count": null,
   "metadata": {},
   "outputs": [],
   "source": [
    "0.1"
   ]
  },
  {
   "cell_type": "markdown",
   "metadata": {},
   "source": [
    "### Задание 6\n",
    "В переменных a и b записаны 2 различных числа. Вам необходимо написать код, который меняет значения a и b местами без использования третьей переменной."
   ]
  },
  {
   "cell_type": "code",
   "execution_count": 17,
   "metadata": {},
   "outputs": [],
   "source": [
    "a = 5\n",
    "b = 3"
   ]
  },
  {
   "cell_type": "code",
   "execution_count": 18,
   "metadata": {},
   "outputs": [],
   "source": [
    "a = a + b # 8 и 3\n",
    "b = a - b # 8 и 5\n",
    "a = a - b # 3 и 5"
   ]
  },
  {
   "cell_type": "code",
   "execution_count": 20,
   "metadata": {},
   "outputs": [
    {
     "data": {
      "text/plain": [
       "(3, 5)"
      ]
     },
     "execution_count": 20,
     "metadata": {},
     "output_type": "execute_result"
    }
   ],
   "source": [
    "a, b"
   ]
  },
  {
   "cell_type": "markdown",
   "metadata": {},
   "source": [
    "### Задание 7"
   ]
  },
  {
   "cell_type": "markdown",
   "metadata": {},
   "source": [
    "Дано число в двоичной системе счисления: num=10011. Напишите алгоритм перевода этого числа в привычную нам десятичную систему счисления.\n",
    "Возможно, вам понадобится цикл прохождения всех целых чисел от 0 до m:\n",
    "for n in range(m)"
   ]
  },
  {
   "cell_type": "code",
   "execution_count": null,
   "metadata": {},
   "outputs": [],
   "source": [
    "10011 = 1*2**0 + 1*2**1 + 0*2**2 + 0*2**3 +1*2**4 = ..."
   ]
  },
  {
   "cell_type": "code",
   "execution_count": 27,
   "metadata": {},
   "outputs": [
    {
     "name": "stdout",
     "output_type": "stream",
     "text": [
      "1\n",
      "2\n",
      "0\n",
      "0\n",
      "16\n"
     ]
    }
   ],
   "source": [
    "num = 10011\n",
    "num_str = str(num)[::-1]\n",
    "\n",
    "sum_ = 0\n",
    "for i in range(len(num_str)):\n",
    "    print(int(num_str[i]) * 2**i)\n",
    "    \n",
    "    sum_ += int(num_str[i]) * 2**i"
   ]
  },
  {
   "cell_type": "code",
   "execution_count": 28,
   "metadata": {},
   "outputs": [
    {
     "data": {
      "text/plain": [
       "19"
      ]
     },
     "execution_count": 28,
     "metadata": {},
     "output_type": "execute_result"
    }
   ],
   "source": [
    "sum_"
   ]
  },
  {
   "cell_type": "markdown",
   "metadata": {},
   "source": [
    "# Домашняя работа 2"
   ]
  },
  {
   "cell_type": "markdown",
   "metadata": {},
   "source": [
    "### Задание 1\n",
    "\n",
    "Дан список с визитами по городам и странам. Напишите код, который возвращает отфильтрованный список geo_logs, содержащий только визиты из России. Считайте, что список geo_logs легко помещается в оперативной памяти.\n",
    "\n",
    "geo_logs = [\n",
    "\t{'visit1': ['Москва', 'Россия']},\n",
    "\t{'visit2': ['Дели', 'Индия']},\n",
    "\t{'visit3': ['Владимир', 'Россия']},\n",
    "\t{'visit4': ['Лиссабон', 'Португалия']},\n",
    "\t{'visit5': ['Париж', 'Франция']},\n",
    "\t{'visit6': ['Лиссабон', 'Португалия']},\n",
    "\t{'visit7': ['Тула', 'Россия']},\n",
    "\t{'visit8': ['Тула', 'Россия']},\n",
    "\t{'visit9': ['Курск', 'Россия']},\n",
    "\t{'visit10': ['Архангельск', 'Россия']},\n",
    "]"
   ]
  },
  {
   "cell_type": "code",
   "execution_count": 29,
   "metadata": {},
   "outputs": [],
   "source": [
    "geo_logs = [\n",
    "    {'visit1': ['Москва', 'Россия']},\n",
    "    {'visit2': ['Дели', 'Индия']},\n",
    "    {'visit3': ['Владимир', 'Россия']},\n",
    "    {'visit4': ['Лиссабон', 'Португалия']},\n",
    "    {'visit5': ['Париж', 'Франция']},\n",
    "    {'visit6': ['Лиссабон', 'Португалия']},\n",
    "    {'visit7': ['Тула', 'Россия']},\n",
    "    {'visit8': ['Тула', 'Россия']},\n",
    "    {'visit9': ['Курск', 'Россия']},\n",
    "    {'visit10': ['Архангельск', 'Россия']},\n",
    "]"
   ]
  },
  {
   "cell_type": "code",
   "execution_count": 35,
   "metadata": {},
   "outputs": [
    {
     "name": "stdout",
     "output_type": "stream",
     "text": [
      "{'visit1': ['Москва', 'Россия']}\n",
      "{'visit3': ['Владимир', 'Россия']}\n",
      "{'visit7': ['Тула', 'Россия']}\n",
      "{'visit8': ['Тула', 'Россия']}\n",
      "{'visit9': ['Курск', 'Россия']}\n",
      "{'visit10': ['Архангельск', 'Россия']}\n"
     ]
    }
   ],
   "source": [
    "for line in geo_logs:\n",
    "    if 'Россия' in list(line.values())[0]:\n",
    "        print(line)"
   ]
  },
  {
   "cell_type": "code",
   "execution_count": null,
   "metadata": {},
   "outputs": [],
   "source": []
  },
  {
   "cell_type": "markdown",
   "metadata": {},
   "source": [
    "### Задание 2\n",
    "Выведите на экран все уникальные гео-ID из значений словаря ids. Т. е. список вида [213, 15, 54, 119, 98, 35]\n",
    "\n",
    "ids = {'user1': [213, 213, 213, 15, 213], 'user2': [54, 54, 119, 119, 119], 'user3': [213, 98, 98, 35]}"
   ]
  },
  {
   "cell_type": "code",
   "execution_count": 36,
   "metadata": {},
   "outputs": [],
   "source": [
    "ids = {'user1': [213, 213, 213, 15, 213], 'user2': [54, 54, 119, 119, 119], 'user3': [213, 98, 98, 35]}"
   ]
  },
  {
   "cell_type": "code",
   "execution_count": 42,
   "metadata": {},
   "outputs": [
    {
     "name": "stdout",
     "output_type": "stream",
     "text": [
      "user1 [213, 213, 213, 15, 213]\n",
      "user2 [54, 54, 119, 119, 119]\n",
      "user3 [213, 98, 98, 35]\n",
      "{98, 35, 15, 213, 54, 119}\n"
     ]
    }
   ],
   "source": [
    "geo_set = set()\n",
    "\n",
    "for user_id, geo_ids in ids.items():\n",
    "    print(user_id, geo_ids)\n",
    "    \n",
    "    # for geo_id in geo_ids:\n",
    "    #     geo_set.add(geo_id)\n",
    "    geo_set.update(geo_ids)\n",
    "    \n",
    "print(geo_set)"
   ]
  },
  {
   "cell_type": "code",
   "execution_count": null,
   "metadata": {},
   "outputs": [],
   "source": []
  },
  {
   "cell_type": "markdown",
   "metadata": {},
   "source": [
    "### Задание 3"
   ]
  },
  {
   "cell_type": "markdown",
   "metadata": {},
   "source": [
    "Список поисковых запросов. Получить распределение количества слов в них. Т. е. поисковых запросов из одного слова 5%, из двух - 7%, из трех - 3% итд."
   ]
  },
  {
   "cell_type": "code",
   "execution_count": 43,
   "metadata": {},
   "outputs": [],
   "source": [
    "queries = [\n",
    "    'смотреть сериалы онлайн',\n",
    "    'новости спорта',\n",
    "    'афиша кино',\n",
    "    'курс доллара',\n",
    "    'сериалы этим летом',\n",
    "    'курс по питону',\n",
    "    'сериалы про спорт',\n",
    "]"
   ]
  },
  {
   "cell_type": "code",
   "execution_count": 48,
   "metadata": {},
   "outputs": [
    {
     "data": {
      "text/plain": [
       "({2: 3, 3: 4}, 7)"
      ]
     },
     "execution_count": 48,
     "metadata": {},
     "output_type": "execute_result"
    }
   ],
   "source": [
    "stats = {}\n",
    "\n",
    "total_queries = 0\n",
    "for i in [len(query.split(' ')) for query in queries]:\n",
    "    stats.setdefault(i, 0)\n",
    "    stats[i] += 1\n",
    "    total_queries += 1\n",
    "    \n",
    "stats, total_queries"
   ]
  },
  {
   "cell_type": "code",
   "execution_count": 56,
   "metadata": {},
   "outputs": [],
   "source": [
    "d = {'a': 1, 'b': 2}"
   ]
  },
  {
   "cell_type": "code",
   "execution_count": null,
   "metadata": {},
   "outputs": [],
   "source": [
    "if 'b' if d:\n",
    "    ...\n",
    "else:\n",
    "    d['b'] = 2"
   ]
  },
  {
   "cell_type": "code",
   "execution_count": 57,
   "metadata": {},
   "outputs": [
    {
     "data": {
      "text/plain": [
       "2"
      ]
     },
     "execution_count": 57,
     "metadata": {},
     "output_type": "execute_result"
    }
   ],
   "source": [
    "d.setdefault('b', 0)"
   ]
  },
  {
   "cell_type": "code",
   "execution_count": 58,
   "metadata": {},
   "outputs": [
    {
     "data": {
      "text/plain": [
       "2"
      ]
     },
     "execution_count": 58,
     "metadata": {},
     "output_type": "execute_result"
    }
   ],
   "source": [
    "d['b']"
   ]
  },
  {
   "cell_type": "code",
   "execution_count": 49,
   "metadata": {},
   "outputs": [
    {
     "name": "stdout",
     "output_type": "stream",
     "text": [
      "3 0.5714285714285714\n",
      "2 0.42857142857142855\n"
     ]
    }
   ],
   "source": [
    "for k, v in stats.items():\n",
    "    print(k, v / total_queries)"
   ]
  },
  {
   "cell_type": "markdown",
   "metadata": {},
   "source": [
    "### Задание 4\n",
    "Дана статистика рекламных каналов по объемам продаж. Напишите скрипт, который возвращает название канала с максимальным объемом.\n",
    "Т. е. в данном примере скрипт должен возвращать 'yandex'."
   ]
  },
  {
   "cell_type": "code",
   "execution_count": 59,
   "metadata": {},
   "outputs": [],
   "source": [
    "stats = {'facebook': 55, 'yandex': 120, 'vk': 115, 'google': 99, 'email': 42, 'ok': 98}"
   ]
  },
  {
   "cell_type": "code",
   "execution_count": 67,
   "metadata": {},
   "outputs": [
    {
     "data": {
      "text/plain": [
       "'yandex'"
      ]
     },
     "execution_count": 67,
     "metadata": {},
     "output_type": "execute_result"
    }
   ],
   "source": [
    "sorted(stats.items(), key = lambda x: -x[1])[0][0]"
   ]
  },
  {
   "cell_type": "code",
   "execution_count": null,
   "metadata": {},
   "outputs": [],
   "source": []
  },
  {
   "cell_type": "markdown",
   "metadata": {},
   "source": [
    "### Задание 5\n",
    "Дан поток логов по количеству просмотренных страниц для каждого пользователя. Список отсортирован по ID пользователя. Вам необходимо написать алгоритм, который считает среднее значение просмотров на пользователя. Т. е. надо посчитать отношение суммы всех просмотров к количеству уникальных пользователей. Учтите, что весь список stream не помещается в оперативную память, т. е. его нужно обрабатывать поэлементно в цикле."
   ]
  },
  {
   "cell_type": "code",
   "execution_count": 68,
   "metadata": {},
   "outputs": [],
   "source": [
    "stream = [\n",
    "    '2018-01-01,user1,3',\n",
    "    '2018-01-07,user1,4',\n",
    "    '2018-03-29,user1,1',\n",
    "    '2018-04-04,user1,13',\n",
    "    '2018-01-05,user2,7',\n",
    "    '2018-06-14,user3,4',\n",
    "    '2018-07-02,user3,10',\n",
    "    '2018-03-21,user4,19',\n",
    "    '2018-03-22,user4,4',\n",
    "    '2018-04-22,user4,8',\n",
    "    '2018-05-03,user4,9',\n",
    "    '2018-05-11,user4,11',\n",
    "]"
   ]
  },
  {
   "cell_type": "code",
   "execution_count": 73,
   "metadata": {},
   "outputs": [
    {
     "name": "stdout",
     "output_type": "stream",
     "text": [
      "2018-01-01 user1 3\n",
      "2018-01-07 user1 4\n",
      "2018-03-29 user1 1\n",
      "2018-04-04 user1 13\n",
      "2018-01-05 user2 7\n",
      "2018-06-14 user3 4\n",
      "2018-07-02 user3 10\n",
      "2018-03-21 user4 19\n",
      "2018-03-22 user4 4\n",
      "2018-04-22 user4 8\n",
      "2018-05-03 user4 9\n",
      "2018-05-11 user4 11\n"
     ]
    }
   ],
   "source": [
    "previous_user_id = None\n",
    "total_users = 0\n",
    "total_pageviews = 0\n",
    "\n",
    "for line in stream:\n",
    "    date, user_id, pageviews = line.split(',')\n",
    "    print(date, user_id, pageviews)\n",
    "    \n",
    "    total_pageviews += int(pageviews)\n",
    "    \n",
    "    if previous_user_id:\n",
    "        if user_id != previous_user_id:\n",
    "            total_users += 1\n",
    "            previous_user_id = user_id\n",
    "    else:\n",
    "        previous_user_id = user_id\n",
    "        total_users = 1"
   ]
  },
  {
   "cell_type": "code",
   "execution_count": 75,
   "metadata": {},
   "outputs": [
    {
     "data": {
      "text/plain": [
       "23.25"
      ]
     },
     "execution_count": 75,
     "metadata": {},
     "output_type": "execute_result"
    }
   ],
   "source": [
    "total_pageviews / total_users"
   ]
  },
  {
   "cell_type": "markdown",
   "metadata": {},
   "source": [
    "### Задание 6\n",
    "Дана статистика рекламных кампаний по дням. Напишите алгоритм, который по паре дата-кампания ищет значение численного столбца. Т. е. для даты '2018-01-01' и 'google' нужно получить число 25. Считайте, что все комбинации дата-кампания уникальны, а список stats легко помещается в оперативной памяти."
   ]
  },
  {
   "cell_type": "code",
   "execution_count": 76,
   "metadata": {},
   "outputs": [],
   "source": [
    "stats = [\n",
    "    ['2018-01-01', 'google', 25],\n",
    "    ['2018-01-01', 'yandex', 65],\n",
    "    ['2018-01-01', 'market', 89],\n",
    "    ['2018-01-02', 'google', 574],\n",
    "    ['2018-01-02', 'yandex', 249],\n",
    "    ['2018-01-02', 'market', 994],\n",
    "    ['2018-01-03', 'google', 1843],\n",
    "    ['2018-01-03', 'yandex', 1327],\n",
    "    ['2018-01-03', 'market', 1764],\n",
    "]"
   ]
  },
  {
   "cell_type": "code",
   "execution_count": 77,
   "metadata": {},
   "outputs": [],
   "source": [
    "date = '2018-01-01'\n",
    "campaign = 'google'"
   ]
  },
  {
   "cell_type": "code",
   "execution_count": 80,
   "metadata": {},
   "outputs": [
    {
     "name": "stdout",
     "output_type": "stream",
     "text": [
      "25\n"
     ]
    }
   ],
   "source": [
    "for line in stats:\n",
    "    if date == line[0] and campaign == line[1]:\n",
    "        print(line[2])"
   ]
  },
  {
   "cell_type": "code",
   "execution_count": 81,
   "metadata": {},
   "outputs": [],
   "source": [
    "line_to_search = ['2018-01-01', 'google']"
   ]
  },
  {
   "cell_type": "code",
   "execution_count": 82,
   "metadata": {},
   "outputs": [
    {
     "name": "stdout",
     "output_type": "stream",
     "text": [
      "25\n"
     ]
    }
   ],
   "source": [
    "for line in stats:\n",
    "    if line_to_search == line[:-1]:\n",
    "        print(line[-1])"
   ]
  },
  {
   "cell_type": "code",
   "execution_count": 83,
   "metadata": {},
   "outputs": [
    {
     "data": {
      "text/plain": [
       "{('2018-01-01', 'google'): 25,\n",
       " ('2018-01-01', 'market'): 89,\n",
       " ('2018-01-01', 'yandex'): 65,\n",
       " ('2018-01-02', 'google'): 574,\n",
       " ('2018-01-02', 'market'): 994,\n",
       " ('2018-01-02', 'yandex'): 249,\n",
       " ('2018-01-03', 'google'): 1843,\n",
       " ('2018-01-03', 'market'): 1764,\n",
       " ('2018-01-03', 'yandex'): 1327}"
      ]
     },
     "execution_count": 83,
     "metadata": {},
     "output_type": "execute_result"
    }
   ],
   "source": [
    "stats_dict = {}\n",
    "\n",
    "for line in stats:\n",
    "    stats_dict[(line[0], line[1])] = line[2]\n",
    "    \n",
    "stats_dict"
   ]
  },
  {
   "cell_type": "code",
   "execution_count": 84,
   "metadata": {},
   "outputs": [
    {
     "data": {
      "text/plain": [
       "25"
      ]
     },
     "execution_count": 84,
     "metadata": {},
     "output_type": "execute_result"
    }
   ],
   "source": [
    "stats_dict[('2018-01-01', 'google')]"
   ]
  },
  {
   "cell_type": "markdown",
   "metadata": {},
   "source": [
    "# Домашнее задание 3"
   ]
  },
  {
   "cell_type": "markdown",
   "metadata": {},
   "source": [
    "### Задание 1\n",
    "\n",
    "Дан список вида:\n",
    "data = [\n",
    "\t[13, 25, 23, 34],\n",
    "\t[45, 32, 44, 47],\n",
    "\t[12, 33, 23, 95],\n",
    "\t[13, 53, 34, 35],\n",
    "]\n",
    "\n",
    "Напишите функцию, которая возвращает сумму элементов на диагонали. Т. е. 13+32+23+35."
   ]
  },
  {
   "cell_type": "code",
   "execution_count": null,
   "metadata": {},
   "outputs": [],
   "source": [
    "data = [\n",
    "    [13, 25, 23, 34],\n",
    "    [45, 32, 44, 47],\n",
    "    [12, 33, 23, 95],\n",
    "    [13, 53, 34, 35],\n",
    "]"
   ]
  },
  {
   "cell_type": "code",
   "execution_count": null,
   "metadata": {},
   "outputs": [],
   "source": [
    "def diagonal_sum(data):\n",
    "    sum_ = 0\n",
    "    \n",
    "    for i in range(len(data)):\n",
    "        sum_ += data[i][i]\n",
    "    \n",
    "    return sum_"
   ]
  },
  {
   "cell_type": "code",
   "execution_count": null,
   "metadata": {},
   "outputs": [],
   "source": [
    "diagonal_sum(data)"
   ]
  },
  {
   "cell_type": "markdown",
   "metadata": {},
   "source": [
    "### Задание 2\n",
    "Дан список чисел, часть из которых имеют строковый тип или содержат буквы. Напишите функцию, которая возвращает сумму квадратов элементов, которые могут быть числами."
   ]
  },
  {
   "cell_type": "code",
   "execution_count": 85,
   "metadata": {},
   "outputs": [],
   "source": [
    "data = [1, '5', 'abc', 20, '2']"
   ]
  },
  {
   "cell_type": "code",
   "execution_count": null,
   "metadata": {},
   "outputs": [],
   "source": [
    "try:\n",
    "    sum_ += data[i]\n",
    "except:\n",
    "    pass"
   ]
  },
  {
   "cell_type": "code",
   "execution_count": 87,
   "metadata": {},
   "outputs": [
    {
     "data": {
      "text/plain": [
       "False"
      ]
     },
     "execution_count": 87,
     "metadata": {},
     "output_type": "execute_result"
    }
   ],
   "source": [
    "'abc'.isdigit()"
   ]
  },
  {
   "cell_type": "markdown",
   "metadata": {},
   "source": [
    "### Задание 3\n",
    "Напишите функцию, которая возвращает название валюты (поле 'Name') с максимальным значением курса с помощью сервиса https://www.cbr-xml-daily.ru/daily_json.js"
   ]
  },
  {
   "cell_type": "code",
   "execution_count": 88,
   "metadata": {},
   "outputs": [],
   "source": [
    "class Rate:\n",
    "    def __init__(self, format='value'):\n",
    "        self.format = format\n",
    "    \n",
    "    def exchange_rates(self):\n",
    "        \"\"\"\n",
    "        Возвращает ответ сервиса с информацией о валютах в виде:\n",
    "        \n",
    "        {\n",
    "            'AMD': {\n",
    "                'CharCode': 'AMD',\n",
    "                'ID': 'R01060',\n",
    "                'Name': 'Армянских драмов',\n",
    "                'Nominal': 100,\n",
    "                'NumCode': '051',\n",
    "                'Previous': 14.103,\n",
    "                'Value': 14.0879\n",
    "                },\n",
    "            ...\n",
    "        }\n",
    "        \"\"\"\n",
    "        r = requests.get('https://www.cbr-xml-daily.ru/daily_json.js')\n",
    "        return r.json()['Valute']\n",
    "    \n",
    "    def make_format(self, currency):\n",
    "        \"\"\"\n",
    "        Возвращает информацию о валюте currency в двух вариантах:\n",
    "        - полная информация о валюте при self.format = 'full':\n",
    "        Rate('full').make_format('EUR')\n",
    "        {\n",
    "            'CharCode': 'EUR',\n",
    "            'ID': 'R01239',\n",
    "            'Name': 'Евро',\n",
    "            'Nominal': 1,\n",
    "            'NumCode': '978',\n",
    "            'Previous': 79.6765,\n",
    "            'Value': 79.4966\n",
    "        }\n",
    "        \n",
    "        Rate('value').make_format('EUR')\n",
    "        79.4966\n",
    "        \"\"\"\n",
    "        response = self.exchange_rates()\n",
    "        \n",
    "        if currency in response:\n",
    "            if self.format == 'full':\n",
    "                return response[currency]\n",
    "            \n",
    "            if self.format == 'value':\n",
    "                return response[currency]['Value']\n",
    "        \n",
    "        return 'Error'\n",
    "    \n",
    "    def eur(self):\n",
    "        \"\"\"Возвращает курс евро на сегодня в формате self.format\"\"\"\n",
    "        return self.make_format('EUR')\n",
    "    \n",
    "    def usd(self):\n",
    "        \"\"\"Возвращает курс доллара на сегодня в формате self.format\"\"\"\n",
    "        return self.make_format('USD')"
   ]
  },
  {
   "cell_type": "code",
   "execution_count": 90,
   "metadata": {},
   "outputs": [],
   "source": [
    "import requests"
   ]
  },
  {
   "cell_type": "code",
   "execution_count": 96,
   "metadata": {},
   "outputs": [
    {
     "data": {
      "text/plain": [
       "[('XDR',\n",
       "  {'CharCode': 'XDR',\n",
       "   'ID': 'R01589',\n",
       "   'Name': 'СДР (специальные права заимствования)',\n",
       "   'Nominal': 1,\n",
       "   'NumCode': '960',\n",
       "   'Previous': 90.9974,\n",
       "   'Value': 90.0431}),\n",
       " ('GBP',\n",
       "  {'CharCode': 'GBP',\n",
       "   'ID': 'R01035',\n",
       "   'Name': 'Фунт стерлингов Соединенного королевства',\n",
       "   'Nominal': 1,\n",
       "   'NumCode': '826',\n",
       "   'Previous': 86.6031,\n",
       "   'Value': 85.7452}),\n",
       " ('EUR',\n",
       "  {'CharCode': 'EUR',\n",
       "   'ID': 'R01239',\n",
       "   'Name': 'Евро',\n",
       "   'Nominal': 1,\n",
       "   'NumCode': '978',\n",
       "   'Previous': 74.0686,\n",
       "   'Value': 73.361}),\n",
       " ('USD',\n",
       "  {'CharCode': 'USD',\n",
       "   'ID': 'R01235',\n",
       "   'Name': 'Доллар США',\n",
       "   'Nominal': 1,\n",
       "   'NumCode': '840',\n",
       "   'Previous': 65.4201,\n",
       "   'Value': 64.6694}),\n",
       " ('CHF',\n",
       "  {'CharCode': 'CHF',\n",
       "   'ID': 'R01775',\n",
       "   'Name': 'Швейцарский франк',\n",
       "   'Nominal': 1,\n",
       "   'NumCode': '756',\n",
       "   'Previous': 65.2504,\n",
       "   'Value': 64.5661}),\n",
       " ('CAD',\n",
       "  {'CharCode': 'CAD',\n",
       "   'ID': 'R01350',\n",
       "   'Name': 'Канадский доллар',\n",
       "   'Nominal': 1,\n",
       "   'NumCode': '124',\n",
       "   'Previous': 49.2065,\n",
       "   'Value': 48.5615}),\n",
       " ('SGD',\n",
       "  {'CharCode': 'SGD',\n",
       "   'ID': 'R01625',\n",
       "   'Name': 'Сингапурский доллар',\n",
       "   'Nominal': 1,\n",
       "   'NumCode': '702',\n",
       "   'Previous': 48.3233,\n",
       "   'Value': 47.843}),\n",
       " ('AUD',\n",
       "  {'CharCode': 'AUD',\n",
       "   'ID': 'R01010',\n",
       "   'Name': 'Австралийский доллар',\n",
       "   'Nominal': 1,\n",
       "   'NumCode': '036',\n",
       "   'Previous': 46.3763,\n",
       "   'Value': 46.0187}),\n",
       " ('AZN',\n",
       "  {'CharCode': 'AZN',\n",
       "   'ID': 'R01020A',\n",
       "   'Name': 'Азербайджанский манат',\n",
       "   'Nominal': 1,\n",
       "   'NumCode': '944',\n",
       "   'Previous': 38.5618,\n",
       "   'Value': 38.1193}),\n",
       " ('BGN',\n",
       "  {'CharCode': 'BGN',\n",
       "   'ID': 'R01100',\n",
       "   'Name': 'Болгарский лев',\n",
       "   'Nominal': 1,\n",
       "   'NumCode': '975',\n",
       "   'Previous': 37.883,\n",
       "   'Value': 37.5091}),\n",
       " ('BYN',\n",
       "  {'CharCode': 'BYN',\n",
       "   'ID': 'R01090B',\n",
       "   'Name': 'Белорусский рубль',\n",
       "   'Nominal': 1,\n",
       "   'NumCode': '933',\n",
       "   'Previous': 30.7425,\n",
       "   'Value': 30.5982}),\n",
       " ('TMT',\n",
       "  {'CharCode': 'TMT',\n",
       "   'ID': 'R01710A',\n",
       "   'Name': 'Новый туркменский манат',\n",
       "   'Nominal': 1,\n",
       "   'NumCode': '934',\n",
       "   'Previous': 18.7182,\n",
       "   'Value': 18.5034}),\n",
       " ('PLN',\n",
       "  {'CharCode': 'PLN',\n",
       "   'ID': 'R01565',\n",
       "   'Name': 'Польский злотый',\n",
       "   'Nominal': 1,\n",
       "   'NumCode': '985',\n",
       "   'Previous': 17.2199,\n",
       "   'Value': 17.0632}),\n",
       " ('BRL',\n",
       "  {'CharCode': 'BRL',\n",
       "   'ID': 'R01115',\n",
       "   'Name': 'Бразильский реал',\n",
       "   'Nominal': 1,\n",
       "   'NumCode': '986',\n",
       "   'Previous': 17.0276,\n",
       "   'Value': 16.9411}),\n",
       " ('RON',\n",
       "  {'CharCode': 'RON',\n",
       "   'ID': 'R01585F',\n",
       "   'Name': 'Румынский лей',\n",
       "   'Nominal': 1,\n",
       "   'NumCode': '946',\n",
       "   'Previous': 15.5729,\n",
       "   'Value': 15.4335}),\n",
       " ('TRY',\n",
       "  {'CharCode': 'TRY',\n",
       "   'ID': 'R01700J',\n",
       "   'Name': 'Турецкая лира',\n",
       "   'Nominal': 1,\n",
       "   'NumCode': '949',\n",
       "   'Previous': 11.9556,\n",
       "   'Value': 11.8329}),\n",
       " ('DKK',\n",
       "  {'CharCode': 'DKK',\n",
       "   'ID': 'R01215',\n",
       "   'Name': 'Датских крон',\n",
       "   'Nominal': 10,\n",
       "   'NumCode': '208',\n",
       "   'Previous': 99.2808,\n",
       "   'Value': 98.3057}),\n",
       " ('CNY',\n",
       "  {'CharCode': 'CNY',\n",
       "   'ID': 'R01375',\n",
       "   'Name': 'Китайских юаней',\n",
       "   'Nominal': 10,\n",
       "   'NumCode': '156',\n",
       "   'Previous': 97.4558,\n",
       "   'Value': 96.3504}),\n",
       " ('HKD',\n",
       "  {'CharCode': 'HKD',\n",
       "   'ID': 'R01200',\n",
       "   'Name': 'Гонконгских долларов',\n",
       "   'Nominal': 10,\n",
       "   'NumCode': '344',\n",
       "   'Previous': 83.3409,\n",
       "   'Value': 82.3814}),\n",
       " ('NOK',\n",
       "  {'CharCode': 'NOK',\n",
       "   'ID': 'R01535',\n",
       "   'Name': 'Норвежских крон',\n",
       "   'Nominal': 10,\n",
       "   'NumCode': '578',\n",
       "   'Previous': 76.5738,\n",
       "   'Value': 75.8185}),\n",
       " ('SEK',\n",
       "  {'CharCode': 'SEK',\n",
       "   'ID': 'R01770',\n",
       "   'Name': 'Шведских крон',\n",
       "   'Nominal': 10,\n",
       "   'NumCode': '752',\n",
       "   'Previous': 70.6305,\n",
       "   'Value': 70.0568}),\n",
       " ('TJS',\n",
       "  {'CharCode': 'TJS',\n",
       "   'ID': 'R01670',\n",
       "   'Name': 'Таджикских сомони',\n",
       "   'Nominal': 10,\n",
       "   'NumCode': '972',\n",
       "   'Previous': 69.3193,\n",
       "   'Value': 68.542}),\n",
       " ('ZAR',\n",
       "  {'CharCode': 'ZAR',\n",
       "   'ID': 'R01810',\n",
       "   'Name': 'Южноафриканских рэндов',\n",
       "   'Nominal': 10,\n",
       "   'NumCode': '710',\n",
       "   'Previous': 45.3063,\n",
       "   'Value': 44.8048}),\n",
       " ('MDL',\n",
       "  {'CharCode': 'MDL',\n",
       "   'ID': 'R01500',\n",
       "   'Name': 'Молдавских леев',\n",
       "   'Nominal': 10,\n",
       "   'NumCode': '498',\n",
       "   'Previous': 37.9797,\n",
       "   'Value': 37.5439}),\n",
       " ('CZK',\n",
       "  {'CharCode': 'CZK',\n",
       "   'ID': 'R01760',\n",
       "   'Name': 'Чешских крон',\n",
       "   'Nominal': 10,\n",
       "   'NumCode': '203',\n",
       "   'Previous': 28.8703,\n",
       "   'Value': 28.6148}),\n",
       " ('UAH',\n",
       "  {'CharCode': 'UAH',\n",
       "   'ID': 'R01720',\n",
       "   'Name': 'Украинских гривен',\n",
       "   'Nominal': 10,\n",
       "   'NumCode': '980',\n",
       "   'Previous': 24.1661,\n",
       "   'Value': 23.8206}),\n",
       " ('INR',\n",
       "  {'CharCode': 'INR',\n",
       "   'ID': 'R01270',\n",
       "   'Name': 'Индийских рупий',\n",
       "   'Nominal': 100,\n",
       "   'NumCode': '356',\n",
       "   'Previous': 94.7122,\n",
       "   'Value': 94.3376}),\n",
       " ('KGS',\n",
       "  {'CharCode': 'KGS',\n",
       "   'ID': 'R01370',\n",
       "   'Name': 'Киргизских сомов',\n",
       "   'Nominal': 100,\n",
       "   'NumCode': '417',\n",
       "   'Previous': 93.7251,\n",
       "   'Value': 92.716}),\n",
       " ('JPY',\n",
       "  {'CharCode': 'JPY',\n",
       "   'ID': 'R01820',\n",
       "   'Name': 'Японских иен',\n",
       "   'Nominal': 100,\n",
       "   'NumCode': '392',\n",
       "   'Previous': 58.5651,\n",
       "   'Value': 57.9917}),\n",
       " ('HUF',\n",
       "  {'CharCode': 'HUF',\n",
       "   'ID': 'R01135',\n",
       "   'Name': 'Венгерских форинтов',\n",
       "   'Nominal': 100,\n",
       "   'NumCode': '348',\n",
       "   'Previous': 23.568,\n",
       "   'Value': 23.34}),\n",
       " ('KZT',\n",
       "  {'CharCode': 'KZT',\n",
       "   'ID': 'R01335',\n",
       "   'Name': 'Казахстанских тенге',\n",
       "   'Nominal': 100,\n",
       "   'NumCode': '398',\n",
       "   'Previous': 17.2485,\n",
       "   'Value': 17.1865}),\n",
       " ('AMD',\n",
       "  {'CharCode': 'AMD',\n",
       "   'ID': 'R01060',\n",
       "   'Name': 'Армянских драмов',\n",
       "   'Nominal': 100,\n",
       "   'NumCode': '051',\n",
       "   'Previous': 13.4264,\n",
       "   'Value': 13.3037}),\n",
       " ('KRW',\n",
       "  {'CharCode': 'KRW',\n",
       "   'ID': 'R01815',\n",
       "   'Name': 'Вон Республики Корея',\n",
       "   'Nominal': 1000,\n",
       "   'NumCode': '410',\n",
       "   'Previous': 57.5732,\n",
       "   'Value': 57.0795}),\n",
       " ('UZS',\n",
       "  {'CharCode': 'UZS',\n",
       "   'ID': 'R01717',\n",
       "   'Name': 'Узбекских сумов',\n",
       "   'Nominal': 10000,\n",
       "   'NumCode': '860',\n",
       "   'Previous': 78.1457,\n",
       "   'Value': 77.2486})]"
      ]
     },
     "execution_count": 96,
     "metadata": {},
     "output_type": "execute_result"
    }
   ],
   "source": [
    "sorted(Rate().exchange_rates().items(), key = lambda x: -x[1]['Value'] / x[1]['Nominal'])"
   ]
  },
  {
   "cell_type": "markdown",
   "metadata": {},
   "source": [
    "### Задание 4\n",
    "Добавьте в класс параметр diff (со значениями True или False), который в случае значения True в методах eur и usd будет возвращать не курс валюты, а изменение по сравнению в прошлым значением."
   ]
  },
  {
   "cell_type": "code",
   "execution_count": 98,
   "metadata": {},
   "outputs": [],
   "source": [
    "class Rate:\n",
    "    def __init__(self, format='value', diff=False):\n",
    "        self.format = format\n",
    "        self.diff = diff\n",
    "    \n",
    "    def exchange_rates(self):\n",
    "        \"\"\"\n",
    "        Возвращает ответ сервиса с информацией о валютах в виде:\n",
    "        \n",
    "        {\n",
    "            'AMD': {\n",
    "                'CharCode': 'AMD',\n",
    "                'ID': 'R01060',\n",
    "                'Name': 'Армянских драмов',\n",
    "                'Nominal': 100,\n",
    "                'NumCode': '051',\n",
    "                'Previous': 14.103,\n",
    "                'Value': 14.0879\n",
    "                },\n",
    "            ...\n",
    "        }\n",
    "        \"\"\"\n",
    "        r = requests.get('https://www.cbr-xml-daily.ru/daily_json.js')\n",
    "        return r.json()['Valute']\n",
    "    \n",
    "    def make_format(self, currency):\n",
    "        \"\"\"\n",
    "        Возвращает информацию о валюте currency в двух вариантах:\n",
    "        - полная информация о валюте при self.format = 'full':\n",
    "        Rate('full').make_format('EUR')\n",
    "        {\n",
    "            'CharCode': 'EUR',\n",
    "            'ID': 'R01239',\n",
    "            'Name': 'Евро',\n",
    "            'Nominal': 1,\n",
    "            'NumCode': '978',\n",
    "            'Previous': 79.6765,\n",
    "            'Value': 79.4966\n",
    "        }\n",
    "        \n",
    "        Rate('value').make_format('EUR')\n",
    "        79.4966\n",
    "        \"\"\"\n",
    "        response = self.exchange_rates()\n",
    "        \n",
    "        if currency in response:\n",
    "            if self.format == 'full':\n",
    "                return response[currency]\n",
    "            \n",
    "            if self.format == 'value':\n",
    "                if self.diff:\n",
    "                    return response[currency]['Value'] - response[currency]['Previous']\n",
    "                else:\n",
    "                    return response[currency]['Value']\n",
    "        \n",
    "        return 'Error'\n",
    "    \n",
    "    def eur(self):\n",
    "        \"\"\"Возвращает курс евро на сегодня в формате self.format\"\"\"\n",
    "        return self.make_format('EUR')\n",
    "    \n",
    "    def usd(self):\n",
    "        \"\"\"Возвращает курс доллара на сегодня в формате self.format\"\"\"\n",
    "        return self.make_format('USD')"
   ]
  },
  {
   "cell_type": "code",
   "execution_count": 100,
   "metadata": {},
   "outputs": [
    {
     "data": {
      "text/plain": [
       "-0.750700000000009"
      ]
     },
     "execution_count": 100,
     "metadata": {},
     "output_type": "execute_result"
    }
   ],
   "source": [
    "Rate(diff=True).usd()"
   ]
  },
  {
   "cell_type": "markdown",
   "metadata": {},
   "source": [
    "### Задание 5\n",
    "Напишите функцию, возвращающую сумму первых n чисел Фибоначчи"
   ]
  },
  {
   "cell_type": "code",
   "execution_count": null,
   "metadata": {},
   "outputs": [],
   "source": [
    "# https://stackoverflow.com/questions/494594/how-to-write-the-fibonacci-sequence\n",
    "def fib(n):\n",
    "    if n < 2:\n",
    "        return n\n",
    "    return fib(n-2) + fib(n-1)\n",
    "\n",
    "print(list(map(fib, range(1, 23))))"
   ]
  },
  {
   "cell_type": "markdown",
   "metadata": {},
   "source": [
    "### Задание 6\n",
    "Напишите функцию, преобразующую произвольный список вида ['2018-01-01', 'yandex', 'cpc', 100] в словарь {'2018-01-01': {'yandex': {'cpc': 100}}}"
   ]
  },
  {
   "cell_type": "code",
   "execution_count": 101,
   "metadata": {},
   "outputs": [],
   "source": [
    "def recursion_dict(a):\n",
    "    if len(a) > 2:\n",
    "        return {a[0]: recursion_dict(a[1:])}\n",
    "    else:\n",
    "        return {a[0]: a[1]}"
   ]
  },
  {
   "cell_type": "code",
   "execution_count": 102,
   "metadata": {},
   "outputs": [
    {
     "data": {
      "text/plain": [
       "{'2018-01-01': {'yandex': {'cpc': 100}}}"
      ]
     },
     "execution_count": 102,
     "metadata": {},
     "output_type": "execute_result"
    }
   ],
   "source": [
    "recursion_dict(['2018-01-01', 'yandex', 'cpc', 100] )"
   ]
  }
 ],
 "metadata": {
  "kernelspec": {
   "display_name": "Python 3",
   "language": "python",
   "name": "python3"
  },
  "language_info": {
   "codemirror_mode": {
    "name": "ipython",
    "version": 3
   },
   "file_extension": ".py",
   "mimetype": "text/x-python",
   "name": "python",
   "nbconvert_exporter": "python",
   "pygments_lexer": "ipython3",
   "version": "3.6.4"
  }
 },
 "nbformat": 4,
 "nbformat_minor": 2
}
