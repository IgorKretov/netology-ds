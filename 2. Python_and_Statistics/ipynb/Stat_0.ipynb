{
 "cells": [
  {
   "cell_type": "code",
   "execution_count": 1,
   "metadata": {},
   "outputs": [],
   "source": [
    "# библиотеки\n",
    "import seaborn as sns\n",
    "import pandas as pd\n",
    "import numpy as np\n",
    "import matplotlib.pyplot as plt\n",
    "import scipy.stats as sts"
   ]
  },
  {
   "cell_type": "code",
   "execution_count": 2,
   "metadata": {},
   "outputs": [],
   "source": [
    "# начали !\n",
    "\n",
    "a=np.array([2, 8, 0, 4, 1, 9, 9, 0])"
   ]
  },
  {
   "cell_type": "code",
   "execution_count": 3,
   "metadata": {},
   "outputs": [
    {
     "data": {
      "text/plain": [
       "<matplotlib.axes._subplots.AxesSubplot at 0x7fe7bdb70048>"
      ]
     },
     "execution_count": 3,
     "metadata": {},
     "output_type": "execute_result"
    },
    {
     "data": {
      "image/png": "[encoded data removed]",
      "text/plain": [
       "<Figure size 432x288 with 1 Axes>"
      ]
     },
     "metadata": {
      "needs_background": "light"
     },
     "output_type": "display_data"
    }
   ],
   "source": [
    "# Слайд 4:\n",
    "\n",
    "sns.countplot(a)"
   ]
  },
  {
   "cell_type": "code",
   "execution_count": 4,
   "metadata": {},
   "outputs": [
    {
     "data": {
      "text/plain": [
       "<matplotlib.axes._subplots.AxesSubplot at 0x7fe7bd85e550>"
      ]
     },
     "execution_count": 4,
     "metadata": {},
     "output_type": "execute_result"
    },
    {
     "data": {
      "image/png": "[encoded data removed]",
      "text/plain": [
       "<Figure size 432x288 with 1 Axes>"
      ]
     },
     "metadata": {
      "needs_background": "light"
     },
     "output_type": "display_data"
    }
   ],
   "source": [
    "sns.boxplot(a)"
   ]
  },
  {
   "cell_type": "code",
   "execution_count": null,
   "metadata": {},
   "outputs": [],
   "source": []
  },
  {
   "cell_type": "code",
   "execution_count": null,
   "metadata": {},
   "outputs": [],
   "source": [
    "# Слайд 6-11:\n",
    "\n",
    "np.mean(a)\n",
    "\n",
    "np.median(a)\n",
    "\n",
    "np.min(a)\n",
    "np.max(a)\n",
    "\n",
    "np.quantile(a,0.25)\n",
    "np.std(a)\n",
    "np.var(a)\n",
    "\n",
    "sts.kurtosis(a)\n",
    "\n",
    "sts.skew(a)\n",
    "\n",
    "sts.mode(a)\n",
    "\n",
    "\n",
    "# Слайд 12-16:\n",
    "\n",
    "\n",
    "\n",
    "# нормальное распределение\n",
    "\n",
    "\n",
    "# https://docs.scipy.org/doc/scipy-0.16.1/reference/generated/scipy.stats.norm.html\n",
    "\n",
    "mu = 2.0\n",
    "sigma = 0.5\n",
    "\n",
    "norm_rv = sts.norm(loc=mu, scale=sigma)\n",
    "\n",
    "\n",
    "x = np.linspace(0,4,100)\n",
    "pdf = norm_rv.pdf(x)\n",
    "plt.plot(x, pdf)\n",
    "\n",
    "plt.ylabel('$f(x)$')\n",
    "plt.xlabel('$x$')\n",
    "\n",
    "\n",
    "\n",
    "x = np.linspace(0,4,100)\n",
    "cdf = norm_rv.cdf(x)\n",
    "plt.plot(x, cdf)\n",
    "plt.ylabel('$F(x)$')\n",
    "plt.xlabel('$x$')\n",
    "\n",
    "\n",
    "# оценка симметрии\n",
    "sts.norm(0, 1).cdf(0)\n",
    "\n",
    "\n",
    "# Правило трех сигм:\n",
    "\n",
    "sts.norm(0, 1).cdf(1)-sts.norm(0, 1).cdf(-1)\n",
    "\n",
    "\n",
    "\n",
    "# равномерное распредление\n",
    "\n",
    "\n",
    "# https://docs.scipy.org/doc/scipy/reference/generated/scipy.stats.uniform.html\n",
    "\n",
    "a = 1\n",
    "b = 4\n",
    "\n",
    "uniform_rv = sts.uniform(a, b-a)\n",
    "\n",
    "\n",
    "x = np.linspace(0,5,100)\n",
    "cdf = uniform_rv.cdf(x)\n",
    "plt.plot(x, cdf)\n",
    "\n",
    "plt.ylabel('$F(x)$')\n",
    "plt.xlabel('$x$')\n",
    "\n",
    "\n",
    "\n",
    "x = np.linspace(0,5,1000)\n",
    "pdf = uniform_rv.pdf(x)\n",
    "plt.plot(x, pdf)\n",
    "\n",
    "plt.ylabel('$f(x)$')\n",
    "plt.xlabel('$x$')\n",
    "\n",
    "\n",
    "# распределение Бернулли\n",
    "\n",
    "\n",
    "# https://docs.scipy.org/doc/scipy/reference/generated/scipy.stats.bernoulli.html\n",
    "\n",
    "bernoulli_rv = sts.bernoulli(0.7)\n",
    "\n",
    "b  =bernoulli_rv.rvs(300)\n",
    "\n",
    "print(abs(np.sum(b) - 300 * 0.7) / 300)\n",
    "\n",
    "\n",
    "\n",
    "\n",
    "# биномиальное распределение\n",
    "\n",
    "\n",
    "# https://docs.scipy.org/doc/scipy/reference/generated/scipy.stats.binom.html\n",
    "\n",
    "binomial_rv = sts.binom(20, 0.9)\n",
    "\n",
    "\n",
    "x = np.linspace(0,20,21)\n",
    "cdf = binomial_rv.cdf(x)\n",
    "plt.step(x, cdf)\n",
    "\n",
    "plt.ylabel('$F(x)$')\n",
    "plt.xlabel('$x$')\n",
    "\n",
    "\n",
    "\n",
    "pmf = binomial_rv.pmf(x)\n",
    "plt.plot(x, pmf, 'o')\n",
    "\n",
    "plt.ylabel('$P(X=x)$')\n",
    "plt.xlabel('$x$')\n",
    "\n",
    "\n",
    "# распределение Пуассона\n",
    "\n",
    "\n",
    "# https://docs.scipy.org/doc/scipy-1.1.0/reference/generated/scipy.stats.poisson.html\n",
    "\n",
    "mu=3\n",
    "poisson_rv=sts.poisson(mu)\n",
    "\n",
    "\n",
    "x = np.linspace(0,20,21)\n",
    "cdf = poisson_rv.cdf(x)\n",
    "plt.step(x, cdf)\n",
    "\n",
    "plt.ylabel('$F(x)$')\n",
    "plt.xlabel('$x$')\n",
    "\n",
    "\n",
    "\n",
    "pmf = poisson_rv.pmf(x)\n",
    "plt.plot(x, pmf, 'o')\n",
    "\n",
    "plt.ylabel('$P(X=x)$')\n",
    "plt.xlabel('$x$')\n",
    "\n",
    "\n",
    "\n",
    "# бета распределение\n",
    "\n",
    "\n",
    "# https://docs.scipy.org/doc/scipy/reference/generated/scipy.stats.beta.html\n",
    "\n",
    "a, b=2.31, 0.627\n",
    "\n",
    "beta_rv=sts.beta(a, b)\n",
    "\n",
    "\n",
    "x = np.linspace(0,20,21)\n",
    "cdf = beta_rv.cdf(x)\n",
    "plt.step(x, cdf)\n",
    "\n",
    "plt.ylabel('$F(x)$')\n",
    "plt.xlabel('$x$')\n",
    "\n",
    "\n",
    "\n",
    "pdf = beta_rv.pdf(x)\n",
    "plt.plot(x, pdf, 'o')\n",
    "\n",
    "plt.ylabel('$P(X=x)$')\n",
    "plt.xlabel('$x$')"
   ]
  }
 ],
 "metadata": {
  "kernelspec": {
   "display_name": "Python 3",
   "language": "python",
   "name": "python3"
  },
  "language_info": {
   "codemirror_mode": {
    "name": "ipython",
    "version": 3
   },
   "file_extension": ".py",
   "mimetype": "text/x-python",
   "name": "python",
   "nbconvert_exporter": "python",
   "pygments_lexer": "ipython3",
   "version": "3.7.2"
  }
 },
 "nbformat": 4,
 "nbformat_minor": 2
}
