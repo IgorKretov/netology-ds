{
 "cells": [
  {
   "cell_type": "markdown",
   "metadata": {},
   "source": [
    "## Лабораторная работа по модулю “Построение моделей”"
   ]
  },
  {
   "cell_type": "markdown",
   "metadata": {},
   "source": [
    "<pre>\n",
    "ФИО: Никифоров Владимир\n",
    "</pre>"
   ]
  },
  {
   "cell_type": "markdown",
   "metadata": {},
   "source": [
    "В данной работе предлагается решить задачу мультиклассовой классификации для датасета флагов различных стран\n",
    "(https://archive.ics.uci.edu/ml/datasets/Flags)\n",
    "1. Загрузить данные из папки Data Folder\n",
    "2. Провести описательный анализ предложенных данных\n",
    "3. Предложить стратегию по работе с категориальными переменными\n",
    "4. Провести углубленный анализ данных (корреляции переменных, визуализация взаимосвязей)\n",
    "5. Следует ли увеличивать/уменьшать размерность признакового множества (какой подход выдает лучшие результаты)\n",
    "6. Следует ли балансировать классы путем oversampling/undersampling? (улучшает ли подход результаты)\n",
    "7. Сделать кросс-валидацию данных с использованием подхода K-fold (n_folds=3)\n",
    "8. Решить задачу мультиклассовой классификации и предсказать религию страны (religion) по деталям ее флага\n",
    "9. Рассчитать Feature Importances для переменных модели\n",
    "10. Проверить качество классификации с использованием следующих метрик: Accuracy, F1-Score, Precision, Recall\n",
    "11. Построить Confusion Matrix для ваших результатов\n",
    "12. Загрузить ipython notebook с результатами работы на github репозиторий\n",
    "*Пункты, показавшиеся вам сложными, либо которые вы не знаете можно пропускать, но с пометкой в ноутбуке, что\n",
    "показалось сложным и непонятным в данном пункте для вас."
   ]
  },
  {
   "cell_type": "code",
   "execution_count": 1,
   "metadata": {},
   "outputs": [
    {
     "name": "stderr",
     "output_type": "stream",
     "text": [
      "/home/truename/anaconda3/lib/python3.7/site-packages/sklearn/ensemble/weight_boosting.py:29: DeprecationWarning: numpy.core.umath_tests is an internal NumPy module and should not be imported. It will be removed in a future NumPy release.\n",
      "  from numpy.core.umath_tests import inner1d\n"
     ]
    },
    {
     "ename": "ModuleNotFoundError",
     "evalue": "No module named 'imblearn'",
     "output_type": "error",
     "traceback": [
      "\u001b[0;31m---------------------------------------------------------------------------\u001b[0m",
      "\u001b[0;31mModuleNotFoundError\u001b[0m                       Traceback (most recent call last)",
      "\u001b[0;32m<ipython-input-1-9bde4969ef17>\u001b[0m in \u001b[0;36m<module>\u001b[0;34m()\u001b[0m\n\u001b[1;32m     16\u001b[0m \u001b[0;32mfrom\u001b[0m \u001b[0msklearn\u001b[0m\u001b[0;34m.\u001b[0m\u001b[0mfeature_selection\u001b[0m \u001b[0;32mimport\u001b[0m \u001b[0mSelectFromModel\u001b[0m\u001b[0;34m\u001b[0m\u001b[0;34m\u001b[0m\u001b[0m\n\u001b[1;32m     17\u001b[0m \u001b[0;34m\u001b[0m\u001b[0m\n\u001b[0;32m---> 18\u001b[0;31m \u001b[0;32mfrom\u001b[0m \u001b[0mimblearn\u001b[0m\u001b[0;34m.\u001b[0m\u001b[0mover_sampling\u001b[0m \u001b[0;32mimport\u001b[0m \u001b[0mSMOTE\u001b[0m\u001b[0;34m\u001b[0m\u001b[0;34m\u001b[0m\u001b[0m\n\u001b[0m\u001b[1;32m     19\u001b[0m \u001b[0;34m\u001b[0m\u001b[0m\n\u001b[1;32m     20\u001b[0m \u001b[0;32mimport\u001b[0m \u001b[0mmatplotlib\u001b[0m\u001b[0;34m.\u001b[0m\u001b[0mpyplot\u001b[0m \u001b[0;32mas\u001b[0m \u001b[0mplt\u001b[0m\u001b[0;34m\u001b[0m\u001b[0;34m\u001b[0m\u001b[0m\n",
      "\u001b[0;31mModuleNotFoundError\u001b[0m: No module named 'imblearn'"
     ]
    }
   ],
   "source": [
    "import warnings\n",
    "warnings.filterwarnings(\"ignore\")\n",
    "\n",
    "import numpy as np\n",
    "import pandas as pd\n",
    "\n",
    "\n",
    "from scipy.stats import pearsonr\n",
    "from sklearn import preprocessing\n",
    "from sklearn.decomposition import PCA\n",
    "from sklearn.linear_model import LogisticRegression\n",
    "from sklearn.tree import DecisionTreeClassifier\n",
    "from sklearn.ensemble import RandomForestClassifier\n",
    "from sklearn.metrics import roc_auc_score, roc_curve, precision_recall_curve, average_precision_score, accuracy_score, f1_score, precision_score, recall_score, classification_report, confusion_matrix\n",
    "from sklearn.model_selection import train_test_split, GridSearchCV, cross_val_score, cross_val_predict, RandomizedSearchCV\n",
    "from sklearn.feature_selection import SelectFromModel\n",
    "\n",
    "from imblearn.over_sampling import SMOTE\n",
    "\n",
    "import matplotlib.pyplot as plt\n",
    "import seaborn as sns\n",
    "\n",
    "%matplotlib inline"
   ]
  },
  {
   "cell_type": "code",
   "execution_count": null,
   "metadata": {},
   "outputs": [],
   "source": [
    "!cat ../data/flag.names"
   ]
  },
  {
   "cell_type": "code",
   "execution_count": null,
   "metadata": {},
   "outputs": [],
   "source": [
    "RANDOM_STATE = 7\n",
    "class_names=['Catholic', 'Other Christian', 'Muslim', 'Buddhist', 'Hindu','Ethnic', 'Marxist', 'Others']"
   ]
  },
  {
   "cell_type": "code",
   "execution_count": null,
   "metadata": {},
   "outputs": [],
   "source": [
    "raw_df = pd.read_csv('../data/flag.data',header=0,names=['name','landmass','zone','area','population','language','religion','bars','stripes','colours','red','green','blue','gold','white','black','orange','mainhue','circles','crosses','saltires','quarters','sunstars','crescent','triangle','icon','animate','text','topleft','botright'])\n",
    "print(f'Shape of dataset: {raw_df.shape}')\n",
    "raw_df.head()\n",
    "\n",
    "#['name','landmass','zone','area','population','language','religion','bars','stripes','colours','red','green','blue','gold','white','black','orange','mainhue','circles','crosses','saltires','quarters','sunstars','crescent','triangle','icon','animate','text','topleft','botright']"
   ]
  },
  {
   "cell_type": "code",
   "execution_count": null,
   "metadata": {},
   "outputs": [],
   "source": [
    "raw_df.info()"
   ]
  },
  {
   "cell_type": "markdown",
   "metadata": {},
   "source": [
    "Как и сказали в описании, пропусков нет, и на том спасибо)"
   ]
  },
  {
   "cell_type": "code",
   "execution_count": null,
   "metadata": {},
   "outputs": [],
   "source": [
    "raw_df.describe().T"
   ]
  },
  {
   "cell_type": "code",
   "execution_count": null,
   "metadata": {},
   "outputs": [],
   "source": [
    "fig, ax = plt.subplots(figsize=(30,20))\n",
    "sns.heatmap(raw_df.corr(),annot=True,cmap=\"RdYlGn\");"
   ]
  },
  {
   "cell_type": "code",
   "execution_count": null,
   "metadata": {},
   "outputs": [],
   "source": [
    "g=sns.pairplot(data=raw_df,plot_kws={'alpha':0.2});\n",
    "g.fig.set_size_inches(30,30)"
   ]
  },
  {
   "cell_type": "markdown",
   "metadata": {},
   "source": [
    "В датасете присутствует много значимых признаков (большой разброс). Т.к. необходимо решить задачу мультиклассовой классификации по признаку religion - посмотрим на все признаки в разрезе religion отдельно. Сразу стоит отметить о несбалансированности классов в призаке religion."
   ]
  },
  {
   "cell_type": "code",
   "execution_count": null,
   "metadata": {},
   "outputs": [],
   "source": [
    "g=sns.pairplot(data=raw_df,plot_kws={'alpha':0.2}, hue='religion');\n",
    "g.fig.set_size_inches(30,30)"
   ]
  },
  {
   "cell_type": "markdown",
   "metadata": {},
   "source": [
    "Кроме очевидных территории и языка, также можно заметить признаки наличия различных полос, перекрестий на флагах, которые имеют различные распределения для разных значений признака religion."
   ]
  },
  {
   "cell_type": "code",
   "execution_count": null,
   "metadata": {},
   "outputs": [],
   "source": [
    "# К примеру:\n",
    "sns.jointplot(data=raw_df,y='religion',x='crosses',kind='reg',stat_func=pearsonr);"
   ]
  },
  {
   "cell_type": "markdown",
   "metadata": {},
   "source": [
    "Попробуем обойтись без уменьшения размерности признакового множества, чтобы не потерять часть информации."
   ]
  },
  {
   "cell_type": "code",
   "execution_count": null,
   "metadata": {},
   "outputs": [],
   "source": [
    "# Будем использовать кросс-валидацию данных с K-fold\n",
    "N_FOLDS=3"
   ]
  },
  {
   "cell_type": "code",
   "execution_count": null,
   "metadata": {},
   "outputs": [],
   "source": [
    "raw_df.columns"
   ]
  },
  {
   "cell_type": "code",
   "execution_count": null,
   "metadata": {},
   "outputs": [],
   "source": [
    "X, y = raw_df[['landmass', 'zone', 'area', 'population', 'language',\n",
    "       'bars', 'stripes', 'colours', 'red', 'green', 'blue',\n",
    "       'gold', 'white', 'black', 'orange', 'mainhue', 'circles', 'crosses',\n",
    "       'saltires', 'quarters', 'sunstars', 'crescent', 'triangle', 'icon',\n",
    "       'animate', 'text', 'topleft', 'botright']], raw_df['religion']"
   ]
  },
  {
   "cell_type": "code",
   "execution_count": null,
   "metadata": {},
   "outputs": [],
   "source": [
    "# Категориальные признаки разобъем на детальные признаки, созданные по значениям:\n",
    "X = pd.get_dummies(X)"
   ]
  },
  {
   "cell_type": "code",
   "execution_count": null,
   "metadata": {},
   "outputs": [],
   "source": [
    "X_train, X_test, y_train, y_test = train_test_split(X, y, test_size=0.3, random_state= RANDOM_STATE)\n",
    "\n",
    "# Т.к. классы признака religion несбаллансированы, то будем использовать oversampling для баллансировки классов.\n",
    "sm = SMOTE(random_state=12, ratio = 1.0)\n",
    "X_train, y_train = sm.fit_sample(X_train, y_train)"
   ]
  },
  {
   "cell_type": "code",
   "execution_count": null,
   "metadata": {
    "ExecuteTime": {
     "end_time": "2018-11-23T08:53:16.541464Z",
     "start_time": "2018-11-23T08:53:16.328719Z"
    }
   },
   "outputs": [],
   "source": [
    "cross_val_score( DecisionTreeClassifier( max_depth = 15, random_state= RANDOM_STATE ), X, y, cv = N_FOLDS, scoring = 'accuracy' )"
   ]
  },
  {
   "cell_type": "code",
   "execution_count": null,
   "metadata": {},
   "outputs": [],
   "source": [
    "params = [ {'max_depth': list( range(1, 20) )} ]\n",
    "gs = GridSearchCV( DecisionTreeClassifier(random_state= RANDOM_STATE), param_grid = params, scoring = 'accuracy', return_train_score = False )\n",
    "gs.fit( X, y )\n",
    "print('cv_results_',gs.cv_results_)\n",
    "print('best_params_',gs.best_params_)"
   ]
  },
  {
   "cell_type": "code",
   "execution_count": null,
   "metadata": {},
   "outputs": [],
   "source": [
    "# посмотрим на качество классификации при наилучшей глубине gs.best_params_['max_depth']\n",
    "tc = DecisionTreeClassifier( max_depth = gs.best_params_['max_depth'], random_state= RANDOM_STATE)\n",
    "cross_val_score( tc, X, y, cv = N_FOLDS, scoring = 'accuracy' )\n",
    "tc.fit(X,y)"
   ]
  },
  {
   "cell_type": "code",
   "execution_count": null,
   "metadata": {},
   "outputs": [],
   "source": [
    "# Важность переменных:\n",
    "features = X.columns\n",
    "importances = tc.feature_importances_[0:20]\n",
    "\n",
    "indices = np.argsort(importances)\n",
    "\n",
    "plt.title('Feature Importances for DecisionTree')\n",
    "plt.barh(range(len(indices)), importances[indices], color='b', align='center')\n",
    "plt.yticks(range(len(indices)), [features[i] for i in indices])\n",
    "plt.xlabel('Relative Importance')\n",
    "plt.show()"
   ]
  },
  {
   "cell_type": "code",
   "execution_count": null,
   "metadata": {
    "ExecuteTime": {
     "end_time": "2018-12-03T08:14:14.622673Z",
     "start_time": "2018-12-03T08:14:14.620234Z"
    }
   },
   "outputs": [],
   "source": [
    "from sklearn.ensemble import RandomForestClassifier"
   ]
  },
  {
   "cell_type": "code",
   "execution_count": null,
   "metadata": {
    "ExecuteTime": {
     "end_time": "2018-12-03T08:14:14.736827Z",
     "start_time": "2018-12-03T08:14:14.733487Z"
    }
   },
   "outputs": [],
   "source": [
    "forest_params = {\n",
    "    'n_estimators': [5, 10, 20, 40],\n",
    "    'criterion': ['gini', 'entropy'],\n",
    "    'max_depth': [1, 3, 5, 7, 9, None],\n",
    "    'min_samples_leaf': [1, 2, 4, 8, 16]\n",
    "}"
   ]
  },
  {
   "cell_type": "code",
   "execution_count": null,
   "metadata": {
    "ExecuteTime": {
     "end_time": "2018-12-03T08:15:04.643617Z",
     "start_time": "2018-12-03T08:14:14.841272Z"
    }
   },
   "outputs": [],
   "source": [
    "forest = RandomForestClassifier(random_state=RANDOM_STATE)\n",
    "grid_forest = GridSearchCV(forest, forest_params, scoring='accuracy', cv=N_FOLDS, n_jobs=-1)\n",
    "grid_forest.fit(X_train, y_train)"
   ]
  },
  {
   "cell_type": "code",
   "execution_count": null,
   "metadata": {
    "ExecuteTime": {
     "end_time": "2018-12-03T08:15:04.761791Z",
     "start_time": "2018-12-03T08:15:04.758225Z"
    }
   },
   "outputs": [],
   "source": [
    "print(grid_forest.best_params_)\n",
    "print(grid_forest.best_score_)\n",
    "print(grid_forest.best_estimator_)"
   ]
  },
  {
   "cell_type": "markdown",
   "metadata": {},
   "source": [
    "Best_score_ = 0.6592592592592592 - показатель лучше, чем у одного дерева решений!"
   ]
  },
  {
   "cell_type": "code",
   "execution_count": null,
   "metadata": {},
   "outputs": [],
   "source": [
    "model_rf = RandomForestClassifier(criterion='gini', max_depth= 9, min_samples_leaf= 1, n_estimators= 20, random_state=RANDOM_STATE)\n",
    "model_rf.fit(X_train, y_train)"
   ]
  },
  {
   "cell_type": "code",
   "execution_count": null,
   "metadata": {},
   "outputs": [],
   "source": [
    "# Важность переменных:\n",
    "features = X.columns\n",
    "importances = model_rf.feature_importances_[0:20]\n",
    "\n",
    "indices = np.argsort(importances)\n",
    "\n",
    "plt.title('Feature Importances for RandomForest')\n",
    "plt.barh(range(len(indices)), importances[indices], color='b', align='center')\n",
    "plt.yticks(range(len(indices)), [features[i] for i in indices])\n",
    "plt.xlabel('Relative Importance')\n",
    "plt.show()"
   ]
  },
  {
   "cell_type": "code",
   "execution_count": null,
   "metadata": {},
   "outputs": [],
   "source": [
    "y_pred = model_rf.predict(X_test)"
   ]
  },
  {
   "cell_type": "code",
   "execution_count": null,
   "metadata": {},
   "outputs": [],
   "source": [
    "print('Accuracy=',accuracy_score(y_test, y_pred))\n",
    "print('f1_score=',f1_score(y_test, y_pred, average=\"macro\"))\n",
    "print('precision=',precision_score(y_test, y_pred, average=\"macro\"))\n",
    "print('recall=',recall_score(y_test, y_pred, average=\"macro\"))  "
   ]
  },
  {
   "cell_type": "code",
   "execution_count": null,
   "metadata": {},
   "outputs": [],
   "source": [
    "print(classification_report(y_test, y_pred, target_names=class_names))"
   ]
  },
  {
   "cell_type": "markdown",
   "metadata": {},
   "source": [
    "## Confusion matrix"
   ]
  },
  {
   "cell_type": "code",
   "execution_count": null,
   "metadata": {},
   "outputs": [],
   "source": [
    "confusion_matrix(y_test, y_pred)"
   ]
  },
  {
   "cell_type": "code",
   "execution_count": null,
   "metadata": {},
   "outputs": [],
   "source": [
    "df = pd.DataFrame({'y_Actual': y_test.values, 'y_Predicted': y_pred}, columns=['y_Actual','y_Predicted'])\n",
    "confusion_matrix = pd.crosstab(df['y_Actual'], df['y_Predicted'], rownames=['Actual'], colnames=['Predicted'])\n",
    "\n",
    "ax=sns.heatmap(confusion_matrix, annot=True);\n",
    "ax.set_yticklabels(class_names, rotation=0);\n",
    "ax.set_xticklabels(class_names, rotation=90);"
   ]
  },
  {
   "cell_type": "code",
   "execution_count": null,
   "metadata": {},
   "outputs": [],
   "source": []
  },
  {
   "cell_type": "code",
   "execution_count": null,
   "metadata": {},
   "outputs": [],
   "source": []
  },
  {
   "cell_type": "code",
   "execution_count": null,
   "metadata": {},
   "outputs": [],
   "source": []
  },
  {
   "cell_type": "markdown",
   "metadata": {},
   "source": [
    "## Посмотрим, что мы можем улучшить с помощью понижения размерности:"
   ]
  },
  {
   "cell_type": "code",
   "execution_count": null,
   "metadata": {},
   "outputs": [],
   "source": [
    "print(f'Текущая размерность датасета: {X_train.shape}')"
   ]
  },
  {
   "cell_type": "code",
   "execution_count": null,
   "metadata": {},
   "outputs": [],
   "source": [
    "# Возьмем для начала сжатие до 10 компонент\n",
    "n=10\n",
    "pca = PCA(n_components=n)\n",
    "pc = pca.fit_transform(pd.get_dummies(raw_df.drop(['religion'], axis=1,inplace=False)))\n",
    "df_pc = pd.DataFrame(data = pc, columns = ['pc'+str(i) for i in range(n)])\n",
    "df_with_pc = pd.concat([df_pc, raw_df[['religion']]], axis = 1)"
   ]
  },
  {
   "cell_type": "markdown",
   "metadata": {},
   "source": [
    "Теперь натравим на этот датасет случайный лес (как наилучший алгоритм на тесте):"
   ]
  },
  {
   "cell_type": "code",
   "execution_count": null,
   "metadata": {},
   "outputs": [],
   "source": [
    "X, y = df_with_pc.drop(['religion'], axis=1,inplace=False), df_with_pc['religion'].values\n",
    "X_train, X_test, y_train, y_test = train_test_split(X, y, stratify=y, test_size=0.25)\n",
    "\n",
    "# Т.к. классы признака religion несбаллансированы, то будем использовать oversampling для баллансировки классов.\n",
    "sm = SMOTE(random_state=12, ratio = 1.0)\n",
    "X_train, y_train = sm.fit_sample(X_train, y_train)"
   ]
  },
  {
   "cell_type": "code",
   "execution_count": null,
   "metadata": {},
   "outputs": [],
   "source": [
    "clf = RandomForestClassifier(n_estimators=100, random_state=RANDOM_STATE).fit(X_train, y_train)\n",
    "y_test_predict = clf.predict(X_test)\n",
    "print(f'accuracy: {accuracy_score(y_test, y_test_predict)}')\n",
    "print(f'f1: {f1_score(y_test, y_test_predict, average=\"macro\")}')\n",
    "print(f'precision: {precision_score(y_test, y_test_predict, average=\"macro\")}')\n",
    "print(f'recall: {recall_score(y_test, y_test_predict, average=\"macro\")}')"
   ]
  },
  {
   "cell_type": "markdown",
   "metadata": {},
   "source": [
    "Лучше не стало. Может 10 компонент - не самое оптимальное количество? Посмотрим на все возможные комбинации и результаты на тесте:"
   ]
  },
  {
   "cell_type": "code",
   "execution_count": null,
   "metadata": {},
   "outputs": [],
   "source": [
    "l_result = []\n",
    "for n in range(1,raw_df.shape[1]-1):\n",
    "    pca = PCA(n_components=n, random_state=RANDOM_STATE)\n",
    "    pc = pca.fit_transform(pd.get_dummies(raw_df.drop(['religion'], axis=1,inplace=False)))\n",
    "    df_pc = pd.DataFrame(data = pc, columns = ['pc'+str(i) for i in range(n)])\n",
    "    df_with_pc = pd.concat([df_pc, raw_df[['religion']]], axis = 1)\n",
    "    \n",
    "    X, y = df_with_pc.drop(['religion'], axis=1,inplace=False), df_with_pc['religion'].values\n",
    "    X_train, X_test, y_train, y_test = train_test_split(X, y, stratify=y, test_size=0.25)\n",
    "    \n",
    "    clf = RandomForestClassifier(n_estimators=100, random_state=RANDOM_STATE, n_jobs=-1).fit(X_train, y_train)\n",
    "    y_test_predict_proba = clf.predict_proba(X_test)[:, 1]\n",
    "    y_test_predict = clf.predict(X_test)\n",
    "    l_result.append((n,accuracy_score(y_test, y_test_predict),f1_score(y_test, y_test_predict, average=\"macro\")))"
   ]
  },
  {
   "cell_type": "code",
   "execution_count": null,
   "metadata": {},
   "outputs": [],
   "source": [
    "# отсортируем по наивысшей F-мере\n",
    "l_result.sort(key=lambda x:x[2],reverse=True)\n",
    "l_result"
   ]
  },
  {
   "cell_type": "code",
   "execution_count": null,
   "metadata": {},
   "outputs": [],
   "source": [
    "print(f'Лучшее количество компонент: {l_result[0][0]}')"
   ]
  },
  {
   "cell_type": "code",
   "execution_count": null,
   "metadata": {},
   "outputs": [],
   "source": [
    "# Проверим лучшее сжатие\n",
    "n=l_result[0][0]\n",
    "pca = PCA(n_components=n)\n",
    "pc = pca.fit_transform(pd.get_dummies(raw_df.drop(['religion'], axis=1,inplace=False)))\n",
    "df_pc = pd.DataFrame(data = pc, columns = ['pc'+str(i) for i in range(n)])\n",
    "df_with_pc = pd.concat([df_pc, raw_df[['religion']]], axis = 1)"
   ]
  },
  {
   "cell_type": "markdown",
   "metadata": {},
   "source": [
    "Теперь натравим на этот датасет случайный лес (как наилучший алгоритм на тесте):"
   ]
  },
  {
   "cell_type": "code",
   "execution_count": null,
   "metadata": {},
   "outputs": [],
   "source": [
    "X, y = df_with_pc.drop(['religion'], axis=1,inplace=False), df_with_pc['religion'].values\n",
    "X_train, X_test, y_train, y_test = train_test_split(X, y, stratify=y, test_size=0.25)\n",
    "\n",
    "# Т.к. классы признака religion несбаллансированы, то будем использовать oversampling для баллансировки классов.\n",
    "sm = SMOTE(random_state=12, ratio = 1.0)\n",
    "X_train, y_train = sm.fit_sample(X_train, y_train)"
   ]
  },
  {
   "cell_type": "code",
   "execution_count": null,
   "metadata": {},
   "outputs": [],
   "source": [
    "clf = RandomForestClassifier(n_estimators=100, random_state=RANDOM_STATE).fit(X_train, y_train)\n",
    "y_test_predict = clf.predict(X_test)\n",
    "print(f'accuracy: {accuracy_score(y_test, y_test_predict)}')\n",
    "print(f'f1: {f1_score(y_test, y_test_predict, average=\"macro\")}')\n",
    "print(f'precision: {precision_score(y_test, y_test_predict, average=\"macro\")}')\n",
    "print(f'recall: {recall_score(y_test, y_test_predict, average=\"macro\")}')"
   ]
  }
 ],
 "metadata": {
  "kernelspec": {
   "display_name": "Python 3",
   "language": "python",
   "name": "python3"
  },
  "language_info": {
   "codemirror_mode": {
    "name": "ipython",
    "version": 3
   },
   "file_extension": ".py",
   "mimetype": "text/x-python",
   "name": "python",
   "nbconvert_exporter": "python",
   "pygments_lexer": "ipython3",
   "version": "3.7.2"
  }
 },
 "nbformat": 4,
 "nbformat_minor": 2
}
