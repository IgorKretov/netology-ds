{
 "cells": [
  {
   "cell_type": "markdown",
   "metadata": {},
   "source": [
    "# Домашнее задание \"Введение и классификация рекомендательных систем\""
   ]
  },
  {
   "cell_type": "markdown",
   "metadata": {},
   "source": [
    "Владимир Никифоров"
   ]
  },
  {
   "cell_type": "markdown",
   "metadata": {},
   "source": [
    "Постройте топ фильмов в категориях Action и Comedy (или любых других)."
   ]
  },
  {
   "cell_type": "code",
   "execution_count": 1,
   "metadata": {
    "ExecuteTime": {
     "end_time": "2019-09-04T15:37:18.739937Z",
     "start_time": "2019-09-04T15:37:18.338906Z"
    }
   },
   "outputs": [],
   "source": [
    "import pandas as pd\n",
    "import numpy as np\n",
    "import matplotlib.pyplot as plt\n",
    "\n",
    "from tqdm import tqdm_notebook"
   ]
  },
  {
   "cell_type": "code",
   "execution_count": 2,
   "metadata": {
    "ExecuteTime": {
     "end_time": "2019-09-04T15:37:18.807521Z",
     "start_time": "2019-09-04T15:37:18.741845Z"
    }
   },
   "outputs": [],
   "source": [
    "movies = pd.read_csv('../data/ml-latest-small/movies.csv')\n",
    "ratings = pd.read_csv('../data/ml-latest-small/ratings.csv')"
   ]
  },
  {
   "cell_type": "code",
   "execution_count": 3,
   "metadata": {
    "ExecuteTime": {
     "end_time": "2019-09-04T15:37:18.824026Z",
     "start_time": "2019-09-04T15:37:18.809332Z"
    }
   },
   "outputs": [
    {
     "data": {
      "text/html": [
       "<div>\n",
       "<style scoped>\n",
       "    .dataframe tbody tr th:only-of-type {\n",
       "        vertical-align: middle;\n",
       "    }\n",
       "\n",
       "    .dataframe tbody tr th {\n",
       "        vertical-align: top;\n",
       "    }\n",
       "\n",
       "    .dataframe thead th {\n",
       "        text-align: right;\n",
       "    }\n",
       "</style>\n",
       "<table border=\"1\" class=\"dataframe\">\n",
       "  <thead>\n",
       "    <tr style=\"text-align: right;\">\n",
       "      <th></th>\n",
       "      <th>movieId</th>\n",
       "      <th>title</th>\n",
       "      <th>genres</th>\n",
       "    </tr>\n",
       "  </thead>\n",
       "  <tbody>\n",
       "    <tr>\n",
       "      <th>0</th>\n",
       "      <td>1</td>\n",
       "      <td>Toy Story (1995)</td>\n",
       "      <td>Adventure|Animation|Children|Comedy|Fantasy</td>\n",
       "    </tr>\n",
       "    <tr>\n",
       "      <th>1</th>\n",
       "      <td>2</td>\n",
       "      <td>Jumanji (1995)</td>\n",
       "      <td>Adventure|Children|Fantasy</td>\n",
       "    </tr>\n",
       "    <tr>\n",
       "      <th>2</th>\n",
       "      <td>3</td>\n",
       "      <td>Grumpier Old Men (1995)</td>\n",
       "      <td>Comedy|Romance</td>\n",
       "    </tr>\n",
       "    <tr>\n",
       "      <th>3</th>\n",
       "      <td>4</td>\n",
       "      <td>Waiting to Exhale (1995)</td>\n",
       "      <td>Comedy|Drama|Romance</td>\n",
       "    </tr>\n",
       "    <tr>\n",
       "      <th>4</th>\n",
       "      <td>5</td>\n",
       "      <td>Father of the Bride Part II (1995)</td>\n",
       "      <td>Comedy</td>\n",
       "    </tr>\n",
       "  </tbody>\n",
       "</table>\n",
       "</div>"
      ],
      "text/plain": [
       "   movieId                               title  \\\n",
       "0        1                    Toy Story (1995)   \n",
       "1        2                      Jumanji (1995)   \n",
       "2        3             Grumpier Old Men (1995)   \n",
       "3        4            Waiting to Exhale (1995)   \n",
       "4        5  Father of the Bride Part II (1995)   \n",
       "\n",
       "                                        genres  \n",
       "0  Adventure|Animation|Children|Comedy|Fantasy  \n",
       "1                   Adventure|Children|Fantasy  \n",
       "2                               Comedy|Romance  \n",
       "3                         Comedy|Drama|Romance  \n",
       "4                                       Comedy  "
      ]
     },
     "execution_count": 3,
     "metadata": {},
     "output_type": "execute_result"
    }
   ],
   "source": [
    "movies.head()"
   ]
  },
  {
   "cell_type": "code",
   "execution_count": 4,
   "metadata": {
    "ExecuteTime": {
     "end_time": "2019-09-04T15:37:18.839042Z",
     "start_time": "2019-09-04T15:37:18.827252Z"
    },
    "scrolled": true
   },
   "outputs": [
    {
     "data": {
      "text/html": [
       "<div>\n",
       "<style scoped>\n",
       "    .dataframe tbody tr th:only-of-type {\n",
       "        vertical-align: middle;\n",
       "    }\n",
       "\n",
       "    .dataframe tbody tr th {\n",
       "        vertical-align: top;\n",
       "    }\n",
       "\n",
       "    .dataframe thead th {\n",
       "        text-align: right;\n",
       "    }\n",
       "</style>\n",
       "<table border=\"1\" class=\"dataframe\">\n",
       "  <thead>\n",
       "    <tr style=\"text-align: right;\">\n",
       "      <th></th>\n",
       "      <th>userId</th>\n",
       "      <th>movieId</th>\n",
       "      <th>rating</th>\n",
       "      <th>timestamp</th>\n",
       "    </tr>\n",
       "  </thead>\n",
       "  <tbody>\n",
       "    <tr>\n",
       "      <th>0</th>\n",
       "      <td>1</td>\n",
       "      <td>1</td>\n",
       "      <td>4.0</td>\n",
       "      <td>964982703</td>\n",
       "    </tr>\n",
       "    <tr>\n",
       "      <th>1</th>\n",
       "      <td>1</td>\n",
       "      <td>3</td>\n",
       "      <td>4.0</td>\n",
       "      <td>964981247</td>\n",
       "    </tr>\n",
       "    <tr>\n",
       "      <th>2</th>\n",
       "      <td>1</td>\n",
       "      <td>6</td>\n",
       "      <td>4.0</td>\n",
       "      <td>964982224</td>\n",
       "    </tr>\n",
       "    <tr>\n",
       "      <th>3</th>\n",
       "      <td>1</td>\n",
       "      <td>47</td>\n",
       "      <td>5.0</td>\n",
       "      <td>964983815</td>\n",
       "    </tr>\n",
       "    <tr>\n",
       "      <th>4</th>\n",
       "      <td>1</td>\n",
       "      <td>50</td>\n",
       "      <td>5.0</td>\n",
       "      <td>964982931</td>\n",
       "    </tr>\n",
       "  </tbody>\n",
       "</table>\n",
       "</div>"
      ],
      "text/plain": [
       "   userId  movieId  rating  timestamp\n",
       "0       1        1     4.0  964982703\n",
       "1       1        3     4.0  964981247\n",
       "2       1        6     4.0  964982224\n",
       "3       1       47     5.0  964983815\n",
       "4       1       50     5.0  964982931"
      ]
     },
     "execution_count": 4,
     "metadata": {},
     "output_type": "execute_result"
    }
   ],
   "source": [
    "ratings.head()"
   ]
  },
  {
   "cell_type": "code",
   "execution_count": 5,
   "metadata": {
    "ExecuteTime": {
     "end_time": "2019-09-04T15:37:18.880754Z",
     "start_time": "2019-09-04T15:37:18.842381Z"
    },
    "scrolled": true
   },
   "outputs": [],
   "source": [
    "# соединим таблицу с рейтингами и названиями фильмов\n",
    "joined_ratings = ratings.join(movies.set_index('movieId'), on='movieId')"
   ]
  },
  {
   "cell_type": "code",
   "execution_count": 6,
   "metadata": {
    "ExecuteTime": {
     "end_time": "2019-09-04T15:37:18.890007Z",
     "start_time": "2019-09-04T15:37:18.883790Z"
    }
   },
   "outputs": [
    {
     "data": {
      "text/plain": [
       "True"
      ]
     },
     "execution_count": 6,
     "metadata": {},
     "output_type": "execute_result"
    }
   ],
   "source": [
    "'Adventure' in 'Adventure|Animation|Children|Comedy|Fantasy'"
   ]
  },
  {
   "cell_type": "code",
   "execution_count": 7,
   "metadata": {
    "ExecuteTime": {
     "end_time": "2019-09-04T15:37:18.974647Z",
     "start_time": "2019-09-04T15:37:18.892398Z"
    }
   },
   "outputs": [],
   "source": [
    "# поставим метки фильмам Action и Comedy\n",
    "joined_ratings['IsAction'] = joined_ratings['genres'].apply(lambda x: 'Action' in x)\n",
    "joined_ratings['IsComedy'] = joined_ratings['genres'].apply(lambda x: 'Comedy' in x)"
   ]
  },
  {
   "cell_type": "code",
   "execution_count": 8,
   "metadata": {
    "ExecuteTime": {
     "end_time": "2019-09-04T15:37:18.997256Z",
     "start_time": "2019-09-04T15:37:18.977685Z"
    }
   },
   "outputs": [
    {
     "data": {
      "text/html": [
       "<div>\n",
       "<style scoped>\n",
       "    .dataframe tbody tr th:only-of-type {\n",
       "        vertical-align: middle;\n",
       "    }\n",
       "\n",
       "    .dataframe tbody tr th {\n",
       "        vertical-align: top;\n",
       "    }\n",
       "\n",
       "    .dataframe thead th {\n",
       "        text-align: right;\n",
       "    }\n",
       "</style>\n",
       "<table border=\"1\" class=\"dataframe\">\n",
       "  <thead>\n",
       "    <tr style=\"text-align: right;\">\n",
       "      <th></th>\n",
       "      <th>userId</th>\n",
       "      <th>movieId</th>\n",
       "      <th>rating</th>\n",
       "      <th>timestamp</th>\n",
       "      <th>title</th>\n",
       "      <th>genres</th>\n",
       "      <th>IsAction</th>\n",
       "      <th>IsComedy</th>\n",
       "    </tr>\n",
       "  </thead>\n",
       "  <tbody>\n",
       "    <tr>\n",
       "      <th>0</th>\n",
       "      <td>1</td>\n",
       "      <td>1</td>\n",
       "      <td>4.0</td>\n",
       "      <td>964982703</td>\n",
       "      <td>Toy Story (1995)</td>\n",
       "      <td>Adventure|Animation|Children|Comedy|Fantasy</td>\n",
       "      <td>False</td>\n",
       "      <td>True</td>\n",
       "    </tr>\n",
       "    <tr>\n",
       "      <th>1</th>\n",
       "      <td>1</td>\n",
       "      <td>3</td>\n",
       "      <td>4.0</td>\n",
       "      <td>964981247</td>\n",
       "      <td>Grumpier Old Men (1995)</td>\n",
       "      <td>Comedy|Romance</td>\n",
       "      <td>False</td>\n",
       "      <td>True</td>\n",
       "    </tr>\n",
       "    <tr>\n",
       "      <th>2</th>\n",
       "      <td>1</td>\n",
       "      <td>6</td>\n",
       "      <td>4.0</td>\n",
       "      <td>964982224</td>\n",
       "      <td>Heat (1995)</td>\n",
       "      <td>Action|Crime|Thriller</td>\n",
       "      <td>True</td>\n",
       "      <td>False</td>\n",
       "    </tr>\n",
       "    <tr>\n",
       "      <th>3</th>\n",
       "      <td>1</td>\n",
       "      <td>47</td>\n",
       "      <td>5.0</td>\n",
       "      <td>964983815</td>\n",
       "      <td>Seven (a.k.a. Se7en) (1995)</td>\n",
       "      <td>Mystery|Thriller</td>\n",
       "      <td>False</td>\n",
       "      <td>False</td>\n",
       "    </tr>\n",
       "    <tr>\n",
       "      <th>4</th>\n",
       "      <td>1</td>\n",
       "      <td>50</td>\n",
       "      <td>5.0</td>\n",
       "      <td>964982931</td>\n",
       "      <td>Usual Suspects, The (1995)</td>\n",
       "      <td>Crime|Mystery|Thriller</td>\n",
       "      <td>False</td>\n",
       "      <td>False</td>\n",
       "    </tr>\n",
       "  </tbody>\n",
       "</table>\n",
       "</div>"
      ],
      "text/plain": [
       "   userId  movieId  rating  timestamp                        title  \\\n",
       "0       1        1     4.0  964982703             Toy Story (1995)   \n",
       "1       1        3     4.0  964981247      Grumpier Old Men (1995)   \n",
       "2       1        6     4.0  964982224                  Heat (1995)   \n",
       "3       1       47     5.0  964983815  Seven (a.k.a. Se7en) (1995)   \n",
       "4       1       50     5.0  964982931   Usual Suspects, The (1995)   \n",
       "\n",
       "                                        genres  IsAction  IsComedy  \n",
       "0  Adventure|Animation|Children|Comedy|Fantasy     False      True  \n",
       "1                               Comedy|Romance     False      True  \n",
       "2                        Action|Crime|Thriller      True     False  \n",
       "3                             Mystery|Thriller     False     False  \n",
       "4                       Crime|Mystery|Thriller     False     False  "
      ]
     },
     "execution_count": 8,
     "metadata": {},
     "output_type": "execute_result"
    }
   ],
   "source": [
    "joined_ratings.head()"
   ]
  },
  {
   "cell_type": "markdown",
   "metadata": {},
   "source": [
    "### Идея: найти \"боевых кинокритиков\" (кто очень много смотрит) и сортировать фильмы по следующей метрике по рейтингам этих кинокритиков: средняя оценка фильма, умноженная на нормированное количество рейтингов"
   ]
  },
  {
   "cell_type": "code",
   "execution_count": 9,
   "metadata": {
    "ExecuteTime": {
     "end_time": "2019-09-04T15:37:19.018946Z",
     "start_time": "2019-09-04T15:37:19.000364Z"
    }
   },
   "outputs": [],
   "source": [
    "# достанем топ 50 пользователей по количеству оценок\n",
    "top_users = joined_ratings.groupby('userId')[['rating']].count().sort_values('rating', ascending=False)\n",
    "top_users = top_users.reset_index().head(50)['userId'].values"
   ]
  },
  {
   "cell_type": "code",
   "execution_count": 10,
   "metadata": {
    "ExecuteTime": {
     "end_time": "2019-09-04T15:37:19.027561Z",
     "start_time": "2019-09-04T15:37:19.022810Z"
    },
    "scrolled": false
   },
   "outputs": [
    {
     "data": {
      "text/plain": [
       "array([414, 599, 474, 448, 274, 610,  68, 380, 606, 288, 249, 387, 182,\n",
       "       307, 603, 298, 177, 318, 232, 480, 608, 600, 483, 590, 105,  19,\n",
       "       305, 489, 111, 438, 217, 140, 477, 555,  91,  28, 219, 534,  89,\n",
       "        64, 226, 561,  18, 525,  57, 381, 368, 509, 469, 560])"
      ]
     },
     "execution_count": 10,
     "metadata": {},
     "output_type": "execute_result"
    }
   ],
   "source": [
    "# вот наши \"кинокритики - киноманы\"\n",
    "top_users"
   ]
  },
  {
   "cell_type": "code",
   "execution_count": 11,
   "metadata": {
    "ExecuteTime": {
     "end_time": "2019-09-04T15:37:19.042659Z",
     "start_time": "2019-09-04T15:37:19.030534Z"
    }
   },
   "outputs": [],
   "source": [
    "# отфильтруем только оценки наших киноманов и только фильмы Action\n",
    "joined_ratings = joined_ratings[joined_ratings['userId'].isin(top_users) & (joined_ratings['IsAction']==True)]"
   ]
  },
  {
   "cell_type": "code",
   "execution_count": 12,
   "metadata": {
    "ExecuteTime": {
     "end_time": "2019-09-04T15:37:19.770887Z",
     "start_time": "2019-09-04T15:37:19.046525Z"
    }
   },
   "outputs": [
    {
     "data": {
      "application/vnd.jupyter.widget-view+json": {
       "model_id": "838703f84d6d4e97898a6a59586b6c8f",
       "version_major": 2,
       "version_minor": 0
      },
      "text/plain": [
       "HBox(children=(IntProgress(value=0, max=1692), HTML(value='')))"
      ]
     },
     "metadata": {},
     "output_type": "display_data"
    },
    {
     "name": "stdout",
     "output_type": "stream",
     "text": [
      "\n"
     ]
    }
   ],
   "source": [
    "# достанем по каждому фильму количество рейтингов\n",
    "title_num_ratings = {}\n",
    "\n",
    "for title, group in tqdm_notebook(joined_ratings.groupby('title')):\n",
    "    title_num_ratings[title] = group.userId.unique().shape[0]"
   ]
  },
  {
   "cell_type": "code",
   "execution_count": 13,
   "metadata": {
    "ExecuteTime": {
     "end_time": "2019-09-04T15:37:19.791844Z",
     "start_time": "2019-09-04T15:37:19.775618Z"
    }
   },
   "outputs": [],
   "source": [
    "# достанем простые статистики по количеству рейтингов\n",
    "min_num_ratings = np.min([title_num_ratings[f] for f in title_num_ratings.keys()])\n",
    "max_num_ratings = np.max([title_num_ratings[f] for f in title_num_ratings.keys()])\n",
    "mean_num_ratings = np.mean([title_num_ratings[f] for f in title_num_ratings.keys()])"
   ]
  },
  {
   "cell_type": "code",
   "execution_count": 14,
   "metadata": {
    "ExecuteTime": {
     "end_time": "2019-09-04T15:37:20.480094Z",
     "start_time": "2019-09-04T15:37:19.795631Z"
    }
   },
   "outputs": [
    {
     "data": {
      "application/vnd.jupyter.widget-view+json": {
       "model_id": "5199c2449df64be7b41f687b30b084a4",
       "version_major": 2,
       "version_minor": 0
      },
      "text/plain": [
       "HBox(children=(IntProgress(value=0, max=1692), HTML(value='')))"
      ]
     },
     "metadata": {},
     "output_type": "display_data"
    },
    {
     "name": "stdout",
     "output_type": "stream",
     "text": [
      "\n"
     ]
    }
   ],
   "source": [
    "# считаем средний рейтинг на каждый фильм\n",
    "title_mean_rating = {}\n",
    "\n",
    "for title, group in tqdm_notebook(joined_ratings.groupby('title')):\n",
    "    title_mean_rating[title] = group.rating.mean()"
   ]
  },
  {
   "cell_type": "code",
   "execution_count": 15,
   "metadata": {
    "ExecuteTime": {
     "end_time": "2019-09-04T15:37:20.485845Z",
     "start_time": "2019-09-04T15:37:20.481780Z"
    }
   },
   "outputs": [],
   "source": [
    "film_with_our_mark = []\n",
    "\n",
    "# посчитаем нашу метрику для каждого фильма из датасета\n",
    "for f in title_num_ratings.keys():\n",
    "    film_with_our_mark.append(\n",
    "        (f, title_mean_rating[f] * (title_num_ratings[f] - mean_num_ratings) / (max_num_ratings - min_num_ratings))\n",
    "    )"
   ]
  },
  {
   "cell_type": "code",
   "execution_count": 16,
   "metadata": {
    "ExecuteTime": {
     "end_time": "2019-09-04T15:37:20.505264Z",
     "start_time": "2019-09-04T15:37:20.487561Z"
    },
    "scrolled": false
   },
   "outputs": [
    {
     "data": {
      "text/plain": [
       "[('Matrix, The (1999)', 3.6045608033402488),\n",
       " ('Star Wars: Episode IV - A New Hope (1977)', 3.532927690592358),\n",
       " ('Star Wars: Episode V - The Empire Strikes Back (1980)', 3.4659937964676057),\n",
       " ('Star Wars: Episode VI - Return of the Jedi (1983)', 3.2774748817966906),\n",
       " ('Raiders of the Lost Ark (Indiana Jones and the Raiders of the Lost Ark) (1981)',\n",
       "  3.227950773246651),\n",
       " ('Fight Club (1999)', 2.9583071685382194),\n",
       " ('Jurassic Park (1993)', 2.878628732160056),\n",
       " ('Die Hard (1988)', 2.856822743167491),\n",
       " ('Kill Bill: Vol. 1 (2003)', 2.7965715334236676),\n",
       " ('Terminator 2: Judgment Day (1991)', 2.762570663716389),\n",
       " ('Lord of the Rings: The Return of the King, The (2003)', 2.6970220911377822),\n",
       " ('Saving Private Ryan (1998)', 2.6633050980361666),\n",
       " ('Terminator, The (1984)', 2.6520678371677335),\n",
       " ('Indiana Jones and the Last Crusade (1989)', 2.638208525287426),\n",
       " ('Ghostbusters (a.k.a. Ghost Busters) (1984)', 2.569501083530339),\n",
       " ('Pirates of the Caribbean: The Curse of the Black Pearl (2003)',\n",
       "  2.561048777334516),\n",
       " ('Gladiator (2000)', 2.5121794556080905),\n",
       " ('Men in Black (a.k.a. MIB) (1997)', 2.508091543423681),\n",
       " ('Princess Bride, The (1987)', 2.4949153081494617),\n",
       " ('Fifth Element, The (1997)', 2.4796288843784997)]"
      ]
     },
     "execution_count": 16,
     "metadata": {},
     "output_type": "execute_result"
    }
   ],
   "source": [
    "# выводим топ 20 и получилось уже очень неплохо\n",
    "list(sorted(film_with_our_mark, key=lambda x: x[1], reverse=True))[:20]"
   ]
  },
  {
   "cell_type": "code",
   "execution_count": 17,
   "metadata": {
    "ExecuteTime": {
     "end_time": "2019-09-04T15:37:20.517274Z",
     "start_time": "2019-09-04T15:37:20.507551Z"
    }
   },
   "outputs": [],
   "source": [
    "# Обернем все в функцию для удобного поиска топовых фильмов по топ Х киноманов любого жанра :)\n",
    "def get_top_films(df,\n",
    "                  genre = 'Action',\n",
    "                  top_users = 100,\n",
    "                  top_films = 20\n",
    "                 ):\n",
    "    # поставим метки фильмам\n",
    "    df['IsGenre'] = df['genres'].apply(lambda x: genre in x)\n",
    "    # достанем топ пользователей по количеству оценок\n",
    "    top_users_df = df.groupby('userId')[['rating']].count().sort_values('rating', ascending=False)\n",
    "    top_users_list = top_users_df.reset_index()[:top_users]['userId'].values\n",
    "    # отфильтруем только оценки наших киноманов и только фильмы Action\n",
    "    df = df[df['userId'].isin(top_users_list) & (df['IsGenre']==True)]\n",
    "\n",
    "    # достанем по каждому фильму количество рейтингов\n",
    "    title_num_ratings = {}\n",
    "    for title, group in tqdm_notebook(df.groupby('title')):\n",
    "        title_num_ratings[title] = group.userId.unique().shape[0]\n",
    "\n",
    "    # достанем простые статистики по количеству рейтингов\n",
    "    min_num_ratings = np.min([title_num_ratings[f] for f in title_num_ratings.keys()])\n",
    "    max_num_ratings = np.max([title_num_ratings[f] for f in title_num_ratings.keys()])\n",
    "    mean_num_ratings = np.mean([title_num_ratings[f] for f in title_num_ratings.keys()])\n",
    "\n",
    "    # считаем средний рейтинг на каждый фильм\n",
    "    title_mean_rating = {}\n",
    "    for title, group in tqdm_notebook(df.groupby('title')):\n",
    "        title_mean_rating[title] = group.rating.mean()\n",
    "\n",
    "    film_with_our_mark = []\n",
    "    # посчитаем нашу метрику для каждого фильма из датасета\n",
    "    for f in title_num_ratings.keys():\n",
    "        film_with_our_mark.append(\n",
    "            (f, title_mean_rating[f] * (title_num_ratings[f] - mean_num_ratings) / (max_num_ratings - min_num_ratings))\n",
    "        )\n",
    "\n",
    "    # выводим топ 20 и получилось уже очень неплохо\n",
    "    return list(sorted(film_with_our_mark, key=lambda x: x[1], reverse=True))[:top_films]"
   ]
  },
  {
   "cell_type": "code",
   "execution_count": 18,
   "metadata": {
    "ExecuteTime": {
     "end_time": "2019-09-04T15:37:20.545493Z",
     "start_time": "2019-09-04T15:37:20.519836Z"
    }
   },
   "outputs": [],
   "source": [
    "# соединим таблицу с рейтингами и названиями фильмов\n",
    "joined_ratings = ratings.join(movies.set_index('movieId'), on='movieId')"
   ]
  },
  {
   "cell_type": "code",
   "execution_count": 19,
   "metadata": {
    "ExecuteTime": {
     "end_time": "2019-09-04T15:37:21.860041Z",
     "start_time": "2019-09-04T15:37:20.551449Z"
    }
   },
   "outputs": [
    {
     "data": {
      "application/vnd.jupyter.widget-view+json": {
       "model_id": "4e2ec2f9daef4ee79ee21cd7e1e108f3",
       "version_major": 2,
       "version_minor": 0
      },
      "text/plain": [
       "HBox(children=(IntProgress(value=0, max=1692), HTML(value='')))"
      ]
     },
     "metadata": {},
     "output_type": "display_data"
    },
    {
     "name": "stdout",
     "output_type": "stream",
     "text": [
      "\n"
     ]
    },
    {
     "data": {
      "application/vnd.jupyter.widget-view+json": {
       "model_id": "6500746ec595402f96dc1f66cc326e15",
       "version_major": 2,
       "version_minor": 0
      },
      "text/plain": [
       "HBox(children=(IntProgress(value=0, max=1692), HTML(value='')))"
      ]
     },
     "metadata": {},
     "output_type": "display_data"
    },
    {
     "name": "stdout",
     "output_type": "stream",
     "text": [
      "\n"
     ]
    },
    {
     "data": {
      "text/plain": [
       "[('Matrix, The (1999)', 3.6045608033402488),\n",
       " ('Star Wars: Episode IV - A New Hope (1977)', 3.532927690592358),\n",
       " ('Star Wars: Episode V - The Empire Strikes Back (1980)', 3.4659937964676057),\n",
       " ('Star Wars: Episode VI - Return of the Jedi (1983)', 3.2774748817966906),\n",
       " ('Raiders of the Lost Ark (Indiana Jones and the Raiders of the Lost Ark) (1981)',\n",
       "  3.227950773246651),\n",
       " ('Fight Club (1999)', 2.9583071685382194),\n",
       " ('Jurassic Park (1993)', 2.878628732160056),\n",
       " ('Die Hard (1988)', 2.856822743167491),\n",
       " ('Kill Bill: Vol. 1 (2003)', 2.7965715334236676),\n",
       " ('Terminator 2: Judgment Day (1991)', 2.762570663716389),\n",
       " ('Lord of the Rings: The Return of the King, The (2003)', 2.6970220911377822),\n",
       " ('Saving Private Ryan (1998)', 2.6633050980361666),\n",
       " ('Terminator, The (1984)', 2.6520678371677335),\n",
       " ('Indiana Jones and the Last Crusade (1989)', 2.638208525287426),\n",
       " ('Ghostbusters (a.k.a. Ghost Busters) (1984)', 2.569501083530339),\n",
       " ('Pirates of the Caribbean: The Curse of the Black Pearl (2003)',\n",
       "  2.561048777334516),\n",
       " ('Gladiator (2000)', 2.5121794556080905),\n",
       " ('Men in Black (a.k.a. MIB) (1997)', 2.508091543423681),\n",
       " ('Princess Bride, The (1987)', 2.4949153081494617),\n",
       " ('Fifth Element, The (1997)', 2.4796288843784997)]"
      ]
     },
     "execution_count": 19,
     "metadata": {},
     "output_type": "execute_result"
    }
   ],
   "source": [
    "# Итак, Actions!\n",
    "get_top_films(joined_ratings, genre='Action', top_users=50, top_films=20)"
   ]
  },
  {
   "cell_type": "code",
   "execution_count": 20,
   "metadata": {
    "ExecuteTime": {
     "end_time": "2019-09-04T15:37:24.851820Z",
     "start_time": "2019-09-04T15:37:21.864166Z"
    }
   },
   "outputs": [
    {
     "data": {
      "application/vnd.jupyter.widget-view+json": {
       "model_id": "eef1df2ed0254513bee8f9b771aac3a0",
       "version_major": 2,
       "version_minor": 0
      },
      "text/plain": [
       "HBox(children=(IntProgress(value=0, max=3579), HTML(value='')))"
      ]
     },
     "metadata": {},
     "output_type": "display_data"
    },
    {
     "name": "stdout",
     "output_type": "stream",
     "text": [
      "\n"
     ]
    },
    {
     "data": {
      "application/vnd.jupyter.widget-view+json": {
       "model_id": "8af32ae019cb4b6bb3e469fd254d65db",
       "version_major": 2,
       "version_minor": 0
      },
      "text/plain": [
       "HBox(children=(IntProgress(value=0, max=3579), HTML(value='')))"
      ]
     },
     "metadata": {},
     "output_type": "display_data"
    },
    {
     "name": "stdout",
     "output_type": "stream",
     "text": [
      "\n"
     ]
    },
    {
     "data": {
      "text/plain": [
       "[('Forrest Gump (1994)', 3.7831057251660605),\n",
       " ('Pulp Fiction (1994)', 3.6618024450292146),\n",
       " ('Back to the Future (1985)', 2.9482724292484126),\n",
       " ('Monty Python and the Holy Grail (1975)', 2.9089763045882226),\n",
       " ('Groundhog Day (1993)', 2.8724301308488047),\n",
       " ('Fargo (1996)', 2.8691194474477393),\n",
       " ('Toy Story (1995)', 2.7985254105010653),\n",
       " ('Truman Show, The (1998)', 2.6293613815502317),\n",
       " ('Men in Black (a.k.a. MIB) (1997)', 2.5871585243236908),\n",
       " (\"Ferris Bueller's Day Off (1986)\", 2.534442297060925),\n",
       " ('Pirates of the Caribbean: The Curse of the Black Pearl (2003)',\n",
       "  2.4996737862024068),\n",
       " ('Princess Bride, The (1987)', 2.4916077774864833),\n",
       " ('Shrek (2001)', 2.485027260111377),\n",
       " ('Ghostbusters (a.k.a. Ghost Busters) (1984)', 2.3457718099168225),\n",
       " ('Breakfast Club, The (1985)', 2.2407240591499833),\n",
       " ('Big Lebowski, The (1998)', 2.215846783156855),\n",
       " ('Finding Nemo (2003)', 2.211822377238221),\n",
       " ('Fifth Element, The (1997)', 2.211811490644822),\n",
       " ('Monsters, Inc. (2001)', 2.211811490644822),\n",
       " ('Being John Malkovich (1999)', 2.1334500384875765)]"
      ]
     },
     "execution_count": 20,
     "metadata": {},
     "output_type": "execute_result"
    }
   ],
   "source": [
    "# Comedy\n",
    "get_top_films(joined_ratings, genre='Comedy', top_users=100, top_films=20)"
   ]
  }
 ],
 "metadata": {
  "kernelspec": {
   "display_name": "Python 3",
   "language": "python",
   "name": "python3"
  },
  "language_info": {
   "codemirror_mode": {
    "name": "ipython",
    "version": 3
   },
   "file_extension": ".py",
   "mimetype": "text/x-python",
   "name": "python",
   "nbconvert_exporter": "python",
   "pygments_lexer": "ipython3",
   "version": "3.7.2"
  },
  "latex_envs": {
   "LaTeX_envs_menu_present": true,
   "autoclose": false,
   "autocomplete": true,
   "bibliofile": "biblio.bib",
   "cite_by": "apalike",
   "current_citInitial": 1,
   "eqLabelWithNumbers": true,
   "eqNumInitial": 1,
   "hotkeys": {
    "equation": "Ctrl-E",
    "itemize": "Ctrl-I"
   },
   "labels_anchors": false,
   "latex_user_defs": false,
   "report_style_numbering": false,
   "user_envs_cfg": false
  },
  "toc": {
   "base_numbering": 1,
   "nav_menu": {},
   "number_sections": true,
   "sideBar": true,
   "skip_h1_title": false,
   "title_cell": "Table of Contents",
   "title_sidebar": "Contents",
   "toc_cell": false,
   "toc_position": {},
   "toc_section_display": true,
   "toc_window_display": false
  }
 },
 "nbformat": 4,
 "nbformat_minor": 2
}
