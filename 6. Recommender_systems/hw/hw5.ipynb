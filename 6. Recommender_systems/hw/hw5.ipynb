{
 "cells": [
  {
   "cell_type": "markdown",
   "metadata": {},
   "source": [
    "## Задание к теме: «Гибридные рекомендательные системы»\n",
    "\n",
    "### Никифоров Владимир\n",
    "\n",
    "Что делать?\n",
    "-  1.Датасет ml-latest\n",
    "-  2.Вспомнить подходы, которые мы разбирали\n",
    "-  3.Выбрать понравившийся подход к гибридным системам\n",
    "-  4.Написать свою"
   ]
  },
  {
   "cell_type": "code",
   "execution_count": null,
   "metadata": {},
   "outputs": [],
   "source": []
  }
 ],
 "metadata": {
  "kernelspec": {
   "display_name": "Python 3",
   "language": "python",
   "name": "python3"
  },
  "language_info": {
   "codemirror_mode": {
    "name": "ipython",
    "version": 3
   },
   "file_extension": ".py",
   "mimetype": "text/x-python",
   "name": "python",
   "nbconvert_exporter": "python",
   "pygments_lexer": "ipython3",
   "version": "3.7.2"
  }
 },
 "nbformat": 4,
 "nbformat_minor": 2
}
