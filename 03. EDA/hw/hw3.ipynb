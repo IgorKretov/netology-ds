{
 "cells": [
  {
   "cell_type": "markdown",
   "metadata": {},
   "source": [
    "# Домашнее задание #3"
   ]
  },
  {
   "cell_type": "markdown",
   "metadata": {},
   "source": [
    "<pre>\n",
    "ФИО: Никифоров Владимир\n",
    "</pre>"
   ]
  },
  {
   "cell_type": "markdown",
   "metadata": {},
   "source": [
    "1. Разделить дата сет на трейн и тест в отношение 50:50 70:30 80:20 (с перемешиванием)\n",
    "2. Обучать наши модели на трейне. Предсказывать и замерять метрику R^2 и на трейне и на тесте\n",
    "3. Проверить следующие модели, для каждого разделения:\n",
    "    а) sales ~ log_tv + radio\n",
    "    б) sales ~ TV + radio\n",
    "    в) sales ~ TV + radio + newspaper"
   ]
  },
  {
   "cell_type": "code",
   "execution_count": 1,
   "metadata": {},
   "outputs": [],
   "source": [
    "# Common imports\n",
    "import pandas as pd\n",
    "import numpy as np\n",
    "import statsmodels.api as sm\n",
    "import statsmodels.formula.api as smf\n",
    "import random\n",
    "from sklearn.linear_model import LinearRegression\n",
    "import math\n",
    "\n",
    "# to make this notebook's output stable across runs\n",
    "np.random.seed(42)\n",
    "\n",
    "# To plot pretty figures\n",
    "import matplotlib\n",
    "import matplotlib.pyplot as plt\n",
    "from mpl_toolkits.mplot3d import axes3d\n",
    "%matplotlib inline\n",
    "\n",
    "plt.rcParams['axes.labelsize'] = 14\n",
    "plt.rcParams['xtick.labelsize'] = 12\n",
    "plt.rcParams['ytick.labelsize'] = 12\n",
    "plt.rcParams['figure.figsize'] = (10, 5)"
   ]
  },
  {
   "cell_type": "code",
   "execution_count": 2,
   "metadata": {},
   "outputs": [],
   "source": [
    "import os\n",
    "import urllib\n",
    "import shutil\n",
    "\n",
    "def download_file(url, dir_path=\"data\"):\n",
    "    if not os.path.exists(dir_path):\n",
    "        os.makedirs(dir_path)\n",
    "        \n",
    "    file_name = os.path.split(url)[-1]\n",
    "    file_path = os.path.join(dir_path, file_name)\n",
    "    \n",
    "    with urllib.request.urlopen(url) as response, open(file_path, 'wb') as out_file:\n",
    "        shutil.copyfileobj(response, out_file)\n",
    "        \n",
    "    return file_path"
   ]
  },
  {
   "cell_type": "code",
   "execution_count": 3,
   "metadata": {},
   "outputs": [],
   "source": [
    "import sklearn\n",
    "from sklearn.preprocessing import StandardScaler, normalize, MinMaxScaler\n",
    "from sklearn.model_selection import train_test_split"
   ]
  },
  {
   "cell_type": "code",
   "execution_count": 4,
   "metadata": {},
   "outputs": [
    {
     "data": {
      "text/html": [
       "<div>\n",
       "<style scoped>\n",
       "    .dataframe tbody tr th:only-of-type {\n",
       "        vertical-align: middle;\n",
       "    }\n",
       "\n",
       "    .dataframe tbody tr th {\n",
       "        vertical-align: top;\n",
       "    }\n",
       "\n",
       "    .dataframe thead th {\n",
       "        text-align: right;\n",
       "    }\n",
       "</style>\n",
       "<table border=\"1\" class=\"dataframe\">\n",
       "  <thead>\n",
       "    <tr style=\"text-align: right;\">\n",
       "      <th></th>\n",
       "      <th>TV</th>\n",
       "      <th>radio</th>\n",
       "      <th>newspaper</th>\n",
       "      <th>sales</th>\n",
       "    </tr>\n",
       "  </thead>\n",
       "  <tbody>\n",
       "    <tr>\n",
       "      <th>0</th>\n",
       "      <td>230.1</td>\n",
       "      <td>37.8</td>\n",
       "      <td>69.2</td>\n",
       "      <td>22.1</td>\n",
       "    </tr>\n",
       "    <tr>\n",
       "      <th>1</th>\n",
       "      <td>44.5</td>\n",
       "      <td>39.3</td>\n",
       "      <td>45.1</td>\n",
       "      <td>10.4</td>\n",
       "    </tr>\n",
       "    <tr>\n",
       "      <th>2</th>\n",
       "      <td>17.2</td>\n",
       "      <td>45.9</td>\n",
       "      <td>69.3</td>\n",
       "      <td>9.3</td>\n",
       "    </tr>\n",
       "    <tr>\n",
       "      <th>3</th>\n",
       "      <td>151.5</td>\n",
       "      <td>41.3</td>\n",
       "      <td>58.5</td>\n",
       "      <td>18.5</td>\n",
       "    </tr>\n",
       "    <tr>\n",
       "      <th>4</th>\n",
       "      <td>180.8</td>\n",
       "      <td>10.8</td>\n",
       "      <td>58.4</td>\n",
       "      <td>12.9</td>\n",
       "    </tr>\n",
       "  </tbody>\n",
       "</table>\n",
       "</div>"
      ],
      "text/plain": [
       "      TV  radio  newspaper  sales\n",
       "0  230.1   37.8       69.2   22.1\n",
       "1   44.5   39.3       45.1   10.4\n",
       "2   17.2   45.9       69.3    9.3\n",
       "3  151.5   41.3       58.5   18.5\n",
       "4  180.8   10.8       58.4   12.9"
      ]
     },
     "execution_count": 4,
     "metadata": {},
     "output_type": "execute_result"
    }
   ],
   "source": [
    "download_file(\"http://www-bcf.usc.edu/~gareth/ISL/Advertising.csv\")\n",
    "adv_df = pd.read_csv('data/Advertising.csv', usecols=[1,2,3,4])\n",
    "adv_df.head()"
   ]
  },
  {
   "cell_type": "code",
   "execution_count": 5,
   "metadata": {},
   "outputs": [
    {
     "data": {
      "text/plain": [
       "(200, 4)"
      ]
     },
     "execution_count": 5,
     "metadata": {},
     "output_type": "execute_result"
    }
   ],
   "source": [
    "adv_df.shape"
   ]
  },
  {
   "cell_type": "markdown",
   "metadata": {},
   "source": [
    "#### preprocessing"
   ]
  },
  {
   "cell_type": "code",
   "execution_count": 6,
   "metadata": {},
   "outputs": [],
   "source": [
    "adv_df['log_tv'] = adv_df.TV.apply(lambda x: math.pow(x, 0.4))"
   ]
  },
  {
   "cell_type": "code",
   "execution_count": 7,
   "metadata": {},
   "outputs": [],
   "source": [
    "def split_df(df, p_test_size=0.5):\n",
    "    '''\n",
    "    Splitting DataFrame by percentage of test\n",
    "    '''\n",
    "    adv_train, adv_test = train_test_split(df, test_size=p_test_size, random_state=7, shuffle=True)\n",
    "    print(\"=============================================================\")\n",
    "    print(\"Splitting by: \", str(100-p_test_size*100)+'%')\n",
    "    print(\"Total transactions in train dataset: \", len(adv_train))\n",
    "    print(\"Total transactions in test dataset: \", len(adv_test))\n",
    "    return adv_train, adv_test\n",
    "\n",
    "def score_model(p_fields, df_train, df_test):\n",
    "    '''\n",
    "    Create model by formula, fit and score\n",
    "    '''\n",
    "    '''\n",
    "    lm = LinearRegression()\n",
    "    model = lm.fit(x_train, y_train)\n",
    "    print('R^2 score for test:', model.score(x_test, y_test))\n",
    "    print('R^2 score for train:', model.score(x_train, y_train))\n",
    "    '''\n",
    "    formula = f\"sales ~ {' + '.join(p_fields)}\"\n",
    "    three_x_lm = smf.ols(formula, df_train).fit()\n",
    "    y_pred_test = three_x_lm.predict(df_test[p_fields])\n",
    "    y_test = df_test['sales']\n",
    "    R_2_test2 = sklearn.metrics.r2_score(y_test, y_pred_test)\n",
    "\n",
    "    print(f\"model=[{'sales ~ ' + ' + '.join(p_fields)}]: Train R^2 = {three_x_lm.rsquared}\")\n",
    "    print(f\"model=[{'sales ~ ' + ' + '.join(p_fields)}]: Test R^2 = {R_2_test2}\")\n",
    "    return (three_x_lm.rsquared, R_2_test2)"
   ]
  },
  {
   "cell_type": "code",
   "execution_count": 8,
   "metadata": {},
   "outputs": [
    {
     "name": "stdout",
     "output_type": "stream",
     "text": [
      "=============================================================\n",
      "Splitting by:  50.0%\n",
      "Total transactions in train dataset:  100\n",
      "Total transactions in test dataset:  100\n",
      "model=[sales ~ log_tv + radio]: Train R^2 = 0.9365398357049122\n",
      "model=[sales ~ log_tv + radio]: Test R^2 = 0.9153956674965311\n",
      "model=[sales ~ TV + radio]: Train R^2 = 0.8970895355114129\n",
      "model=[sales ~ TV + radio]: Test R^2 = 0.8919937852058214\n",
      "model=[sales ~ TV + radio + newspaper]: Train R^2 = 0.8971789551990025\n",
      "model=[sales ~ TV + radio + newspaper]: Test R^2 = 0.8915506500621206\n",
      "=============================================================\n",
      "Splitting by:  70.0%\n",
      "Total transactions in train dataset:  140\n",
      "Total transactions in test dataset:  60\n",
      "model=[sales ~ log_tv + radio]: Train R^2 = 0.9296030769766779\n",
      "model=[sales ~ log_tv + radio]: Test R^2 = 0.9279408976069347\n",
      "model=[sales ~ TV + radio]: Train R^2 = 0.8970470374578727\n",
      "model=[sales ~ TV + radio]: Test R^2 = 0.8894561428492667\n",
      "model=[sales ~ TV + radio + newspaper]: Train R^2 = 0.8970470429900155\n",
      "model=[sales ~ TV + radio + newspaper]: Test R^2 = 0.8894586465158203\n",
      "=============================================================\n",
      "Splitting by:  80.0%\n",
      "Total transactions in train dataset:  160\n",
      "Total transactions in test dataset:  40\n",
      "model=[sales ~ log_tv + radio]: Train R^2 = 0.9295723324315831\n",
      "model=[sales ~ log_tv + radio]: Test R^2 = 0.9331248172508639\n",
      "model=[sales ~ TV + radio]: Train R^2 = 0.8928993103144962\n",
      "model=[sales ~ TV + radio]: Test R^2 = 0.9095363908842858\n",
      "model=[sales ~ TV + radio + newspaper]: Train R^2 = 0.8929164670647455\n",
      "model=[sales ~ TV + radio + newspaper]: Test R^2 = 0.9095550600904052\n"
     ]
    }
   ],
   "source": [
    "l_res = []\n",
    "for x in [0.5,0.3,0.2]:\n",
    "    l_row={}\n",
    "    l_row['split_perc'] = x\n",
    "    adv_train, adv_test = split_df(df=adv_df, p_test_size=x)\n",
    "    l_row['log_tv + radio'] = score_model(['log_tv','radio'], adv_train, adv_test)\n",
    "    l_row['TV + radio'] = score_model(['TV','radio'], adv_train, adv_test)\n",
    "    l_row['TV + radio + newspaper'] = score_model(['TV','radio','newspaper'], adv_train, adv_test)\n",
    "    l_res.append(l_row)"
   ]
  },
  {
   "cell_type": "code",
   "execution_count": 9,
   "metadata": {},
   "outputs": [
    {
     "data": {
      "text/plain": [
       "[{'split_perc': 0.5,\n",
       "  'log_tv + radio': (0.9365398357049122, 0.9153956674965311),\n",
       "  'TV + radio': (0.8970895355114129, 0.8919937852058214),\n",
       "  'TV + radio + newspaper': (0.8971789551990025, 0.8915506500621206)},\n",
       " {'split_perc': 0.3,\n",
       "  'log_tv + radio': (0.9296030769766779, 0.9279408976069347),\n",
       "  'TV + radio': (0.8970470374578727, 0.8894561428492667),\n",
       "  'TV + radio + newspaper': (0.8970470429900155, 0.8894586465158203)},\n",
       " {'split_perc': 0.2,\n",
       "  'log_tv + radio': (0.9295723324315831, 0.9331248172508639),\n",
       "  'TV + radio': (0.8928993103144962, 0.9095363908842858),\n",
       "  'TV + radio + newspaper': (0.8929164670647455, 0.9095550600904052)}]"
      ]
     },
     "execution_count": 9,
     "metadata": {},
     "output_type": "execute_result"
    }
   ],
   "source": [
    "l_res"
   ]
  },
  {
   "cell_type": "code",
   "execution_count": 10,
   "metadata": {},
   "outputs": [],
   "source": [
    "df_res_train = pd.DataFrame({'split_percent': [0.5, 0.7, 0.8], \n",
    "                             'log_tv + radio': [x['log_tv + radio'][0] for x in l_res],\n",
    "                             'TV + radio': [x['TV + radio'][0] for x in l_res],\n",
    "                             'TV + radio + newspaper': [x['TV + radio + newspaper'][0] for x in l_res]})\n",
    "df_res_test = pd.DataFrame({'split_percent': [0.5, 0.7, 0.8],\n",
    "                            'log_tv + radio': [x['log_tv + radio'][1] for x in l_res],\n",
    "                            'TV + radio': [x['TV + radio'][1] for x in l_res],\n",
    "                            'TV + radio + newspaper': [x['TV + radio + newspaper'][1] for x in l_res]})"
   ]
  },
  {
   "cell_type": "code",
   "execution_count": 11,
   "metadata": {},
   "outputs": [
    {
     "data": {
      "image/png": "[encoded data removed]",
      "text/plain": [
       "<Figure size 432x288 with 2 Axes>"
      ]
     },
     "metadata": {
      "needs_background": "light"
     },
     "output_type": "display_data"
    }
   ],
   "source": [
    "plt.subplot(2, 1, 1)\n",
    "plt.title('R^2 on train')\n",
    "plt.plot( 'split_percent', 'log_tv + radio', data=df_res_train, marker='x', color='red', linewidth=2)\n",
    "plt.plot( 'split_percent', 'TV + radio', data=df_res_train, marker='x', color='blue', linewidth=2)\n",
    "plt.plot( 'split_percent', 'TV + radio + newspaper', data=df_res_train, marker='x', color='green', linewidth=2)\n",
    "plt.legend()\n",
    "plt.subplot(2, 1, 2)\n",
    "plt.title('R^2 on test')\n",
    "plt.plot( 'split_percent', 'log_tv + radio', data=df_res_test, marker='x', color='red', linewidth=2)\n",
    "plt.plot( 'split_percent', 'TV + radio', data=df_res_test, marker='x', color='blue', linewidth=2)\n",
    "plt.plot( 'split_percent', 'TV + radio + newspaper', data=df_res_test, marker='x', color='green', linewidth=2)\n",
    "plt.legend();"
   ]
  }
 ],
 "metadata": {
  "kernelspec": {
   "display_name": "Python 3",
   "language": "python",
   "name": "python3"
  },
  "language_info": {
   "codemirror_mode": {
    "name": "ipython",
    "version": 3
   },
   "file_extension": ".py",
   "mimetype": "text/x-python",
   "name": "python",
   "nbconvert_exporter": "python",
   "pygments_lexer": "ipython3",
   "version": "3.7.2"
  }
 },
 "nbformat": 4,
 "nbformat_minor": 2
}
