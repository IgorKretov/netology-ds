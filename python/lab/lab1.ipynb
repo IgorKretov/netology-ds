{
 "cells": [
  {
   "cell_type": "markdown",
   "metadata": {},
   "source": [
    "# Лабораторная работа по модулю “Python для анализа данных” от 30 марта 2019"
   ]
  },
  {
   "cell_type": "markdown",
   "metadata": {},
   "source": [
    "<pre>\n",
    "ФИО: Никифоров Владимир\n",
    "</pre>"
   ]
  },
  {
   "cell_type": "markdown",
   "metadata": {},
   "source": [
    "## Списки и строки –одни из важных начальных понятий для любого дата сайентиста,поскольку на знании принципов работы с ними строится работа с препроцессингоми обработкой данных в python в целоми работы с модулем pandas в частности"
   ]
  },
  {
   "cell_type": "markdown",
   "metadata": {},
   "source": [
    "### 1.1 Дан   произвольный   список, содержащий только числа.Выведите результат сложения всех чисел больше 10."
   ]
  },
  {
   "cell_type": "code",
   "execution_count": 1,
   "metadata": {},
   "outputs": [
    {
     "name": "stdout",
     "output_type": "stream",
     "text": [
      "Результат сложения всех чисел из списка [1, 4, 45, 6, 8, 12, 0, 7] больше 10: 57\n"
     ]
    }
   ],
   "source": [
    "l_numeric_list = [1,4,45,6,8,12,0,7]\n",
    "print(f'Результат сложения всех чисел из списка {l_numeric_list} больше 10: {sum([x for x in l_numeric_list if x > 10])}')"
   ]
  },
  {
   "cell_type": "markdown",
   "metadata": {},
   "source": [
    "### 1.2 Пусть   задан   список, содержащий строки.Выведите все строки, заканчивающиеся буквой r."
   ]
  },
  {
   "cell_type": "code",
   "execution_count": 2,
   "metadata": {},
   "outputs": [
    {
     "name": "stdout",
     "output_type": "stream",
     "text": [
      "Строками, заканчивающимися буквой r, в исходном списке ['asd', 'sdf', 'gfr', 'treer', 'aaa'] являются ['gfr', 'treer']\n"
     ]
    }
   ],
   "source": [
    "l_string_list = ['asd','sdf','gfr','treer','aaa']\n",
    "print(f\"Строками, заканчивающимися буквой r, в исходном списке {l_string_list} являются {[x for x in l_string_list if x[len(x)-1] == 'r']}\")"
   ]
  },
  {
   "cell_type": "markdown",
   "metadata": {},
   "source": [
    "### 1.3 Сгенерируйте и выведите cлучайную строку размером 6 символов, содержащую только цифры. Строка должна содержать хотя бы одну цифру 3."
   ]
  },
  {
   "cell_type": "code",
   "execution_count": 3,
   "metadata": {},
   "outputs": [],
   "source": [
    "from random import randint"
   ]
  },
  {
   "cell_type": "code",
   "execution_count": 4,
   "metadata": {},
   "outputs": [
    {
     "name": "stdout",
     "output_type": "stream",
     "text": [
      "Пример случайной строки размером 6 символов, содержащую только цифры и хотя бы одну цифру 3: 386811\n"
     ]
    }
   ],
   "source": [
    "print(f\"Пример случайной строки размером 6 символов, содержащую только цифры и хотя бы одну цифру 3: {'3'+str(randint(1e4, 9e4))}\")"
   ]
  },
  {
   "cell_type": "markdown",
   "metadata": {},
   "source": [
    "### 1.4 Пусть дана строка произвольной длины. Выведите информацию о том, сколько в ней символов и сколько слов."
   ]
  },
  {
   "cell_type": "code",
   "execution_count": 5,
   "metadata": {},
   "outputs": [
    {
     "name": "stdout",
     "output_type": "stream",
     "text": [
      "Строка 'Пусть дана строка произвольной длины. Выведите информацию о том, сколько в ней символов и сколько слов.' содержит 103 символов и 16 слов.\n"
     ]
    }
   ],
   "source": [
    "l_string = 'Пусть дана строка произвольной длины. Выведите информацию о том, сколько в ней символов и сколько слов.'\n",
    "print(f\"Строка '{l_string}' содержит {len(l_string)} символов и {len(l_string.split(' '))} слов.\")"
   ]
  },
  {
   "cell_type": "markdown",
   "metadata": {},
   "source": [
    "## Матрицы-следующее за списками и строками важное понятие.Широко используется в линейной алгебре. Находит свое применение в современных рекомендательных системах и архитектуре нейронных сетей"
   ]
  },
  {
   "cell_type": "markdown",
   "metadata": {},
   "source": [
    "### 2.1 Пусть дана матрица чисел размером NхN. Представьте данную матрицу ввиде списка. Выведите результат сложения всех элементов матрицы."
   ]
  },
  {
   "cell_type": "code",
   "execution_count": 6,
   "metadata": {},
   "outputs": [],
   "source": [
    "import numpy as np"
   ]
  },
  {
   "cell_type": "code",
   "execution_count": 7,
   "metadata": {},
   "outputs": [],
   "source": [
    "l_matrix = np.array([\n",
    "    [1, 2, 3],\n",
    "    [4, 5, 6],\n",
    "    [7, 8, 9]\n",
    "])"
   ]
  },
  {
   "cell_type": "code",
   "execution_count": 8,
   "metadata": {},
   "outputs": [
    {
     "name": "stdout",
     "output_type": "stream",
     "text": [
      "Сумма всех элементов матрицы равна 45.\n"
     ]
    }
   ],
   "source": [
    "print(f\"Сумма всех элементов матрицы равна {sum([l_matrix[x][y] for x in range(len(l_matrix)) for y in range(len(l_matrix))])}.\")"
   ]
  },
  {
   "cell_type": "code",
   "execution_count": 9,
   "metadata": {},
   "outputs": [
    {
     "name": "stdout",
     "output_type": "stream",
     "text": [
      "Альтернативное вычисление. Сумма всех элементов матрицы равна 45.\n"
     ]
    }
   ],
   "source": [
    "print(f\"Альтернативное вычисление. Сумма всех элементов матрицы равна {sum(sum(l_matrix))}.\")"
   ]
  },
  {
   "cell_type": "markdown",
   "metadata": {},
   "source": [
    "### 2.2 Дана матрица размером NxM. Напишите алгоритм вычисления максимума из сумм элементов каждого столбца."
   ]
  },
  {
   "cell_type": "code",
   "execution_count": 10,
   "metadata": {},
   "outputs": [],
   "source": [
    "l_matrix = np.array([\n",
    "    [1, 2, 3],\n",
    "    [4, 5, 6],\n",
    "    [7, 8, 9],\n",
    "    [0, 1, 0]\n",
    "])"
   ]
  },
  {
   "cell_type": "code",
   "execution_count": 11,
   "metadata": {},
   "outputs": [
    {
     "name": "stdout",
     "output_type": "stream",
     "text": [
      "Максимум из сумм элементов каждого столбца равен 18.\n"
     ]
    }
   ],
   "source": [
    "print(f\"Максимум из сумм элементов каждого столбца равен {max([sum(l_matrix[:,i]) for i in range(l_matrix.shape[1])])}.\")"
   ]
  },
  {
   "cell_type": "code",
   "execution_count": 12,
   "metadata": {},
   "outputs": [
    {
     "name": "stdout",
     "output_type": "stream",
     "text": [
      "Альтернативное вычисление. Максимум из сумм элементов каждого столбца равен 18.\n"
     ]
    }
   ],
   "source": [
    "print(f\"Альтернативное вычисление. Максимум из сумм элементов каждого столбца равен {max(sum(l_matrix))}.\")"
   ]
  },
  {
   "cell_type": "markdown",
   "metadata": {},
   "source": [
    "## Работа с динамичными структурами важная часть в имплементации вашего кода в продакшн систему"
   ]
  },
  {
   "cell_type": "markdown",
   "metadata": {},
   "source": [
    "### 3.1 Пусть   список студентов представлен в виде структуры [[No, ФИО, Возраст,Группа],[No, ФИО, Возраст, Группа],[No, ФИО, Возраст, Группа]]. Преобразуйте список в словарь вида: {No: [ФИО, Возраст, Группа], No:[....], No: [....]}"
   ]
  },
  {
   "cell_type": "code",
   "execution_count": 13,
   "metadata": {},
   "outputs": [
    {
     "data": {
      "text/plain": [
       "{1: ['Ivanov Ivan Ivanych', 21, 'CS01'],\n",
       " 2: ['Petrov Petr Petrovich', 21, 'CS01'],\n",
       " 3: ['Sergeev Sergey Sergeevich', 20, 'CS01']}"
      ]
     },
     "execution_count": 13,
     "metadata": {},
     "output_type": "execute_result"
    }
   ],
   "source": [
    "l_students_list = [[1, 'Ivanov Ivan Ivanych', 21, 'CS01'], [2, 'Petrov Petr Petrovich', 21, 'CS01'], [3, 'Sergeev Sergey Sergeevich', 20, 'CS01']]\n",
    "l_students_dict = {n: [fio, age, group] for n, fio, age, group in l_students_list}\n",
    "l_students_dict"
   ]
  },
  {
   "cell_type": "markdown",
   "metadata": {},
   "source": [
    "### 3.2 Напишите алгоритм, позволяющий найти запись в словаре из задачи 3.1 (без преобразования словаря обратно в список) по фамилии и изменить в ней номер группы. Фамилию и новый номер группы необходимо ввести с клавиатуры."
   ]
  },
  {
   "cell_type": "code",
   "execution_count": 14,
   "metadata": {},
   "outputs": [],
   "source": [
    "import json\n",
    "json.dump( l_students_dict, open( \"../data/l_students_dict.json\", 'w' ) )"
   ]
  },
  {
   "cell_type": "code",
   "execution_count": 15,
   "metadata": {},
   "outputs": [
    {
     "name": "stdout",
     "output_type": "stream",
     "text": [
      "{\"1\": [\"Ivanov Ivan Ivanych\", 21, \"CS01\"], \"2\": [\"Petrov Petr Petrovich\", 21, \"CS01\"], \"3\": [\"Sergeev Sergey Sergeevich\", 20, \"CS01\"]}"
     ]
    }
   ],
   "source": [
    "!cat ../data/l_students_dict.json"
   ]
  },
  {
   "cell_type": "code",
   "execution_count": 16,
   "metadata": {},
   "outputs": [
    {
     "name": "stdout",
     "output_type": "stream",
     "text": [
      "# coding: utf-8\n",
      "\n",
      "# Изменения поля Группа в словаре студентов вида:\n",
      "# {No: [ФИО, Возраст, Группа], No:[....], No: [....]}\n",
      "\n",
      "import sys\n",
      "import json\n",
      "\n",
      "# Needs two parameters\n",
      "assert(len(sys.argv) == 2+1)\n",
      "\n",
      "fio = sys.argv[1]\n",
      "new_group = sys.argv[2]\n",
      "\n",
      "assert(len(fio) > 0)\n",
      "assert(len(new_group) > 0)\n",
      "\n",
      "l_students_dict = json.load( open( \"../data/l_students_dict.json\" ) )\n",
      "\n",
      "for k, v in l_students_dict.items():\n",
      "    if v[0] == fio:\n",
      "        l_students_dict[k][2] = new_group\n",
      "        \n",
      "print(l_students_dict)"
     ]
    }
   ],
   "source": [
    "!cat ../py/lab1_change_group.py"
   ]
  },
  {
   "cell_type": "code",
   "execution_count": 17,
   "metadata": {},
   "outputs": [
    {
     "name": "stdout",
     "output_type": "stream",
     "text": [
      "{'1': ['Ivanov Ivan Ivanych', 21, 'CS07'], '2': ['Petrov Petr Petrovich', 21, 'CS01'], '3': ['Sergeev Sergey Sergeevich', 20, 'CS01']}\n"
     ]
    }
   ],
   "source": [
    "!python ../py/lab1_change_group.py 'Ivanov Ivan Ivanych' 'CS07'"
   ]
  },
  {
   "cell_type": "markdown",
   "metadata": {},
   "source": [
    "### 3.3 Напишите алгоритм, позволяющий аналогично задаче 3.2 изменить возраст студента"
   ]
  },
  {
   "cell_type": "code",
   "execution_count": 18,
   "metadata": {},
   "outputs": [
    {
     "name": "stdout",
     "output_type": "stream",
     "text": [
      "{\"1\": [\"Ivanov Ivan Ivanych\", 21, \"CS01\"], \"2\": [\"Petrov Petr Petrovich\", 21, \"CS01\"], \"3\": [\"Sergeev Sergey Sergeevich\", 20, \"CS01\"]}"
     ]
    }
   ],
   "source": [
    "!cat ../data/l_students_dict.json"
   ]
  },
  {
   "cell_type": "code",
   "execution_count": 19,
   "metadata": {},
   "outputs": [
    {
     "name": "stdout",
     "output_type": "stream",
     "text": [
      "# coding: utf-8\n",
      "\n",
      "# Изменения поля Возраст в словаре студентов вида:\n",
      "# {No: [ФИО, Возраст, Группа], No:[....], No: [....]}\n",
      "\n",
      "import sys\n",
      "import json\n",
      "\n",
      "# Needs two parameters\n",
      "assert(len(sys.argv) == 2+1)\n",
      "\n",
      "fio = sys.argv[1]\n",
      "new_age = sys.argv[2]\n",
      "\n",
      "def age_is_correct(age, lower_age = 1, upper_age = 120):\n",
      "    \"\"\"\n",
      "    Проверка корректности возраста age по следующим правилам:\n",
      "    1. Целое число\n",
      "    2. В адекватных пределах\n",
      "    \n",
      "    Возвращает True или False. Пример\n",
      "    age_is_correct(15)\n",
      "    True\n",
      "    \n",
      "    age_is_correct(121)\n",
      "    False\n",
      "    \n",
      "    age_is_correct(-5)\n",
      "    False\n",
      "    \"\"\"\n",
      "    \n",
      "    # if str.isnumeric(age):\n",
      "    if lower_age <= int(age) <= upper_age:\n",
      "        return True\n",
      "    \n",
      "    return False\n",
      "\n",
      "assert(len(fio) > 0)\n",
      "assert(age_is_correct(new_age))\n",
      "\n",
      "l_students_dict = json.load( open( \"../data/l_students_dict.json\" ) )\n",
      "\n",
      "for k, v in l_students_dict.items():\n",
      "    if v[0] == fio:\n",
      "        l_students_dict[k][1] = int(new_age)\n",
      "        \n",
      "print(l_students_dict)"
     ]
    }
   ],
   "source": [
    "!cat ../py/lab1_change_age.py"
   ]
  },
  {
   "cell_type": "code",
   "execution_count": 20,
   "metadata": {},
   "outputs": [
    {
     "name": "stdout",
     "output_type": "stream",
     "text": [
      "Traceback (most recent call last):\n",
      "  File \"../py/lab1_change_age.py\", line 10, in <module>\n",
      "    assert(len(sys.argv) == 2+1)\n",
      "AssertionError\n"
     ]
    }
   ],
   "source": [
    "!python ../py/lab1_change_age.py 'Ivanov Ivan Ivanych'"
   ]
  },
  {
   "cell_type": "code",
   "execution_count": 21,
   "metadata": {},
   "outputs": [
    {
     "name": "stdout",
     "output_type": "stream",
     "text": [
      "{'1': ['Ivanov Ivan Ivanych', 70, 'CS01'], '2': ['Petrov Petr Petrovich', 21, 'CS01'], '3': ['Sergeev Sergey Sergeevich', 20, 'CS01']}\n"
     ]
    }
   ],
   "source": [
    "!python ../py/lab1_change_age.py 'Ivanov Ivan Ivanych' 70"
   ]
  }
 ],
 "metadata": {
  "kernelspec": {
   "display_name": "Python 3",
   "language": "python",
   "name": "python3"
  },
  "language_info": {
   "codemirror_mode": {
    "name": "ipython",
    "version": 3
   },
   "file_extension": ".py",
   "mimetype": "text/x-python",
   "name": "python",
   "nbconvert_exporter": "python",
   "pygments_lexer": "ipython3",
   "version": "3.7.2"
  }
 },
 "nbformat": 4,
 "nbformat_minor": 2
}
