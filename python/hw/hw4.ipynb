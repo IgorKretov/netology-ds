{
 "cells": [
  {
   "cell_type": "markdown",
   "metadata": {},
   "source": [
    "# Домашнее задание № 4"
   ]
  },
  {
   "cell_type": "markdown",
   "metadata": {},
   "source": [
    "<pre>\n",
    "ФИО: Никифоров Владимир\n",
    "</pre>"
   ]
  },
  {
   "cell_type": "code",
   "execution_count": 7,
   "metadata": {},
   "outputs": [],
   "source": [
    "from datetime import datetime, timedelta"
   ]
  },
  {
   "cell_type": "markdown",
   "metadata": {},
   "source": [
    "## Задание 1\n",
    "Напишите функцию date_range, которая возвращает список дней между датами start_date и end_date. Даты должны вводиться в формате YYYY-MM-DD."
   ]
  },
  {
   "cell_type": "code",
   "execution_count": 19,
   "metadata": {},
   "outputs": [],
   "source": [
    "def date_range(start_date, end_date):\n",
    "    \"\"\"\n",
    "    Input:\n",
    "        start_date - дата начала периода в формате YYYY-MM-DD.\n",
    "        end_date   - дата окончания периода в формате YYYY-MM-DD.\n",
    "    Result:\n",
    "        List       - Список дней между датами start_date и end_date\n",
    "    \"\"\"\n",
    "    def safe_convert_date(date):\n",
    "        \"\"\"\n",
    "        Input:\n",
    "            date - текст с датой в формате YYYY-MM-DD\n",
    "        Result:\n",
    "            datetime - дата в случае успешной конвертации текста в дату\n",
    "                     - Null в случае ошибки\n",
    "        \"\"\"\n",
    "        try:\n",
    "            dt = datetime.strptime(date, \"%Y-%m-%d\")\n",
    "            return dt\n",
    "        except:\n",
    "            print(f'Неправильный формат даты \"{date}\". Даты должны вводиться в формате YYYY-MM-DD.')\n",
    "        return\n",
    "    \n",
    "    start_date_dt = safe_convert_date(start_date)\n",
    "    end_date_dt = safe_convert_date(end_date)\n",
    "    period_of_days = []\n",
    "    if start_date_dt is not None and end_date_dt is not None:\n",
    "        cur_dt = start_date_dt\n",
    "        while cur_dt <= end_date_dt:\n",
    "            period_of_days.append(cur_dt.strftime('%Y-%m-%d'))\n",
    "            cur_dt += timedelta(days=1)\n",
    "\n",
    "    return period_of_days"
   ]
  },
  {
   "cell_type": "code",
   "execution_count": 20,
   "metadata": {},
   "outputs": [
    {
     "data": {
      "text/plain": [
       "['2019-03-16',\n",
       " '2019-03-17',\n",
       " '2019-03-18',\n",
       " '2019-03-19',\n",
       " '2019-03-20',\n",
       " '2019-03-21',\n",
       " '2019-03-22',\n",
       " '2019-03-23']"
      ]
     },
     "execution_count": 20,
     "metadata": {},
     "output_type": "execute_result"
    }
   ],
   "source": [
    "date_range('2019-03-16','2019-03-23')"
   ]
  },
  {
   "cell_type": "code",
   "execution_count": 21,
   "metadata": {},
   "outputs": [
    {
     "name": "stdout",
     "output_type": "stream",
     "text": [
      "Неправильный формат даты \"X2019-03-16\". Даты должны вводиться в формате YYYY-MM-DD.\n"
     ]
    },
    {
     "data": {
      "text/plain": [
       "[]"
      ]
     },
     "execution_count": 21,
     "metadata": {},
     "output_type": "execute_result"
    }
   ],
   "source": [
    "date_range('X2019-03-16','2019-03-23')"
   ]
  },
  {
   "cell_type": "code",
   "execution_count": 22,
   "metadata": {},
   "outputs": [
    {
     "name": "stdout",
     "output_type": "stream",
     "text": [
      "Неправильный формат даты \"2019-03-23Z\". Даты должны вводиться в формате YYYY-MM-DD.\n"
     ]
    },
    {
     "data": {
      "text/plain": [
       "[]"
      ]
     },
     "execution_count": 22,
     "metadata": {},
     "output_type": "execute_result"
    }
   ],
   "source": [
    "date_range('2019-03-16','2019-03-23Z')"
   ]
  },
  {
   "cell_type": "markdown",
   "metadata": {},
   "source": [
    "## Задание 2\n",
    "Дополните функцию из первого задания проверкой на корректность дат. В случае неверного формата или если start_date > end_date должен возвращаться пустой список."
   ]
  },
  {
   "cell_type": "code",
   "execution_count": 34,
   "metadata": {},
   "outputs": [],
   "source": [
    "def date_range(start_date, end_date):\n",
    "    \"\"\"\n",
    "    Input:\n",
    "        start_date - дата начала периода в формате YYYY-MM-DD.\n",
    "        end_date   - дата окончания периода в формате YYYY-MM-DD.\n",
    "    Result:\n",
    "        List       - Список дней между датами start_date и end_date\n",
    "    \"\"\"\n",
    "    def safe_convert_date(date):\n",
    "        \"\"\"\n",
    "        Input:\n",
    "            date - текст с датой в формате YYYY-MM-DD\n",
    "        Result:\n",
    "            datetime - дата в случае успешной конвертации текста в дату\n",
    "                     - Null в случае ошибки\n",
    "        \"\"\"\n",
    "        try:\n",
    "            dt = datetime.strptime(date, \"%Y-%m-%d\")\n",
    "            return dt\n",
    "        except:\n",
    "            print(f'Неправильный формат даты \"{date}\". Даты должны вводиться в формате YYYY-MM-DD.')\n",
    "        return\n",
    "    \n",
    "    start_date_dt = safe_convert_date(start_date)\n",
    "    end_date_dt = safe_convert_date(end_date)\n",
    "    period_of_days = []\n",
    "    if start_date_dt is not None and end_date_dt is not None:\n",
    "        if start_date_dt > end_date_dt:\n",
    "            print(f'Задан некорректный период: start_date [\"{start_date_dt.strftime(\"%Y-%m-%d\")}\"] > end_date [\"{end_date_dt.strftime(\"%Y-%m-%d\")}\"]')\n",
    "            return period_of_days\n",
    "        cur_dt = start_date_dt\n",
    "        while cur_dt <= end_date_dt:\n",
    "            period_of_days.append(cur_dt.strftime('%Y-%m-%d'))\n",
    "            cur_dt += timedelta(days=1)\n",
    "\n",
    "    return period_of_days"
   ]
  },
  {
   "cell_type": "code",
   "execution_count": 30,
   "metadata": {},
   "outputs": [
    {
     "data": {
      "text/plain": [
       "['2019-03-16',\n",
       " '2019-03-17',\n",
       " '2019-03-18',\n",
       " '2019-03-19',\n",
       " '2019-03-20',\n",
       " '2019-03-21',\n",
       " '2019-03-22',\n",
       " '2019-03-23']"
      ]
     },
     "execution_count": 30,
     "metadata": {},
     "output_type": "execute_result"
    }
   ],
   "source": [
    "date_range('2019-03-16','2019-03-23')"
   ]
  },
  {
   "cell_type": "code",
   "execution_count": 31,
   "metadata": {},
   "outputs": [
    {
     "name": "stdout",
     "output_type": "stream",
     "text": [
      "Неправильный формат даты \"X2019-03-16\". Даты должны вводиться в формате YYYY-MM-DD.\n"
     ]
    },
    {
     "data": {
      "text/plain": [
       "[]"
      ]
     },
     "execution_count": 31,
     "metadata": {},
     "output_type": "execute_result"
    }
   ],
   "source": [
    "date_range('X2019-03-16','2019-03-23')"
   ]
  },
  {
   "cell_type": "code",
   "execution_count": 32,
   "metadata": {},
   "outputs": [
    {
     "name": "stdout",
     "output_type": "stream",
     "text": [
      "Неправильный формат даты \"2019-03-23Z\". Даты должны вводиться в формате YYYY-MM-DD.\n"
     ]
    },
    {
     "data": {
      "text/plain": [
       "[]"
      ]
     },
     "execution_count": 32,
     "metadata": {},
     "output_type": "execute_result"
    }
   ],
   "source": [
    "date_range('2019-03-16','2019-03-23Z')"
   ]
  },
  {
   "cell_type": "code",
   "execution_count": 35,
   "metadata": {},
   "outputs": [
    {
     "name": "stdout",
     "output_type": "stream",
     "text": [
      "Задан некорректный период: start_date [\"2019-03-16\"] > end_date [\"2019-03-01\"]\n"
     ]
    },
    {
     "data": {
      "text/plain": [
       "[]"
      ]
     },
     "execution_count": 35,
     "metadata": {},
     "output_type": "execute_result"
    }
   ],
   "source": [
    "date_range('2019-03-16','2019-03-01')"
   ]
  },
  {
   "cell_type": "markdown",
   "metadata": {},
   "source": [
    "## Задание 3\n",
    "Дан поток дат в формате YYYY-MM-DD, в которых встречаются некорректные значения:\n",
    "stream = ['2018-04-02', '2018-02-29', '2018-19-02']\n",
    "\n",
    "Напишите функцию, которая проверяет эти даты на корректность. Т. е. для каждой даты возвращает True (дата корректна) или False (некорректная дата). "
   ]
  },
  {
   "cell_type": "code",
   "execution_count": null,
   "metadata": {},
   "outputs": [],
   "source": []
  },
  {
   "cell_type": "markdown",
   "metadata": {},
   "source": [
    "## Задание 4\n",
    "Напишите функцию, которая возвращает список дат с 1 по вчерашний день текущего месяца. Если дан 1 день месяца, то возвращается список дней прошлого месяца."
   ]
  },
  {
   "cell_type": "code",
   "execution_count": null,
   "metadata": {},
   "outputs": [],
   "source": []
  },
  {
   "cell_type": "markdown",
   "metadata": {},
   "source": [
    "## Задание 5\n",
    "Напишите функцию, которая возвращает точную дату в формате YYYY-MM-DD по фразе:\n",
    "1. 'today' - сегодняшнюю дату\n",
    "2. 'last monday' -  прошлый понедельник\n",
    "3. 'last day' - Последний день текущего месяца"
   ]
  },
  {
   "cell_type": "code",
   "execution_count": null,
   "metadata": {},
   "outputs": [],
   "source": []
  }
 ],
 "metadata": {
  "kernelspec": {
   "display_name": "Python 3",
   "language": "python",
   "name": "python3"
  },
  "language_info": {
   "codemirror_mode": {
    "name": "ipython",
    "version": 3
   },
   "file_extension": ".py",
   "mimetype": "text/x-python",
   "name": "python",
   "nbconvert_exporter": "python",
   "pygments_lexer": "ipython3",
   "version": "3.7.2"
  }
 },
 "nbformat": 4,
 "nbformat_minor": 2
}
