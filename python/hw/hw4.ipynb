{
 "cells": [
  {
   "cell_type": "markdown",
   "metadata": {},
   "source": [
    "# Домашнее задание № 4"
   ]
  },
  {
   "cell_type": "markdown",
   "metadata": {},
   "source": [
    "<pre>\n",
    "ФИО: Никифоров Владимир\n",
    "</pre>"
   ]
  },
  {
   "cell_type": "code",
   "execution_count": 1,
   "metadata": {},
   "outputs": [],
   "source": [
    "from datetime import datetime, timedelta"
   ]
  },
  {
   "cell_type": "markdown",
   "metadata": {},
   "source": [
    "## Задание 1\n",
    "Напишите функцию date_range, которая возвращает список дней между датами start_date и end_date. Даты должны вводиться в формате YYYY-MM-DD."
   ]
  },
  {
   "cell_type": "code",
   "execution_count": 2,
   "metadata": {},
   "outputs": [],
   "source": [
    "def date_range(start_date, end_date):\n",
    "    \"\"\"\n",
    "    Возвращает список дней между датами start_date и end_date\n",
    "    Input:\n",
    "        start_date - дата начала периода в формате YYYY-MM-DD.\n",
    "        end_date   - дата окончания периода в формате YYYY-MM-DD.\n",
    "    Result:\n",
    "        List       - Список дней между датами start_date и end_date\n",
    "    \"\"\"\n",
    "    def safe_convert_date(date):\n",
    "        \"\"\"\n",
    "        Перевод строки в дату с отловом ошибки конвертации\n",
    "        Input:\n",
    "            date - текст с датой в формате YYYY-MM-DD\n",
    "        Result:\n",
    "            datetime - дата в случае успешной конвертации текста в дату\n",
    "                     - Null в случае ошибки\n",
    "        \"\"\"\n",
    "        try:\n",
    "            dt = datetime.strptime(date, \"%Y-%m-%d\")\n",
    "            return dt\n",
    "        except:\n",
    "            print(f'Неправильный формат даты \"{date}\". Даты должны вводиться в формате YYYY-MM-DD.')\n",
    "        return\n",
    "    \n",
    "    start_date_dt = safe_convert_date(start_date)\n",
    "    end_date_dt = safe_convert_date(end_date)\n",
    "    period_of_days = []\n",
    "    if start_date_dt is not None and end_date_dt is not None:\n",
    "        cur_dt = start_date_dt\n",
    "        while cur_dt <= end_date_dt:\n",
    "            period_of_days.append(cur_dt.strftime('%Y-%m-%d'))\n",
    "            cur_dt += timedelta(days=1)\n",
    "\n",
    "    return period_of_days"
   ]
  },
  {
   "cell_type": "code",
   "execution_count": 3,
   "metadata": {},
   "outputs": [
    {
     "data": {
      "text/plain": [
       "['2019-03-16',\n",
       " '2019-03-17',\n",
       " '2019-03-18',\n",
       " '2019-03-19',\n",
       " '2019-03-20',\n",
       " '2019-03-21',\n",
       " '2019-03-22',\n",
       " '2019-03-23']"
      ]
     },
     "execution_count": 3,
     "metadata": {},
     "output_type": "execute_result"
    }
   ],
   "source": [
    "date_range('2019-03-16','2019-03-23')"
   ]
  },
  {
   "cell_type": "code",
   "execution_count": 4,
   "metadata": {},
   "outputs": [
    {
     "name": "stdout",
     "output_type": "stream",
     "text": [
      "Неправильный формат даты \"X2019-03-16\". Даты должны вводиться в формате YYYY-MM-DD.\n"
     ]
    },
    {
     "data": {
      "text/plain": [
       "[]"
      ]
     },
     "execution_count": 4,
     "metadata": {},
     "output_type": "execute_result"
    }
   ],
   "source": [
    "date_range('X2019-03-16','2019-03-23')"
   ]
  },
  {
   "cell_type": "code",
   "execution_count": 5,
   "metadata": {},
   "outputs": [
    {
     "name": "stdout",
     "output_type": "stream",
     "text": [
      "Неправильный формат даты \"2019-03-23Z\". Даты должны вводиться в формате YYYY-MM-DD.\n"
     ]
    },
    {
     "data": {
      "text/plain": [
       "[]"
      ]
     },
     "execution_count": 5,
     "metadata": {},
     "output_type": "execute_result"
    }
   ],
   "source": [
    "date_range('2019-03-16','2019-03-23Z')"
   ]
  },
  {
   "cell_type": "markdown",
   "metadata": {},
   "source": [
    "## Задание 2\n",
    "Дополните функцию из первого задания проверкой на корректность дат. В случае неверного формата или если start_date > end_date должен возвращаться пустой список."
   ]
  },
  {
   "cell_type": "code",
   "execution_count": 6,
   "metadata": {},
   "outputs": [],
   "source": [
    "def date_range(start_date, end_date):\n",
    "    \"\"\"\n",
    "    Возвращает список дней между датами start_date и end_date\n",
    "    Input:\n",
    "        start_date - дата начала периода в формате YYYY-MM-DD.\n",
    "        end_date   - дата окончания периода в формате YYYY-MM-DD.\n",
    "    Result:\n",
    "        List       - Список дней между датами start_date и end_date\n",
    "    \"\"\"\n",
    "    def safe_convert_date(date):\n",
    "        \"\"\"\n",
    "        Перевод строки в дату с отловом ошибки конвертации\n",
    "        Input:\n",
    "            date - текст с датой в формате YYYY-MM-DD\n",
    "        Result:\n",
    "            datetime - дата в случае успешной конвертации текста в дату\n",
    "                     - Null в случае ошибки\n",
    "        \"\"\"\n",
    "        try:\n",
    "            dt = datetime.strptime(date, \"%Y-%m-%d\")\n",
    "            return dt\n",
    "        except:\n",
    "            print(f'Неправильный формат даты \"{date}\". Даты должны вводиться в формате YYYY-MM-DD.')\n",
    "        return\n",
    "    \n",
    "    start_date_dt = safe_convert_date(start_date)\n",
    "    end_date_dt = safe_convert_date(end_date)\n",
    "    period_of_days = []\n",
    "    if start_date_dt is not None and end_date_dt is not None:\n",
    "        if start_date_dt > end_date_dt:\n",
    "            print(f'Задан некорректный период: start_date [\"{start_date_dt.strftime(\"%Y-%m-%d\")}\"] > end_date [\"{end_date_dt.strftime(\"%Y-%m-%d\")}\"]')\n",
    "            return period_of_days\n",
    "        cur_dt = start_date_dt\n",
    "        while cur_dt <= end_date_dt:\n",
    "            period_of_days.append(cur_dt.strftime('%Y-%m-%d'))\n",
    "            cur_dt += timedelta(days=1)\n",
    "\n",
    "    return period_of_days"
   ]
  },
  {
   "cell_type": "code",
   "execution_count": 7,
   "metadata": {},
   "outputs": [
    {
     "data": {
      "text/plain": [
       "['2019-03-16',\n",
       " '2019-03-17',\n",
       " '2019-03-18',\n",
       " '2019-03-19',\n",
       " '2019-03-20',\n",
       " '2019-03-21',\n",
       " '2019-03-22',\n",
       " '2019-03-23']"
      ]
     },
     "execution_count": 7,
     "metadata": {},
     "output_type": "execute_result"
    }
   ],
   "source": [
    "date_range('2019-03-16','2019-03-23')"
   ]
  },
  {
   "cell_type": "code",
   "execution_count": 8,
   "metadata": {},
   "outputs": [
    {
     "name": "stdout",
     "output_type": "stream",
     "text": [
      "Неправильный формат даты \"X2019-03-16\". Даты должны вводиться в формате YYYY-MM-DD.\n"
     ]
    },
    {
     "data": {
      "text/plain": [
       "[]"
      ]
     },
     "execution_count": 8,
     "metadata": {},
     "output_type": "execute_result"
    }
   ],
   "source": [
    "date_range('X2019-03-16','2019-03-23')"
   ]
  },
  {
   "cell_type": "code",
   "execution_count": 9,
   "metadata": {},
   "outputs": [
    {
     "name": "stdout",
     "output_type": "stream",
     "text": [
      "Неправильный формат даты \"2019-03-23Z\". Даты должны вводиться в формате YYYY-MM-DD.\n"
     ]
    },
    {
     "data": {
      "text/plain": [
       "[]"
      ]
     },
     "execution_count": 9,
     "metadata": {},
     "output_type": "execute_result"
    }
   ],
   "source": [
    "date_range('2019-03-16','2019-03-23Z')"
   ]
  },
  {
   "cell_type": "code",
   "execution_count": 10,
   "metadata": {},
   "outputs": [
    {
     "name": "stdout",
     "output_type": "stream",
     "text": [
      "Задан некорректный период: start_date [\"2019-03-16\"] > end_date [\"2019-03-01\"]\n"
     ]
    },
    {
     "data": {
      "text/plain": [
       "[]"
      ]
     },
     "execution_count": 10,
     "metadata": {},
     "output_type": "execute_result"
    }
   ],
   "source": [
    "date_range('2019-03-16','2019-03-01')"
   ]
  },
  {
   "cell_type": "markdown",
   "metadata": {},
   "source": [
    "## Задание 3\n",
    "Дан поток дат в формате YYYY-MM-DD, в которых встречаются некорректные значения:\n",
    "stream = ['2018-04-02', '2018-02-29', '2018-19-02']\n",
    "\n",
    "Напишите функцию, которая проверяет эти даты на корректность. Т. е. для каждой даты возвращает True (дата корректна) или False (некорректная дата). "
   ]
  },
  {
   "cell_type": "code",
   "execution_count": 11,
   "metadata": {},
   "outputs": [],
   "source": [
    "stream = ['2018-04-02', '2018-02-29', '2018-19-02']"
   ]
  },
  {
   "cell_type": "code",
   "execution_count": 12,
   "metadata": {},
   "outputs": [],
   "source": [
    "def check_date_is_correct(date):\n",
    "    \"\"\"\n",
    "    Проверяет дату на соответствие требованию формата YYYY-MM-DD\n",
    "    Input:\n",
    "        date - строка с датой, предположительно в формате YYYY-MM-DD\n",
    "    Result:\n",
    "        Boolean - True (дата корректна) или False (некорректная дата)\n",
    "    \"\"\"\n",
    "    try:\n",
    "        dt = datetime.strptime(date, \"%Y-%m-%d\")\n",
    "        return True\n",
    "    except:\n",
    "        return False"
   ]
  },
  {
   "cell_type": "code",
   "execution_count": 13,
   "metadata": {},
   "outputs": [
    {
     "name": "stdout",
     "output_type": "stream",
     "text": [
      "Результат проверки дат на корректность:\n",
      "2018-04-02 True\n",
      "2018-02-29 False\n",
      "2018-19-02 False\n"
     ]
    }
   ],
   "source": [
    "print('Результат проверки дат на корректность:')\n",
    "for dt in stream:\n",
    "    print(dt, check_date_is_correct(dt))"
   ]
  },
  {
   "cell_type": "markdown",
   "metadata": {},
   "source": [
    "## Задание 4\n",
    "Напишите функцию, которая возвращает список дат с 1 по вчерашний день текущего месяца. Если дан 1 день месяца, то возвращается список дней прошлого месяца."
   ]
  },
  {
   "cell_type": "code",
   "execution_count": 14,
   "metadata": {},
   "outputs": [],
   "source": [
    "def list_last_days(date):\n",
    "    \"\"\"\n",
    "    Возвращает список дат с 1 по вчерашний день текущего месяца. Если дан 1 день месяца, то возвращается список дней прошлого месяца.\n",
    "    Input:\n",
    "        date - дата, до которой нужно вывести список дат с начала месяца\n",
    "    Result:\n",
    "        list - список дат с начала месяца до указанной даты (не включая)\n",
    "    \"\"\"\n",
    "    if date.day > 1:\n",
    "        date_begin = datetime.strptime(date.strftime('%Y-%m-01'), '%Y-%m-%d')\n",
    "        date_end = date + timedelta(days=-1)\n",
    "    else:\n",
    "        date_begin = datetime.strptime((date + timedelta(days=-1)).strftime('%Y-%m-01'), '%Y-%m-%d')\n",
    "        date_end = date + timedelta(days=-1)\n",
    "\n",
    "    return [(date_begin + timedelta(days=x-1)).strftime('%Y-%m-%d') for x in range(date_begin.day, date_end.day + 1)]"
   ]
  },
  {
   "cell_type": "code",
   "execution_count": 15,
   "metadata": {},
   "outputs": [
    {
     "data": {
      "text/plain": [
       "['2019-03-01',\n",
       " '2019-03-02',\n",
       " '2019-03-03',\n",
       " '2019-03-04',\n",
       " '2019-03-05',\n",
       " '2019-03-06',\n",
       " '2019-03-07',\n",
       " '2019-03-08',\n",
       " '2019-03-09',\n",
       " '2019-03-10',\n",
       " '2019-03-11',\n",
       " '2019-03-12',\n",
       " '2019-03-13',\n",
       " '2019-03-14',\n",
       " '2019-03-15']"
      ]
     },
     "execution_count": 15,
     "metadata": {},
     "output_type": "execute_result"
    }
   ],
   "source": [
    "list_last_days(datetime.now())"
   ]
  },
  {
   "cell_type": "code",
   "execution_count": 16,
   "metadata": {},
   "outputs": [
    {
     "data": {
      "text/plain": [
       "['2019-02-01',\n",
       " '2019-02-02',\n",
       " '2019-02-03',\n",
       " '2019-02-04',\n",
       " '2019-02-05',\n",
       " '2019-02-06',\n",
       " '2019-02-07',\n",
       " '2019-02-08',\n",
       " '2019-02-09',\n",
       " '2019-02-10',\n",
       " '2019-02-11',\n",
       " '2019-02-12',\n",
       " '2019-02-13',\n",
       " '2019-02-14',\n",
       " '2019-02-15',\n",
       " '2019-02-16',\n",
       " '2019-02-17',\n",
       " '2019-02-18',\n",
       " '2019-02-19',\n",
       " '2019-02-20',\n",
       " '2019-02-21',\n",
       " '2019-02-22',\n",
       " '2019-02-23',\n",
       " '2019-02-24',\n",
       " '2019-02-25',\n",
       " '2019-02-26',\n",
       " '2019-02-27',\n",
       " '2019-02-28']"
      ]
     },
     "execution_count": 16,
     "metadata": {},
     "output_type": "execute_result"
    }
   ],
   "source": [
    "list_last_days(datetime.strptime('2019-03-01', '%Y-%m-%d'))"
   ]
  },
  {
   "cell_type": "markdown",
   "metadata": {},
   "source": [
    "## Задание 5\n",
    "Напишите функцию, которая возвращает точную дату в формате YYYY-MM-DD по фразе:\n",
    "1. 'today' - сегодняшнюю дату\n",
    "2. 'last monday' -  прошлый понедельник\n",
    "3. 'last day' - Последний день текущего месяца"
   ]
  },
  {
   "cell_type": "code",
   "execution_count": 17,
   "metadata": {},
   "outputs": [],
   "source": [
    "def get_date(command):\n",
    "    \"\"\"\n",
    "    Возвращает точную дату в формате YYYY-MM-DD по фразе:\n",
    "        'today' - сегодняшнюю дату\n",
    "        'last monday' - прошлый понедельник\n",
    "        'last day' - Последний день текущего месяца\n",
    "    Input:\n",
    "        command - кодовая фраза ('today', 'last monday', 'last day')\n",
    "    Result:\n",
    "        Дата в формате YYYY-MM-DD, соответствующая кодовой фразе\n",
    "    \"\"\"\n",
    "    if command == 'today':\n",
    "        return datetime.now().strftime('%Y-%m-%d')\n",
    "    if command == 'last monday':\n",
    "        return (datetime.now() + timedelta(days=-datetime.now().weekday() - 7)).strftime('%Y-%m-%d')\n",
    "    if command == 'last day':\n",
    "        return (datetime(datetime.now().year, datetime.now().month+1, 1, 0, 0) + timedelta(days=-1)).strftime('%Y-%m-%d')\n",
    "    return 'Command incorrect. Use [today, last monday, last day]'"
   ]
  },
  {
   "cell_type": "code",
   "execution_count": 18,
   "metadata": {},
   "outputs": [
    {
     "data": {
      "text/plain": [
       "'2019-03-16'"
      ]
     },
     "execution_count": 18,
     "metadata": {},
     "output_type": "execute_result"
    }
   ],
   "source": [
    "get_date('today')"
   ]
  },
  {
   "cell_type": "code",
   "execution_count": 19,
   "metadata": {},
   "outputs": [
    {
     "data": {
      "text/plain": [
       "'2019-03-04'"
      ]
     },
     "execution_count": 19,
     "metadata": {},
     "output_type": "execute_result"
    }
   ],
   "source": [
    "get_date('last monday')"
   ]
  },
  {
   "cell_type": "code",
   "execution_count": 20,
   "metadata": {},
   "outputs": [
    {
     "data": {
      "text/plain": [
       "'2019-03-31'"
      ]
     },
     "execution_count": 20,
     "metadata": {},
     "output_type": "execute_result"
    }
   ],
   "source": [
    "get_date('last day')"
   ]
  },
  {
   "cell_type": "code",
   "execution_count": 21,
   "metadata": {},
   "outputs": [
    {
     "data": {
      "text/plain": [
       "'Command incorrect. Use [today, last monday, last day]'"
      ]
     },
     "execution_count": 21,
     "metadata": {},
     "output_type": "execute_result"
    }
   ],
   "source": [
    "get_date('incorrect_command')"
   ]
  }
 ],
 "metadata": {
  "kernelspec": {
   "display_name": "Python 3",
   "language": "python",
   "name": "python3"
  },
  "language_info": {
   "codemirror_mode": {
    "name": "ipython",
    "version": 3
   },
   "file_extension": ".py",
   "mimetype": "text/x-python",
   "name": "python",
   "nbconvert_exporter": "python",
   "pygments_lexer": "ipython3",
   "version": "3.7.2"
  }
 },
 "nbformat": 4,
 "nbformat_minor": 2
}
