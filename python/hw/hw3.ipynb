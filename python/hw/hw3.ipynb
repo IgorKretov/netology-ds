{
 "cells": [
  {
   "cell_type": "markdown",
   "metadata": {},
   "source": [
    "# Домашнее задание № 3"
   ]
  },
  {
   "cell_type": "markdown",
   "metadata": {},
   "source": [
    "<pre>\n",
    "ФИО: Никифоров Владимир\n",
    "</pre>"
   ]
  },
  {
   "cell_type": "markdown",
   "metadata": {},
   "source": [
    "## Задание 1\n",
    "Дан список вида: data = [ [13, 25, 23, 34],\n",
    "                          [45, 32, 44, 47],\n",
    "                          [12, 33, 23, 95],\n",
    "                          [13, 53, 34, 35], ]\n",
    "\n",
    "Напишите функцию, которая возвращает сумму элементов на диагонали. Т. е. 13+32+23+35."
   ]
  },
  {
   "cell_type": "code",
   "execution_count": 1,
   "metadata": {},
   "outputs": [],
   "source": [
    "data = [ [13, 25, 23, 34], [45, 32, 44, 47], [12, 33, 23, 95], [13, 53, 34, 35], ]"
   ]
  },
  {
   "cell_type": "code",
   "execution_count": 2,
   "metadata": {},
   "outputs": [],
   "source": [
    "def calc_diagonal(d):\n",
    "    \"\"\"\n",
    "    Входные данные:\n",
    "        квадратная матрица\n",
    "    Результат:\n",
    "        сумма элементов на диагонали\n",
    "    \"\"\"\n",
    "    s = 0\n",
    "    for i in range(len(d)):\n",
    "        s += d[i][i]\n",
    "    return s"
   ]
  },
  {
   "cell_type": "code",
   "execution_count": 3,
   "metadata": {},
   "outputs": [
    {
     "name": "stdout",
     "output_type": "stream",
     "text": [
      "Сумма элементов по диагонали равна 103\n"
     ]
    }
   ],
   "source": [
    "print(f\"Сумма элементов по диагонали равна {calc_diagonal(data)}\")"
   ]
  },
  {
   "cell_type": "markdown",
   "metadata": {},
   "source": [
    "## Задание 2\n",
    "Дан список чисел, часть из которых имеют строковый тип или содержат буквы. Напишите функцию, которая возвращает сумму квадратов элементов, которые могут быть числами."
   ]
  },
  {
   "cell_type": "code",
   "execution_count": 4,
   "metadata": {},
   "outputs": [],
   "source": [
    "data = [1, '5', 'abc', 20, '2']"
   ]
  },
  {
   "cell_type": "code",
   "execution_count": 5,
   "metadata": {},
   "outputs": [],
   "source": [
    "def sum_numeric(d):\n",
    "    \"\"\"\n",
    "    Входные данные:\n",
    "        список, состоящий как из строк, так и из чисел\n",
    "    Результат:\n",
    "        Сумма квадратов элементов, которые являются числами\n",
    "    \"\"\"\n",
    "    s = 0\n",
    "    for x in d:\n",
    "        if str(x).isnumeric():\n",
    "            s += int(x)**2\n",
    "    return s"
   ]
  },
  {
   "cell_type": "code",
   "execution_count": 6,
   "metadata": {},
   "outputs": [
    {
     "name": "stdout",
     "output_type": "stream",
     "text": [
      "Сумма квадратов элементов, являющихся числами, равна 430\n"
     ]
    }
   ],
   "source": [
    "print(f\"Сумма квадратов элементов, являющихся числами, равна {sum_numeric(data)}\")"
   ]
  },
  {
   "cell_type": "markdown",
   "metadata": {},
   "source": [
    "## Задание 3\n",
    "Напишите функцию, которая возвращает название валюты (поле 'Name') с максимальным значением курса с помощью сервиса https://www.cbr-xml-daily.ru/daily_json.js"
   ]
  },
  {
   "cell_type": "code",
   "execution_count": 7,
   "metadata": {},
   "outputs": [],
   "source": [
    "url = \"https://www.cbr-xml-daily.ru/daily_json.js\""
   ]
  },
  {
   "cell_type": "code",
   "execution_count": 8,
   "metadata": {},
   "outputs": [],
   "source": [
    "import requests\n",
    "def get_max_currency(**kwargs):\n",
    "    \"\"\"\n",
    "    Входные данные:\n",
    "        Словарь параметров и значений, ожидая в том числе параметры:\n",
    "            p_url - адрес для запроса курсов валют\n",
    "            p_path_name - каталог внутри JSON для получения данных по валютам\n",
    "            p_value_field_name - элемент внутри каталога каждой валюты со значением курса на сегодня\n",
    "    Результат: \n",
    "        Название валюты с максимальным курсом на сегодня\n",
    "    \"\"\"\n",
    "    res = requests.get(kwargs['p_url']).json()[kwargs['p_path_name']]\n",
    "    d = {x:res[x][kwargs['p_value_field_name']] for x in res}\n",
    "    return max(d, key=d.get)"
   ]
  },
  {
   "cell_type": "code",
   "execution_count": 9,
   "metadata": {},
   "outputs": [
    {
     "name": "stdout",
     "output_type": "stream",
     "text": [
      "Название валюты с максимальных значением курса: 'CNY'\n"
     ]
    }
   ],
   "source": [
    "print(f\"Название валюты с максимальных значением курса: '{get_max_currency(p_url=url, p_path_name='Valute', p_value_field_name='Value')}'\")"
   ]
  },
  {
   "cell_type": "markdown",
   "metadata": {},
   "source": [
    "## Задание 4\n",
    "Последнее упражнение с занятия\n",
    "1. Добавьте в класс еще один формат, который возвращает название валюты (например, 'Евро').\n",
    "\n",
    "2. Добавьте в класс параметр diff (со значениями True или False), который в случае значения True в методах eur и usd будет возвращать не курс валюты, а изменение по сравнению в прошлым значением."
   ]
  },
  {
   "cell_type": "code",
   "execution_count": 10,
   "metadata": {},
   "outputs": [],
   "source": [
    "class Rate:\n",
    "    def __init__(self, format='value', diff=False):\n",
    "        self.format = format\n",
    "        self.diff = diff\n",
    "    \n",
    "    def exchange_rates(self):\n",
    "        \"\"\"\n",
    "        Возвращает ответ сервиса с информацией о валютах в виде:\n",
    "        \n",
    "        {\n",
    "            'AMD': {\n",
    "                'CharCode': 'AMD',\n",
    "                'ID': 'R01060',\n",
    "                'Name': 'Армянских драмов',\n",
    "                'Nominal': 100,\n",
    "                'NumCode': '051',\n",
    "                'Previous': 14.103,\n",
    "                'Value': 14.0879\n",
    "                },\n",
    "            ...\n",
    "        }\n",
    "        \"\"\"\n",
    "        r = requests.get('https://www.cbr-xml-daily.ru/daily_json.js')\n",
    "        return r.json()['Valute']\n",
    "    \n",
    "    def make_format(self, currency):\n",
    "        \"\"\"\n",
    "        Возвращает информацию о валюте currency в трех вариантах:\n",
    "        - полная информация о валюте при self.format = 'full' и self.diff = False:\n",
    "        Rate('full').make_format('EUR')\n",
    "        {\n",
    "            'CharCode': 'EUR',\n",
    "            'ID': 'R01239',\n",
    "            'Name': 'Евро',\n",
    "            'Nominal': 1,\n",
    "            'NumCode': '978',\n",
    "            'Previous': 79.6765,\n",
    "            'Value': 79.4966\n",
    "        }\n",
    "        - разница с предыдущим курсом валют при self.format = 'full' и self.diff = True:\n",
    "        −0,1799 (==79.4966 - 79.6765)\n",
    "        \n",
    "        - только значение валюты при self.format = 'value' и self.diff = False:\n",
    "        Rate('value').make_format('EUR')\n",
    "        79.4966\n",
    "        - разница с предыдущим курсом валют при self.format = 'full' и self.diff = True:\n",
    "        −0,1799 (==79.4966 - 79.6765)\n",
    "        \n",
    "        - только название валюты\n",
    "        Rate('name').make_format('EUR')\n",
    "        'Евро'        \n",
    "        \"\"\"\n",
    "        response = self.exchange_rates()\n",
    "        \n",
    "        if currency in response:\n",
    "            if self.format == 'full':\n",
    "                if not self.diff:\n",
    "                    return response[currency]\n",
    "                else:\n",
    "                    return response[currency]['Value']-response[currency]['Previous']\n",
    "            \n",
    "            if self.format == 'name':\n",
    "                return response[currency]['Name']\n",
    "            \n",
    "            if self.format == 'value':\n",
    "                if not self.diff:\n",
    "                    return response[currency]['Value']\n",
    "                else:\n",
    "                    return response[currency]['Value']-response[currency]['Previous']\n",
    "        \n",
    "        return 'Error'\n",
    "    \n",
    "    def eur(self):\n",
    "        \"\"\"Возвращает курс евро на сегодня в формате self.format\"\"\"\n",
    "        return self.make_format('EUR')\n",
    "    \n",
    "    def usd(self):\n",
    "        \"\"\"Возвращает курс доллара на сегодня в формате self.format\"\"\"\n",
    "        return self.make_format('USD')"
   ]
  },
  {
   "cell_type": "code",
   "execution_count": 11,
   "metadata": {},
   "outputs": [
    {
     "name": "stdout",
     "output_type": "stream",
     "text": [
      "Значение курса доллара на сегодня: 65.9646\n"
     ]
    }
   ],
   "source": [
    "print(f\"Значение курса доллара на сегодня: {Rate().usd()}\")"
   ]
  },
  {
   "cell_type": "code",
   "execution_count": 12,
   "metadata": {},
   "outputs": [
    {
     "name": "stdout",
     "output_type": "stream",
     "text": [
      "Название валюты для курса доллара: 'Доллар США'\n"
     ]
    }
   ],
   "source": [
    "print(f\"Название валюты для курса доллара: '{Rate('name').usd()}'\")"
   ]
  },
  {
   "cell_type": "code",
   "execution_count": 13,
   "metadata": {},
   "outputs": [
    {
     "name": "stdout",
     "output_type": "stream",
     "text": [
      "Изменение курса доллара с предыдущего значения: 0.12\n"
     ]
    }
   ],
   "source": [
    "print(f\"Изменение курса доллара с предыдущего значения: {round(Rate('full',diff=True).usd(),2)}\")"
   ]
  },
  {
   "cell_type": "code",
   "execution_count": 14,
   "metadata": {},
   "outputs": [
    {
     "name": "stdout",
     "output_type": "stream",
     "text": [
      "Изменение курса доллара с предыдущего значения: 0.12\n"
     ]
    }
   ],
   "source": [
    "print(f\"Изменение курса доллара с предыдущего значения: {round(Rate(diff=True).usd(),2)}\")"
   ]
  },
  {
   "cell_type": "markdown",
   "metadata": {},
   "source": [
    "## Задание 5\n",
    "Напишите функцию, возвращающую сумму первых n чисел Фибоначчи"
   ]
  },
  {
   "cell_type": "code",
   "execution_count": 15,
   "metadata": {},
   "outputs": [],
   "source": [
    "def sum_fibonachi(n):\n",
    "    \"\"\"\n",
    "    Входные данные:\n",
    "        n - Количество первых чисел Фибоначчи\n",
    "    Результат:\n",
    "        Сумма n чисел Фибоначчи\n",
    "    \"\"\"\n",
    "    def fibonachi(n, s=0):\n",
    "        \"\"\"\n",
    "        Входные данные:\n",
    "            Число n - номер числа Фибоначчи\n",
    "        Результат:\n",
    "            Значение числа n Фибоначчи\n",
    "        \"\"\"\n",
    "        if n<=1:\n",
    "            return n\n",
    "        else:\n",
    "            return s + fibonachi(n-1,s) + fibonachi(n-2,s)\n",
    "    \n",
    "    return sum([fibonachi(i) for i in range(1,n+1)])"
   ]
  },
  {
   "cell_type": "code",
   "execution_count": 16,
   "metadata": {},
   "outputs": [
    {
     "name": "stdout",
     "output_type": "stream",
     "text": [
      "Сумма первых 8 чисел Фибоначчи равна 54\n"
     ]
    }
   ],
   "source": [
    "n = 8\n",
    "print(f\"Сумма первых {n} чисел Фибоначчи равна {sum_fibonachi(n)}\")"
   ]
  },
  {
   "cell_type": "markdown",
   "metadata": {},
   "source": [
    "#### В виде класса:"
   ]
  },
  {
   "cell_type": "code",
   "execution_count": 17,
   "metadata": {},
   "outputs": [],
   "source": [
    "class Fib:\n",
    "    def __init__(self, n):\n",
    "        self.n = n\n",
    "        \n",
    "    def fibonachi(self, n, s=0):\n",
    "        \"\"\"\n",
    "        Входные данные:\n",
    "            Число n - номер числа Фибоначчи\n",
    "        Результат:\n",
    "            Значение числа n Фибоначчи\n",
    "        \"\"\"\n",
    "        if n<=1:\n",
    "            return n\n",
    "        else:\n",
    "            return s + self.fibonachi(n-1,s) + self.fibonachi(n-2,s)\n",
    "\n",
    "    def sum_fibonachi(self):\n",
    "        \"\"\"\n",
    "        Входные данные:\n",
    "            n - Количество первых чисел Фибоначчи\n",
    "        Результат:\n",
    "            Сумма n чисел Фибоначчи\n",
    "        \"\"\"\n",
    "        return sum([self.fibonachi(i) for i in range(1,n+1)])"
   ]
  },
  {
   "cell_type": "code",
   "execution_count": 18,
   "metadata": {},
   "outputs": [
    {
     "name": "stdout",
     "output_type": "stream",
     "text": [
      "Сумма первых 8 чисел Фибоначчи равна 54\n"
     ]
    }
   ],
   "source": [
    "n = 8\n",
    "print(f\"Сумма первых {n} чисел Фибоначчи равна {Fib(8).sum_fibonachi()}\")"
   ]
  },
  {
   "cell_type": "markdown",
   "metadata": {},
   "source": [
    "## Задание 6\n",
    "Напишите функцию, преобразующую произвольный список вида ['2018-01-01', 'yandex', 'cpc', 100] в словарь {'2018-01-01': {'yandex': {'cpc': 100}}}"
   ]
  },
  {
   "cell_type": "code",
   "execution_count": 19,
   "metadata": {},
   "outputs": [],
   "source": [
    "l = ['2018-01-01', 'yandex', 'cpc', 100]"
   ]
  },
  {
   "cell_type": "code",
   "execution_count": 20,
   "metadata": {},
   "outputs": [],
   "source": [
    "def recursive_dict(x):\n",
    "    \"\"\"\n",
    "    Входные данные:\n",
    "        произвольный список\n",
    "    Результат:\n",
    "        рекурсивно-вложенный словарь\n",
    "    \"\"\"\n",
    "    if len(x) == 0:\n",
    "        return {}\n",
    "    if len(x) == 1:\n",
    "        return x[0]\n",
    "    k, *values = x\n",
    "    return {k:recursive_dict(values)}"
   ]
  },
  {
   "cell_type": "code",
   "execution_count": 21,
   "metadata": {},
   "outputs": [
    {
     "name": "stdout",
     "output_type": "stream",
     "text": [
      "Из списка ['2018-01-01', 'yandex', 'cpc', 100] получен словарь {'2018-01-01': {'yandex': {'cpc': 100}}}\n"
     ]
    }
   ],
   "source": [
    "print(f\"Из списка {l} получен словарь {recursive_dict(l)}\")"
   ]
  }
 ],
 "metadata": {
  "kernelspec": {
   "display_name": "Python 3",
   "language": "python",
   "name": "python3"
  },
  "language_info": {
   "codemirror_mode": {
    "name": "ipython",
    "version": 3
   },
   "file_extension": ".py",
   "mimetype": "text/x-python",
   "name": "python",
   "nbconvert_exporter": "python",
   "pygments_lexer": "ipython3",
   "version": "3.7.2"
  }
 },
 "nbformat": 4,
 "nbformat_minor": 2
}
