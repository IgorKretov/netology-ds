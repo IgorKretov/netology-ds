{
 "cells": [
  {
   "cell_type": "markdown",
   "metadata": {},
   "source": [
    "# Проектная работа по модулю “Математика и статистика в Python”"
   ]
  },
  {
   "cell_type": "markdown",
   "metadata": {},
   "source": [
    "<pre>\n",
    "ФИО: Никифоров Владимир\n",
    "</pre>"
   ]
  },
  {
   "cell_type": "markdown",
   "metadata": {},
   "source": [
    "## Загрузить файл hr.csv"
   ]
  },
  {
   "cell_type": "code",
   "execution_count": null,
   "metadata": {},
   "outputs": [],
   "source": []
  },
  {
   "cell_type": "markdown",
   "metadata": {},
   "source": [
    "2. Рассчитать основные статистики для переменных (среднее,медиана,мода,мин/макс,сред.отклонение).\n",
    "\n",
    "3.Рассчитать и визуализировать корреляционную матрицу для переменных.\n",
    "\n",
    "4.Визуализировать несколько взаимосвязей между переменными.\n",
    "\n",
    "5.С использованием t-test статистики проверить взаимосвязи между несколькими переменными.\n",
    "\n",
    "6.Рассчитать сколько работников работает в каждом департаменте.\n",
    "\n",
    "7.Показать распределение сотрудников по зарплатам.\n",
    "\n",
    "8.Показать распределение сотрудников по зарплатам совместно с департаментами.\n",
    "\n",
    "9.Сколько сотрудников покинули компанию.\n",
    "\n",
    "10.Проверить несколько гипотез для данных,чтобы понять почему сотрудники покидают компанию.\n",
    "\n",
    "11.Загрузить результат (в формате .ipynbноутбука) в репозиторий. Разместить ссылку на репозиторийв лкна сайте"
   ]
  },
  {
   "cell_type": "code",
   "execution_count": null,
   "metadata": {},
   "outputs": [],
   "source": []
  },
  {
   "cell_type": "code",
   "execution_count": null,
   "metadata": {},
   "outputs": [],
   "source": []
  }
 ],
 "metadata": {
  "kernelspec": {
   "display_name": "Python 3",
   "language": "python",
   "name": "python3"
  },
  "language_info": {
   "codemirror_mode": {
    "name": "ipython",
    "version": 3
   },
   "file_extension": ".py",
   "mimetype": "text/x-python",
   "name": "python",
   "nbconvert_exporter": "python",
   "pygments_lexer": "ipython3",
   "version": "3.7.2"
  }
 },
 "nbformat": 4,
 "nbformat_minor": 2
}
