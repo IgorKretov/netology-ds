{
 "cells": [
  {
   "cell_type": "markdown",
   "metadata": {},
   "source": [
    "# Вспомним работу с файлами"
   ]
  },
  {
   "cell_type": "markdown",
   "metadata": {},
   "source": [
    "Дан лог покупок transactions.tsv.\n",
    "\n",
    "Первый столбец - дата покупки, второй - сумма. Разделитель табуляция.\n",
    "\n",
    "Необходимо посчитать:\n",
    "\n",
    "1. Сумму покупок за все дни\n",
    "\n",
    "2. Среднюю стоимость одной покупки\n",
    "\n",
    "3. В какой день была максимальная выручка?"
   ]
  },
  {
   "cell_type": "code",
   "execution_count": 3,
   "metadata": {},
   "outputs": [
    {
     "name": "stdout",
     "output_type": "stream",
     "text": [
      "2019-01-01 78\n",
      "2019-01-01 7\n",
      "2019-01-01 67\n",
      "2019-01-01 45\n",
      "2019-01-01 26\n",
      "2019-01-01 3\n",
      "2019-01-01 18\n",
      "2019-01-01 84\n",
      "2019-01-01 46\n",
      "2019-01-02 15\n",
      "2019-01-02 67\n",
      "2019-01-02 12\n",
      "2019-01-02 18\n",
      "2019-01-02 92\n",
      "2019-01-02 38\n",
      "2019-01-02 51\n",
      "2019-01-02 52\n",
      "2019-01-02 12\n",
      "2019-01-03 59\n",
      "2019-01-03 53\n",
      "2019-01-03 52\n",
      "2019-01-03 12\n",
      "2019-01-03 56\n",
      "2019-01-03 38\n",
      "2019-01-03 81\n",
      "2019-01-03 6\n",
      "2019-01-03 35\n",
      "2019-01-04 67\n",
      "2019-01-04 63\n",
      "2019-01-04 92\n",
      "2019-01-04 34\n",
      "2019-01-04 14\n",
      "2019-01-04 85\n",
      "2019-01-04 51\n",
      "2019-01-04 81\n",
      "2019-01-04 50\n",
      "2019-01-05 11\n",
      "2019-01-05 97\n",
      "2019-01-05 84\n",
      "2019-01-05 69\n",
      "2019-01-05 93\n",
      "2019-01-05 31\n",
      "2019-01-05 4\n",
      "2019-01-05 8\n",
      "2019-01-05 43\n",
      "2019-01-06 93\n",
      "2019-01-06 94\n",
      "2019-01-06 93\n",
      "2019-01-06 58\n",
      "2019-01-06 55\n",
      "2019-01-06 96\n",
      "2019-01-06 13\n",
      "2019-01-06 3\n",
      "2019-01-06 72\n",
      "2019-01-07 37\n",
      "2019-01-07 78\n",
      "2019-01-07 27\n",
      "2019-01-07 11\n",
      "2019-01-07 85\n",
      "2019-01-07 16\n",
      "2019-01-07 13\n",
      "2019-01-07 10\n",
      "2019-01-07 34\n"
     ]
    }
   ],
   "source": [
    "with open('../data/transactions.tsv', 'r') as f:\n",
    "    for line in f:\n",
    "        date, amount = line.strip().split('\\t')\n",
    "        print(date, amount)"
   ]
  },
  {
   "cell_type": "code",
   "execution_count": 12,
   "metadata": {},
   "outputs": [
    {
     "name": "stdout",
     "output_type": "stream",
     "text": [
      "Сумму покупок за все дни: 2988\n",
      "Среднюю стоимость одной покупки: 47.42857142857143\n",
      "В какой день была максимальная выручка: 2019-01-06\n"
     ]
    }
   ],
   "source": [
    "l_summa = 0\n",
    "l_cnt = 0\n",
    "l_max = 0\n",
    "d = {}\n",
    "with open('../data/transactions.tsv', 'r') as f:\n",
    "    for line in f:\n",
    "        date, amount = line.strip().split('\\t')\n",
    "        d.setdefault(date, 0)\n",
    "        d[date] += int(amount)\n",
    "        l_summa += int(amount)\n",
    "        l_cnt += 1\n",
    "        \n",
    "for k in d:\n",
    "    if l_max < d[k]:\n",
    "        l_max = d[k]\n",
    "        l_max_date = k\n",
    "        \n",
    "print(f\"Сумму покупок за все дни: {l_summa}\\n\\\n",
    "Среднюю стоимость одной покупки: {l_summa/l_cnt}\\n\\\n",
    "В какой день была максимальная выручка: {l_max_date}\")"
   ]
  },
  {
   "cell_type": "code",
   "execution_count": 11,
   "metadata": {},
   "outputs": [],
   "source": [
    "d = {}\n",
    "with open('../data/transactions.tsv', 'r') as f:\n",
    "    for line in f:\n",
    "        date, amount = line.strip().split('\\t')\n",
    "        d.setdefault(date, 0)\n",
    "        d[date] += int(amount)"
   ]
  },
  {
   "cell_type": "code",
   "execution_count": null,
   "metadata": {},
   "outputs": [],
   "source": []
  },
  {
   "cell_type": "markdown",
   "metadata": {},
   "source": [
    "# Даты"
   ]
  },
  {
   "cell_type": "code",
   "execution_count": 13,
   "metadata": {},
   "outputs": [],
   "source": [
    "from datetime import datetime"
   ]
  },
  {
   "cell_type": "code",
   "execution_count": 14,
   "metadata": {},
   "outputs": [],
   "source": [
    "date_string = '09.05.2018  09:00'"
   ]
  },
  {
   "cell_type": "code",
   "execution_count": 15,
   "metadata": {},
   "outputs": [
    {
     "data": {
      "text/plain": [
       "str"
      ]
     },
     "execution_count": 15,
     "metadata": {},
     "output_type": "execute_result"
    }
   ],
   "source": [
    "# сейчас date_string это просто строка\n",
    "type(date_string)"
   ]
  },
  {
   "cell_type": "code",
   "execution_count": 16,
   "metadata": {},
   "outputs": [
    {
     "data": {
      "text/plain": [
       "datetime.datetime(2018, 5, 9, 9, 0)"
      ]
     },
     "execution_count": 16,
     "metadata": {},
     "output_type": "execute_result"
    }
   ],
   "source": [
    "# https://docs.python.org/3/library/datetime.html\n",
    "\n",
    "date_datetime = datetime.strptime( date_string, '%d.%m.%Y %H:%M' )\n",
    "date_datetime"
   ]
  },
  {
   "cell_type": "code",
   "execution_count": 17,
   "metadata": {},
   "outputs": [
    {
     "data": {
      "text/plain": [
       "datetime.datetime"
      ]
     },
     "execution_count": 17,
     "metadata": {},
     "output_type": "execute_result"
    }
   ],
   "source": [
    "# теперь можем работать с датами\n",
    "type(date_datetime)"
   ]
  },
  {
   "cell_type": "code",
   "execution_count": 18,
   "metadata": {},
   "outputs": [
    {
     "data": {
      "text/plain": [
       "(2018, 9)"
      ]
     },
     "execution_count": 18,
     "metadata": {},
     "output_type": "execute_result"
    }
   ],
   "source": [
    "date_datetime.year, date_datetime.hour"
   ]
  },
  {
   "cell_type": "markdown",
   "metadata": {},
   "source": [
    "### Упражнение\n",
    "С помощью метода datetime.strptime переведите строку 'May 25 2017 5:00AM' в формат datetime."
   ]
  },
  {
   "cell_type": "code",
   "execution_count": 24,
   "metadata": {},
   "outputs": [
    {
     "name": "stdout",
     "output_type": "stream",
     "text": [
      "2017-05-25 17:00:00\n"
     ]
    }
   ],
   "source": [
    "dt = datetime.strptime('May 25 2017 5:00PM', '%b %d %Y %I:%M%p')\n",
    "print(dt)"
   ]
  },
  {
   "cell_type": "code",
   "execution_count": 23,
   "metadata": {},
   "outputs": [
    {
     "data": {
      "text/plain": [
       "2017"
      ]
     },
     "execution_count": 23,
     "metadata": {},
     "output_type": "execute_result"
    }
   ],
   "source": [
    "dt.year"
   ]
  },
  {
   "cell_type": "code",
   "execution_count": null,
   "metadata": {},
   "outputs": [],
   "source": []
  },
  {
   "cell_type": "markdown",
   "metadata": {},
   "source": [
    "### Прибавление интервала к датам"
   ]
  },
  {
   "cell_type": "code",
   "execution_count": 25,
   "metadata": {},
   "outputs": [],
   "source": [
    "from datetime import timedelta"
   ]
  },
  {
   "cell_type": "code",
   "execution_count": 26,
   "metadata": {},
   "outputs": [],
   "source": [
    "start_date = '2018-01-01'\n",
    "end_date = '2018-01-07'"
   ]
  },
  {
   "cell_type": "code",
   "execution_count": 27,
   "metadata": {},
   "outputs": [
    {
     "data": {
      "text/plain": [
       "str"
      ]
     },
     "execution_count": 27,
     "metadata": {},
     "output_type": "execute_result"
    }
   ],
   "source": [
    "type(start_date)"
   ]
  },
  {
   "cell_type": "code",
   "execution_count": 28,
   "metadata": {},
   "outputs": [
    {
     "data": {
      "text/plain": [
       "datetime.datetime(2018, 1, 1, 0, 0)"
      ]
     },
     "execution_count": 28,
     "metadata": {},
     "output_type": "execute_result"
    }
   ],
   "source": [
    "start_date_datetime = datetime.strptime(start_date, '%Y-%m-%d')\n",
    "start_date_datetime"
   ]
  },
  {
   "cell_type": "code",
   "execution_count": 29,
   "metadata": {},
   "outputs": [
    {
     "data": {
      "text/plain": [
       "datetime.datetime(2018, 1, 2, 0, 0)"
      ]
     },
     "execution_count": 29,
     "metadata": {},
     "output_type": "execute_result"
    }
   ],
   "source": [
    "start_date_datetime + timedelta(days=1)"
   ]
  },
  {
   "cell_type": "markdown",
   "metadata": {},
   "source": [
    "### Упражнение\n",
    "Дана дата в формате '2018-09-01T09:30:00'. Прибавьте к ней 12 часов 15минут и 3 секунды."
   ]
  },
  {
   "cell_type": "code",
   "execution_count": 30,
   "metadata": {},
   "outputs": [
    {
     "name": "stdout",
     "output_type": "stream",
     "text": [
      "2018-09-01 09:30:00\n"
     ]
    }
   ],
   "source": [
    "dt = datetime.strptime('2018-09-01T09:30:00','%Y-%m-%dT%H:%M:%S')\n",
    "print(dt)"
   ]
  },
  {
   "cell_type": "code",
   "execution_count": 31,
   "metadata": {},
   "outputs": [
    {
     "name": "stdout",
     "output_type": "stream",
     "text": [
      "2018-09-01 21:45:03\n"
     ]
    }
   ],
   "source": [
    "print(dt + timedelta(hours=12,minutes=15,seconds=3))"
   ]
  },
  {
   "cell_type": "code",
   "execution_count": null,
   "metadata": {},
   "outputs": [],
   "source": []
  },
  {
   "cell_type": "code",
   "execution_count": null,
   "metadata": {},
   "outputs": [],
   "source": []
  },
  {
   "cell_type": "markdown",
   "metadata": {},
   "source": [
    "### Перевод обратно в строку"
   ]
  },
  {
   "cell_type": "code",
   "execution_count": 32,
   "metadata": {},
   "outputs": [
    {
     "data": {
      "text/plain": [
       "datetime.datetime(2018, 9, 1, 0, 0)"
      ]
     },
     "execution_count": 32,
     "metadata": {},
     "output_type": "execute_result"
    }
   ],
   "source": [
    "date = datetime(2018, 9, 1)\n",
    "date"
   ]
  },
  {
   "cell_type": "code",
   "execution_count": 33,
   "metadata": {},
   "outputs": [
    {
     "data": {
      "text/plain": [
       "'2018-09-01'"
      ]
     },
     "execution_count": 33,
     "metadata": {},
     "output_type": "execute_result"
    }
   ],
   "source": [
    "date.strftime('%Y-%m-%d')"
   ]
  },
  {
   "cell_type": "code",
   "execution_count": 34,
   "metadata": {},
   "outputs": [
    {
     "data": {
      "text/plain": [
       "'2018-09-01'"
      ]
     },
     "execution_count": 34,
     "metadata": {},
     "output_type": "execute_result"
    }
   ],
   "source": [
    "# внезапно\n",
    "\n",
    "date.strftime('%Y-%m-01')"
   ]
  },
  {
   "cell_type": "code",
   "execution_count": 35,
   "metadata": {},
   "outputs": [
    {
     "data": {
      "text/plain": [
       "('2018-01-01', '2018-01-07')"
      ]
     },
     "execution_count": 35,
     "metadata": {},
     "output_type": "execute_result"
    }
   ],
   "source": [
    "start_date, end_date"
   ]
  },
  {
   "cell_type": "code",
   "execution_count": 36,
   "metadata": {},
   "outputs": [],
   "source": [
    "start_date_dt = datetime.strptime(start_date, '%Y-%m-%d')\n",
    "end_date_dt = datetime.strptime(end_date, '%Y-%m-%d')"
   ]
  },
  {
   "cell_type": "code",
   "execution_count": 37,
   "metadata": {},
   "outputs": [
    {
     "name": "stdout",
     "output_type": "stream",
     "text": [
      "2018-01-01\n",
      "2018-01-02\n",
      "2018-01-03\n",
      "2018-01-04\n",
      "2018-01-05\n",
      "2018-01-06\n",
      "2018-01-07\n"
     ]
    }
   ],
   "source": [
    "current_dt = start_date_dt\n",
    "\n",
    "while current_dt <= end_date_dt:\n",
    "    print(current_dt.strftime('%Y-%m-%d'))\n",
    "    \n",
    "    current_dt += timedelta(days=1)"
   ]
  },
  {
   "cell_type": "markdown",
   "metadata": {},
   "source": [
    "### Упражнение\n",
    "Напишите алгоритм, который \"пробегает\" период 1 до 7 сентября по часам. Формат вывода '06.01.2018 23:00:00'."
   ]
  },
  {
   "cell_type": "code",
   "execution_count": 39,
   "metadata": {},
   "outputs": [
    {
     "name": "stdout",
     "output_type": "stream",
     "text": [
      "2019-09-01 00:00:00\n",
      "2019-09-01 01:00:00\n",
      "2019-09-01 02:00:00\n",
      "2019-09-01 03:00:00\n",
      "2019-09-01 04:00:00\n",
      "2019-09-01 05:00:00\n",
      "2019-09-01 06:00:00\n",
      "2019-09-01 07:00:00\n",
      "2019-09-01 08:00:00\n",
      "2019-09-01 09:00:00\n",
      "2019-09-01 10:00:00\n",
      "2019-09-01 11:00:00\n",
      "2019-09-01 12:00:00\n",
      "2019-09-01 13:00:00\n",
      "2019-09-01 14:00:00\n",
      "2019-09-01 15:00:00\n",
      "2019-09-01 16:00:00\n",
      "2019-09-01 17:00:00\n",
      "2019-09-01 18:00:00\n",
      "2019-09-01 19:00:00\n",
      "2019-09-01 20:00:00\n",
      "2019-09-01 21:00:00\n",
      "2019-09-01 22:00:00\n",
      "2019-09-01 23:00:00\n",
      "2019-09-02 00:00:00\n",
      "2019-09-02 01:00:00\n",
      "2019-09-02 02:00:00\n",
      "2019-09-02 03:00:00\n",
      "2019-09-02 04:00:00\n",
      "2019-09-02 05:00:00\n",
      "2019-09-02 06:00:00\n",
      "2019-09-02 07:00:00\n",
      "2019-09-02 08:00:00\n",
      "2019-09-02 09:00:00\n",
      "2019-09-02 10:00:00\n",
      "2019-09-02 11:00:00\n",
      "2019-09-02 12:00:00\n",
      "2019-09-02 13:00:00\n",
      "2019-09-02 14:00:00\n",
      "2019-09-02 15:00:00\n",
      "2019-09-02 16:00:00\n",
      "2019-09-02 17:00:00\n",
      "2019-09-02 18:00:00\n",
      "2019-09-02 19:00:00\n",
      "2019-09-02 20:00:00\n",
      "2019-09-02 21:00:00\n",
      "2019-09-02 22:00:00\n",
      "2019-09-02 23:00:00\n",
      "2019-09-03 00:00:00\n",
      "2019-09-03 01:00:00\n",
      "2019-09-03 02:00:00\n",
      "2019-09-03 03:00:00\n",
      "2019-09-03 04:00:00\n",
      "2019-09-03 05:00:00\n",
      "2019-09-03 06:00:00\n",
      "2019-09-03 07:00:00\n",
      "2019-09-03 08:00:00\n",
      "2019-09-03 09:00:00\n",
      "2019-09-03 10:00:00\n",
      "2019-09-03 11:00:00\n",
      "2019-09-03 12:00:00\n",
      "2019-09-03 13:00:00\n",
      "2019-09-03 14:00:00\n",
      "2019-09-03 15:00:00\n",
      "2019-09-03 16:00:00\n",
      "2019-09-03 17:00:00\n",
      "2019-09-03 18:00:00\n",
      "2019-09-03 19:00:00\n",
      "2019-09-03 20:00:00\n",
      "2019-09-03 21:00:00\n",
      "2019-09-03 22:00:00\n",
      "2019-09-03 23:00:00\n",
      "2019-09-04 00:00:00\n",
      "2019-09-04 01:00:00\n",
      "2019-09-04 02:00:00\n",
      "2019-09-04 03:00:00\n",
      "2019-09-04 04:00:00\n",
      "2019-09-04 05:00:00\n",
      "2019-09-04 06:00:00\n",
      "2019-09-04 07:00:00\n",
      "2019-09-04 08:00:00\n",
      "2019-09-04 09:00:00\n",
      "2019-09-04 10:00:00\n",
      "2019-09-04 11:00:00\n",
      "2019-09-04 12:00:00\n",
      "2019-09-04 13:00:00\n",
      "2019-09-04 14:00:00\n",
      "2019-09-04 15:00:00\n",
      "2019-09-04 16:00:00\n",
      "2019-09-04 17:00:00\n",
      "2019-09-04 18:00:00\n",
      "2019-09-04 19:00:00\n",
      "2019-09-04 20:00:00\n",
      "2019-09-04 21:00:00\n",
      "2019-09-04 22:00:00\n",
      "2019-09-04 23:00:00\n",
      "2019-09-05 00:00:00\n",
      "2019-09-05 01:00:00\n",
      "2019-09-05 02:00:00\n",
      "2019-09-05 03:00:00\n",
      "2019-09-05 04:00:00\n",
      "2019-09-05 05:00:00\n",
      "2019-09-05 06:00:00\n",
      "2019-09-05 07:00:00\n",
      "2019-09-05 08:00:00\n",
      "2019-09-05 09:00:00\n",
      "2019-09-05 10:00:00\n",
      "2019-09-05 11:00:00\n",
      "2019-09-05 12:00:00\n",
      "2019-09-05 13:00:00\n",
      "2019-09-05 14:00:00\n",
      "2019-09-05 15:00:00\n",
      "2019-09-05 16:00:00\n",
      "2019-09-05 17:00:00\n",
      "2019-09-05 18:00:00\n",
      "2019-09-05 19:00:00\n",
      "2019-09-05 20:00:00\n",
      "2019-09-05 21:00:00\n",
      "2019-09-05 22:00:00\n",
      "2019-09-05 23:00:00\n",
      "2019-09-06 00:00:00\n",
      "2019-09-06 01:00:00\n",
      "2019-09-06 02:00:00\n",
      "2019-09-06 03:00:00\n",
      "2019-09-06 04:00:00\n",
      "2019-09-06 05:00:00\n",
      "2019-09-06 06:00:00\n",
      "2019-09-06 07:00:00\n",
      "2019-09-06 08:00:00\n",
      "2019-09-06 09:00:00\n",
      "2019-09-06 10:00:00\n",
      "2019-09-06 11:00:00\n",
      "2019-09-06 12:00:00\n",
      "2019-09-06 13:00:00\n",
      "2019-09-06 14:00:00\n",
      "2019-09-06 15:00:00\n",
      "2019-09-06 16:00:00\n",
      "2019-09-06 17:00:00\n",
      "2019-09-06 18:00:00\n",
      "2019-09-06 19:00:00\n",
      "2019-09-06 20:00:00\n",
      "2019-09-06 21:00:00\n",
      "2019-09-06 22:00:00\n",
      "2019-09-06 23:00:00\n",
      "2019-09-07 00:00:00\n"
     ]
    }
   ],
   "source": [
    "current_dt = datetime.strptime('2019-09-01','%Y-%m-%d')\n",
    "end_date_dt = datetime.strptime('2019-09-07','%Y-%m-%d')\n",
    "\n",
    "while current_dt <= end_date_dt:\n",
    "    print(current_dt.strftime('%Y-%m-%d %H:%M:%S'))\n",
    "    \n",
    "    current_dt += timedelta(hours=1)"
   ]
  },
  {
   "cell_type": "code",
   "execution_count": null,
   "metadata": {},
   "outputs": [],
   "source": []
  },
  {
   "cell_type": "code",
   "execution_count": null,
   "metadata": {},
   "outputs": [],
   "source": []
  },
  {
   "cell_type": "code",
   "execution_count": null,
   "metadata": {},
   "outputs": [],
   "source": []
  },
  {
   "cell_type": "code",
   "execution_count": null,
   "metadata": {},
   "outputs": [],
   "source": []
  },
  {
   "cell_type": "markdown",
   "metadata": {},
   "source": [
    "### Нагрузка на систему по часам"
   ]
  },
  {
   "cell_type": "code",
   "execution_count": null,
   "metadata": {},
   "outputs": [],
   "source": [
    "stats = {}\n",
    "\n",
    "with open('logs.csv', 'r') as f:\n",
    "    for line in f:\n",
    "        line = line.strip()\n",
    "        \n",
    "        # вычисления нагрузки на систему...\n",
    "        \n",
    "# результат\n",
    "stats"
   ]
  },
  {
   "cell_type": "code",
   "execution_count": null,
   "metadata": {},
   "outputs": [],
   "source": [
    "# а в процентном соотношении?\n"
   ]
  },
  {
   "cell_type": "code",
   "execution_count": null,
   "metadata": {},
   "outputs": [],
   "source": []
  },
  {
   "cell_type": "code",
   "execution_count": null,
   "metadata": {},
   "outputs": [],
   "source": []
  },
  {
   "cell_type": "code",
   "execution_count": null,
   "metadata": {},
   "outputs": [],
   "source": []
  },
  {
   "cell_type": "markdown",
   "metadata": {},
   "source": [
    "###  Unixtime"
   ]
  },
  {
   "cell_type": "code",
   "execution_count": null,
   "metadata": {},
   "outputs": [],
   "source": [
    "import time\n",
    "from datetime import date\n",
    "from datetime import datetime"
   ]
  },
  {
   "cell_type": "code",
   "execution_count": null,
   "metadata": {},
   "outputs": [],
   "source": [
    "d = date(2018, 9, 1)\n",
    "\n",
    "unixtime = time.mktime(d.timetuple())\n",
    "unixtime"
   ]
  },
  {
   "cell_type": "code",
   "execution_count": null,
   "metadata": {},
   "outputs": [],
   "source": [
    "from datetime import datetime"
   ]
  },
  {
   "cell_type": "code",
   "execution_count": null,
   "metadata": {},
   "outputs": [],
   "source": [
    "datetime.fromtimestamp(1535844129)"
   ]
  },
  {
   "cell_type": "markdown",
   "metadata": {},
   "source": [
    "# Обработка ошибок"
   ]
  },
  {
   "cell_type": "code",
   "execution_count": null,
   "metadata": {},
   "outputs": [],
   "source": [
    "some_num = '123'"
   ]
  },
  {
   "cell_type": "code",
   "execution_count": null,
   "metadata": {},
   "outputs": [],
   "source": [
    "float(some_num)"
   ]
  },
  {
   "cell_type": "code",
   "execution_count": null,
   "metadata": {},
   "outputs": [],
   "source": [
    "ups = '123a'"
   ]
  },
  {
   "cell_type": "code",
   "execution_count": null,
   "metadata": {},
   "outputs": [],
   "source": [
    "float(ups)"
   ]
  },
  {
   "cell_type": "code",
   "execution_count": null,
   "metadata": {},
   "outputs": [],
   "source": [
    "try:\n",
    "    float(ups)\n",
    "\n",
    "except Exception as e:\n",
    "    print(e)\n",
    "    \n",
    "print('Проехали')"
   ]
  },
  {
   "cell_type": "code",
   "execution_count": null,
   "metadata": {},
   "outputs": [],
   "source": [
    "ups = '123fff'"
   ]
  },
  {
   "cell_type": "code",
   "execution_count": null,
   "metadata": {},
   "outputs": [],
   "source": [
    "# полная версия traceback\n",
    "import traceback\n",
    "\n",
    "try:\n",
    "    float(ups)\n",
    "\n",
    "except Exception:\n",
    "    print(traceback.print_exc())\n",
    "    \n",
    "print('Проехали')"
   ]
  },
  {
   "cell_type": "markdown",
   "metadata": {},
   "source": [
    "### Более жизненный пример"
   ]
  },
  {
   "cell_type": "code",
   "execution_count": null,
   "metadata": {},
   "outputs": [],
   "source": [
    "with open('real_data.txt', 'r') as f:\n",
    "    for line in f:\n",
    "        print(line.strip())"
   ]
  },
  {
   "cell_type": "code",
   "execution_count": null,
   "metadata": {},
   "outputs": [],
   "source": [
    "import logging"
   ]
  },
  {
   "cell_type": "markdown",
   "metadata": {},
   "source": [
    "Чем прекрасен этот файл:\n",
    "1. Даты имеют разный формат: за 8 и 9 октября формат с \"09.10.2016 21:40\" сменился на \"09.10.2016T 21:40:00\" (добавилась буква T и секунды). Разработчики объяснили этот тем, что сбились настройки в базе данных.\n",
    "2. У покупок некоторых пользователей неизвестно значение выручки, из-за чего количество столбцов в строке уменьшается на один.\n",
    "3. У некоторых строк реальная сумма покупки умножена на миллион. Так иногда действительно делают, чтобы избежать дробных чисел и работать только с целыми. Разработчикам просто так удобнее."
   ]
  },
  {
   "cell_type": "code",
   "execution_count": null,
   "metadata": {},
   "outputs": [],
   "source": [
    "def make_datetime_normal(dt):\n",
    "    \"\"\"Перевод даты покупки в формат %Y-%m-%d\"\"\"\n",
    "    \n",
    "    date_datetime = datetime.strptime(dt, '%d.%m.%y %H:%M')\n",
    "    return date_datetime.strftime('%Y-%m-%d')"
   ]
  },
  {
   "cell_type": "code",
   "execution_count": null,
   "metadata": {},
   "outputs": [],
   "source": [
    "make_datetime_normal('05.10.16 23:18')"
   ]
  },
  {
   "cell_type": "code",
   "execution_count": null,
   "metadata": {},
   "outputs": [],
   "source": [
    "make_datetime_normal('08.10.2016T 16:46:00')"
   ]
  },
  {
   "cell_type": "markdown",
   "metadata": {},
   "source": [
    "### Упражнение\n",
    "Создайте словарь stats = {'monday': 100, 'tuesday': 200}. \n",
    "\n",
    "Какой тип ошибки вызовет обращение stats['wednesday']?"
   ]
  },
  {
   "cell_type": "code",
   "execution_count": null,
   "metadata": {},
   "outputs": [],
   "source": [
    "stats = {'monday': 100, 'tuesday': 200}"
   ]
  },
  {
   "cell_type": "code",
   "execution_count": null,
   "metadata": {},
   "outputs": [],
   "source": []
  },
  {
   "cell_type": "code",
   "execution_count": null,
   "metadata": {},
   "outputs": [],
   "source": []
  },
  {
   "cell_type": "code",
   "execution_count": null,
   "metadata": {},
   "outputs": [],
   "source": []
  },
  {
   "cell_type": "code",
   "execution_count": null,
   "metadata": {},
   "outputs": [],
   "source": [
    "def make_datetime_normal(date_string):\n",
    "    \"\"\"Перевод даты покупки в формат %Y-%m-%d\"\"\"\n",
    "\n",
    "    try:\n",
    "        # пробуем расшифровать дату в формате '%d.%m.%Y %H:%M'\n",
    "        date_datetime = datetime.strptime(date_string, '%d.%m.%Y %H:%M')\n",
    "\n",
    "    except ValueError:\n",
    "\n",
    "        # пробуем расшифровать дату в формате '%d.%m.%YT %H:%M:%S'\n",
    "        try:\n",
    "            date_datetime = datetime.strptime(date_string, '%d.%m.%YT %H:%M:%S')\n",
    "\n",
    "        except:\n",
    "            print('Warning! bad line')\n",
    "            # ни один из известных форматов не подошел, возвращаем 'undefined'\n",
    "            return 'undefined'\n",
    "\n",
    "    return date_datetime.strftime('%Y-%m-%d')"
   ]
  },
  {
   "cell_type": "code",
   "execution_count": null,
   "metadata": {},
   "outputs": [],
   "source": [
    "make_datetime_normal('05.10.2016 23:18')"
   ]
  },
  {
   "cell_type": "code",
   "execution_count": null,
   "metadata": {},
   "outputs": [],
   "source": [
    "make_datetime_normal('08.10.2016T 16:46:00')"
   ]
  },
  {
   "cell_type": "code",
   "execution_count": null,
   "metadata": {},
   "outputs": [],
   "source": [
    "make_datetime_normal('08.10.2016T16:46:00Z')"
   ]
  },
  {
   "cell_type": "markdown",
   "metadata": {},
   "source": [
    "### Упражнение\n",
    "Посчитайте сумму третьего столбца с файле real_data.txt. Считайте, что если значение больше 1000, значит оно было умножено на миллион."
   ]
  },
  {
   "cell_type": "code",
   "execution_count": null,
   "metadata": {},
   "outputs": [],
   "source": []
  },
  {
   "cell_type": "code",
   "execution_count": null,
   "metadata": {},
   "outputs": [],
   "source": []
  },
  {
   "cell_type": "code",
   "execution_count": null,
   "metadata": {},
   "outputs": [],
   "source": []
  },
  {
   "cell_type": "markdown",
   "metadata": {},
   "source": [
    "# YAML-формат\n",
    "Неочевидные приемы https://habr.com/post/270097/"
   ]
  },
  {
   "cell_type": "code",
   "execution_count": null,
   "metadata": {},
   "outputs": [],
   "source": [
    "!pip install pyyaml"
   ]
  },
  {
   "cell_type": "code",
   "execution_count": null,
   "metadata": {},
   "outputs": [],
   "source": [
    "from yaml import load"
   ]
  },
  {
   "cell_type": "code",
   "execution_count": null,
   "metadata": {},
   "outputs": [],
   "source": [
    "config = load( open('config.yaml') )\n",
    "config"
   ]
  },
  {
   "cell_type": "code",
   "execution_count": null,
   "metadata": {},
   "outputs": [],
   "source": [
    "config['accounts']['vk']['password']"
   ]
  },
  {
   "cell_type": "code",
   "execution_count": null,
   "metadata": {},
   "outputs": [],
   "source": [
    "config['cities']"
   ]
  },
  {
   "cell_type": "code",
   "execution_count": null,
   "metadata": {},
   "outputs": [],
   "source": [
    "list_of_cities = config['cities']\n",
    "list_of_cities"
   ]
  },
  {
   "cell_type": "code",
   "execution_count": null,
   "metadata": {},
   "outputs": [],
   "source": [
    "config['accounts']"
   ]
  },
  {
   "cell_type": "code",
   "execution_count": null,
   "metadata": {},
   "outputs": [],
   "source": [
    "vk_username = config['accounts']['vk']['username']\n",
    "vk_username"
   ]
  },
  {
   "cell_type": "code",
   "execution_count": null,
   "metadata": {},
   "outputs": [],
   "source": [
    "for city in config['cities']:\n",
    "    print(city)"
   ]
  },
  {
   "cell_type": "markdown",
   "metadata": {},
   "source": [
    "### Упражнение\n",
    "Вам необходимо написать YAML-файл с параметрами для выгрузки данных. Как бы вы организовали такой файл?\n",
    "\n",
    "1. Выгрузка происходит из нескольких систем (vk, mytarget, dbm).\n",
    "\n",
    "2. У каждой системы есть несколько аккаунтов (account1, account2, ...). \n",
    "\n",
    "3. Для выгрузки данных из каждого аккаунта есть своя пара ключей приложения client_id и client_secret.\n",
    "\n",
    "4. Также у каждого аккаунта есть набор клиентов (client1, client2, ...), у каждого из которых есть свой логин и refresh_token."
   ]
  },
  {
   "cell_type": "code",
   "execution_count": null,
   "metadata": {},
   "outputs": [],
   "source": []
  }
 ],
 "metadata": {
  "kernelspec": {
   "display_name": "Python 3",
   "language": "python",
   "name": "python3"
  },
  "language_info": {
   "codemirror_mode": {
    "name": "ipython",
    "version": 3
   },
   "file_extension": ".py",
   "mimetype": "text/x-python",
   "name": "python",
   "nbconvert_exporter": "python",
   "pygments_lexer": "ipython3",
   "version": "3.7.2"
  }
 },
 "nbformat": 4,
 "nbformat_minor": 2
}
