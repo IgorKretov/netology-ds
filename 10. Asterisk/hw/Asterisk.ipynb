{
 "cells": [
  {
   "cell_type": "markdown",
   "metadata": {},
   "source": [
    "# Задание со звездочкой"
   ]
  },
  {
   "cell_type": "markdown",
   "metadata": {},
   "source": [
    "<pre>\n",
    "ФИО: Никифоров Владимир\n",
    "</pre>"
   ]
  },
  {
   "cell_type": "raw",
   "metadata": {},
   "source": [
    "Требования к решению заданий:\n",
    "1) Язык программирования: R или Python.\n",
    "2) Воспроизводимость: пользователь Вашего решения должен иметь возможность\n",
    "запустить Ваш код и получить результаты схожие с Вашими.\n",
    "3) По первому заданию необходимо подготовить аналитический отчет с\n",
    "программным кодом, по второму заданию – аналитический отчет с программным\n",
    "кодом и csv-файлом с предсказаниями на тестовой выборке."
   ]
  },
  {
   "cell_type": "raw",
   "metadata": {},
   "source": [
    "Задание 1\n",
    "Сотрудник службы оценки качества продукции заметил, что число бракованных листов\n",
    "стали в партии для стали марки A больше, чем для стали марки B. Также он обратил\n",
    "внимание, что при средней скорости прокатки более 4 м/с число бракованных листов\n",
    "больше. В соответствии с этими наблюдениями, предлагается снизить скорость прокатки\n",
    "и ввести дополнительные меры контроля качества для стали марки A.\n",
    "Обоснуйте, что:\n",
    "1) Более 3 бракованных листов на партию выходит значимо чаще для стали марки А,\n",
    "чем для стали марки B.\n",
    "2) При скоростях прокатки более 4 м/с свыше 3 бракованных листов стали на партию\n",
    "выходит значимо чаще, чем при меньших скоростях прокатки.\n",
    "Данные, необходимые для анализа, содержатся в файле «Статистика за 2018 год».\n",
    "Количество листов стали в каждой партии предполагается одинаковым."
   ]
  },
  {
   "cell_type": "code",
   "execution_count": 1,
   "metadata": {},
   "outputs": [],
   "source": [
    "import pandas as pd\n",
    "import scipy.stats as sts\n",
    "from scipy.stats import mannwhitneyu\n",
    "\n",
    "from matplotlib import pyplot as plt\n",
    "%matplotlib inline"
   ]
  },
  {
   "cell_type": "code",
   "execution_count": 2,
   "metadata": {},
   "outputs": [
    {
     "data": {
      "text/html": [
       "<div>\n",
       "<style scoped>\n",
       "    .dataframe tbody tr th:only-of-type {\n",
       "        vertical-align: middle;\n",
       "    }\n",
       "\n",
       "    .dataframe tbody tr th {\n",
       "        vertical-align: top;\n",
       "    }\n",
       "\n",
       "    .dataframe thead th {\n",
       "        text-align: right;\n",
       "    }\n",
       "</style>\n",
       "<table border=\"1\" class=\"dataframe\">\n",
       "  <thead>\n",
       "    <tr style=\"text-align: right;\">\n",
       "      <th></th>\n",
       "      <th>Число бракованных листов</th>\n",
       "      <th>Скорость прокатки</th>\n",
       "      <th>Марка стали</th>\n",
       "    </tr>\n",
       "  </thead>\n",
       "  <tbody>\n",
       "    <tr>\n",
       "      <td>0</td>\n",
       "      <td>3</td>\n",
       "      <td>3.8</td>\n",
       "      <td>A</td>\n",
       "    </tr>\n",
       "    <tr>\n",
       "      <td>1</td>\n",
       "      <td>3</td>\n",
       "      <td>3.8</td>\n",
       "      <td>B</td>\n",
       "    </tr>\n",
       "    <tr>\n",
       "      <td>2</td>\n",
       "      <td>3</td>\n",
       "      <td>4.8</td>\n",
       "      <td>B</td>\n",
       "    </tr>\n",
       "    <tr>\n",
       "      <td>3</td>\n",
       "      <td>4</td>\n",
       "      <td>4.4</td>\n",
       "      <td>B</td>\n",
       "    </tr>\n",
       "    <tr>\n",
       "      <td>4</td>\n",
       "      <td>6</td>\n",
       "      <td>5.0</td>\n",
       "      <td>B</td>\n",
       "    </tr>\n",
       "  </tbody>\n",
       "</table>\n",
       "</div>"
      ],
      "text/plain": [
       "   Число бракованных листов  Скорость прокатки Марка стали\n",
       "0                         3                3.8           A\n",
       "1                         3                3.8           B\n",
       "2                         3                4.8           B\n",
       "3                         4                4.4           B\n",
       "4                         6                5.0           B"
      ]
     },
     "execution_count": 2,
     "metadata": {},
     "output_type": "execute_result"
    }
   ],
   "source": [
    "df = pd.read_csv('../data/Статистика_за_2018_год__1_.csv', encoding='windows-1251')\n",
    "df.head()"
   ]
  },
  {
   "cell_type": "code",
   "execution_count": 3,
   "metadata": {},
   "outputs": [
    {
     "name": "stdout",
     "output_type": "stream",
     "text": [
      "<class 'pandas.core.frame.DataFrame'>\n",
      "RangeIndex: 237 entries, 0 to 236\n",
      "Data columns (total 3 columns):\n",
      "Число бракованных листов    237 non-null int64\n",
      "Скорость прокатки           237 non-null float64\n",
      "Марка стали                 237 non-null object\n",
      "dtypes: float64(1), int64(1), object(1)\n",
      "memory usage: 5.7+ KB\n"
     ]
    }
   ],
   "source": [
    "df.info()"
   ]
  },
  {
   "cell_type": "code",
   "execution_count": 4,
   "metadata": {},
   "outputs": [
    {
     "data": {
      "text/html": [
       "<div>\n",
       "<style scoped>\n",
       "    .dataframe tbody tr th:only-of-type {\n",
       "        vertical-align: middle;\n",
       "    }\n",
       "\n",
       "    .dataframe tbody tr th {\n",
       "        vertical-align: top;\n",
       "    }\n",
       "\n",
       "    .dataframe thead th {\n",
       "        text-align: right;\n",
       "    }\n",
       "</style>\n",
       "<table border=\"1\" class=\"dataframe\">\n",
       "  <thead>\n",
       "    <tr style=\"text-align: right;\">\n",
       "      <th></th>\n",
       "      <th>Число бракованных листов</th>\n",
       "      <th>Скорость прокатки</th>\n",
       "    </tr>\n",
       "  </thead>\n",
       "  <tbody>\n",
       "    <tr>\n",
       "      <td>count</td>\n",
       "      <td>237.000000</td>\n",
       "      <td>237.000000</td>\n",
       "    </tr>\n",
       "    <tr>\n",
       "      <td>mean</td>\n",
       "      <td>3.257384</td>\n",
       "      <td>4.509705</td>\n",
       "    </tr>\n",
       "    <tr>\n",
       "      <td>std</td>\n",
       "      <td>1.807821</td>\n",
       "      <td>0.696260</td>\n",
       "    </tr>\n",
       "    <tr>\n",
       "      <td>min</td>\n",
       "      <td>0.000000</td>\n",
       "      <td>2.500000</td>\n",
       "    </tr>\n",
       "    <tr>\n",
       "      <td>25%</td>\n",
       "      <td>2.000000</td>\n",
       "      <td>4.100000</td>\n",
       "    </tr>\n",
       "    <tr>\n",
       "      <td>50%</td>\n",
       "      <td>3.000000</td>\n",
       "      <td>4.600000</td>\n",
       "    </tr>\n",
       "    <tr>\n",
       "      <td>75%</td>\n",
       "      <td>4.000000</td>\n",
       "      <td>5.000000</td>\n",
       "    </tr>\n",
       "    <tr>\n",
       "      <td>max</td>\n",
       "      <td>8.000000</td>\n",
       "      <td>6.500000</td>\n",
       "    </tr>\n",
       "  </tbody>\n",
       "</table>\n",
       "</div>"
      ],
      "text/plain": [
       "       Число бракованных листов  Скорость прокатки\n",
       "count                237.000000         237.000000\n",
       "mean                   3.257384           4.509705\n",
       "std                    1.807821           0.696260\n",
       "min                    0.000000           2.500000\n",
       "25%                    2.000000           4.100000\n",
       "50%                    3.000000           4.600000\n",
       "75%                    4.000000           5.000000\n",
       "max                    8.000000           6.500000"
      ]
     },
     "execution_count": 4,
     "metadata": {},
     "output_type": "execute_result"
    }
   ],
   "source": [
    "df.describe()"
   ]
  },
  {
   "cell_type": "code",
   "execution_count": 5,
   "metadata": {},
   "outputs": [
    {
     "data": {
      "text/html": [
       "<div>\n",
       "<style scoped>\n",
       "    .dataframe tbody tr th:only-of-type {\n",
       "        vertical-align: middle;\n",
       "    }\n",
       "\n",
       "    .dataframe tbody tr th {\n",
       "        vertical-align: top;\n",
       "    }\n",
       "\n",
       "    .dataframe thead th {\n",
       "        text-align: right;\n",
       "    }\n",
       "</style>\n",
       "<table border=\"1\" class=\"dataframe\">\n",
       "  <thead>\n",
       "    <tr style=\"text-align: right;\">\n",
       "      <th></th>\n",
       "      <th>Число бракованных листов</th>\n",
       "      <th>Скорость прокатки</th>\n",
       "      <th>Марка стали</th>\n",
       "      <th>more_than_3</th>\n",
       "    </tr>\n",
       "  </thead>\n",
       "  <tbody>\n",
       "    <tr>\n",
       "      <td>0</td>\n",
       "      <td>3</td>\n",
       "      <td>3.8</td>\n",
       "      <td>A</td>\n",
       "      <td>0</td>\n",
       "    </tr>\n",
       "    <tr>\n",
       "      <td>1</td>\n",
       "      <td>3</td>\n",
       "      <td>3.8</td>\n",
       "      <td>B</td>\n",
       "      <td>0</td>\n",
       "    </tr>\n",
       "    <tr>\n",
       "      <td>2</td>\n",
       "      <td>3</td>\n",
       "      <td>4.8</td>\n",
       "      <td>B</td>\n",
       "      <td>0</td>\n",
       "    </tr>\n",
       "    <tr>\n",
       "      <td>3</td>\n",
       "      <td>4</td>\n",
       "      <td>4.4</td>\n",
       "      <td>B</td>\n",
       "      <td>1</td>\n",
       "    </tr>\n",
       "    <tr>\n",
       "      <td>4</td>\n",
       "      <td>6</td>\n",
       "      <td>5.0</td>\n",
       "      <td>B</td>\n",
       "      <td>1</td>\n",
       "    </tr>\n",
       "  </tbody>\n",
       "</table>\n",
       "</div>"
      ],
      "text/plain": [
       "   Число бракованных листов  Скорость прокатки Марка стали  more_than_3\n",
       "0                         3                3.8           A            0\n",
       "1                         3                3.8           B            0\n",
       "2                         3                4.8           B            0\n",
       "3                         4                4.4           B            1\n",
       "4                         6                5.0           B            1"
      ]
     },
     "execution_count": 5,
     "metadata": {},
     "output_type": "execute_result"
    }
   ],
   "source": [
    "df['more_than_3'] = df['Число бракованных листов'].apply(lambda x: 1 if x > 3 else 0)\n",
    "df.head()"
   ]
  },
  {
   "cell_type": "code",
   "execution_count": 6,
   "metadata": {},
   "outputs": [
    {
     "name": "stdout",
     "output_type": "stream",
     "text": [
      "Count of examples A = 139\n",
      "Count of examples B = 98\n"
     ]
    }
   ],
   "source": [
    "# получим данные по партиям для стали марок А и В\n",
    "df_a = df[df['Марка стали']=='A']\n",
    "print(f'Count of examples A = {df_a.shape[0]}')\n",
    "df_b = df[df['Марка стали']=='B']\n",
    "print(f'Count of examples B = {df_b.shape[0]}')"
   ]
  },
  {
   "cell_type": "code",
   "execution_count": 7,
   "metadata": {},
   "outputs": [],
   "source": [
    "# приравняем количество измерений первой выборки ко второй (марка стали А и В)\n",
    "df_a = df_a.iloc[:len(df_b)]"
   ]
  },
  {
   "cell_type": "code",
   "execution_count": 8,
   "metadata": {},
   "outputs": [
    {
     "data": {
      "image/png": "[encoded data removed]",
      "text/plain": [
       "<Figure size 432x288 with 4 Axes>"
      ]
     },
     "metadata": {
      "needs_background": "light"
     },
     "output_type": "display_data"
    }
   ],
   "source": [
    "# распределения данных по марке А\n",
    "df_a.hist();"
   ]
  },
  {
   "cell_type": "code",
   "execution_count": 9,
   "metadata": {},
   "outputs": [
    {
     "data": {
      "image/png": "[encoded data removed]",
      "text/plain": [
       "<Figure size 432x288 with 4 Axes>"
      ]
     },
     "metadata": {
      "needs_background": "light"
     },
     "output_type": "display_data"
    }
   ],
   "source": [
    "# распределения данных по марке В\n",
    "df_b.hist();"
   ]
  },
  {
   "cell_type": "markdown",
   "metadata": {},
   "source": [
    "### Проверим, что \"Более 3 бракованных листов на партию выходит значимо чаще для стали марки А, чем для стали марки B.\""
   ]
  },
  {
   "cell_type": "code",
   "execution_count": 10,
   "metadata": {},
   "outputs": [
    {
     "name": "stdout",
     "output_type": "stream",
     "text": [
      "[0 0 0 0 0 1 1 0 0 0 0 1 0 0 1 1 1 0 1 0 0 0 0 1 1 0 1 0 0 0 1 1 0 0 1 1 0\n",
      " 0 1 0 0 0 0 0 0 0 0 1 0 0 0 0 1 0 0 0 1 0 0 0 0 0 0 1 0 0 0 1 0 1 1 0 1 0\n",
      " 0 1 0 0 1 0 0 0 0 1 0 1 0 0 0 0 1 1 0 1 0 0 0 1]\n",
      "[0 0 1 1 1 0 1 0 0 1 0 0 0 0 1 0 0 0 1 0 1 0 0 0 1 1 0 0 1 1 0 1 0 0 0 1 0\n",
      " 0 1 0 1 1 1 0 0 0 0 1 1 0 1 1 1 1 1 0 0 1 0 0 0 0 1 0 0 1 1 1 0 0 1 1 0 0\n",
      " 1 0 0 1 0 1 1 0 1 0 0 1 0 0 0 0 1 1 1 1 1 1 0 0]\n"
     ]
    }
   ],
   "source": [
    "df_a_more_than_3 = df_a['more_than_3'].values\n",
    "print(df_a_more_than_3)\n",
    "df_b_more_than_3 = df_b['more_than_3'].values\n",
    "print(df_b_more_than_3)"
   ]
  },
  {
   "cell_type": "code",
   "execution_count": 11,
   "metadata": {},
   "outputs": [
    {
     "name": "stdout",
     "output_type": "stream",
     "text": [
      "0.3163265306122449\n",
      "0.4489795918367347\n"
     ]
    }
   ],
   "source": [
    "print(df_a_more_than_3.mean())\n",
    "print(df_b_more_than_3.mean())"
   ]
  },
  {
   "cell_type": "code",
   "execution_count": 15,
   "metadata": {},
   "outputs": [
    {
     "data": {
      "image/png": "[encoded data removed]",
      "text/plain": [
       "<Figure size 432x288 with 1 Axes>"
      ]
     },
     "metadata": {
      "needs_background": "light"
     },
     "output_type": "display_data"
    }
   ],
   "source": [
    "plt.hist(df_a_more_than_3, bins=df['more_than_3'].max()+1);"
   ]
  },
  {
   "cell_type": "code",
   "execution_count": 16,
   "metadata": {},
   "outputs": [
    {
     "data": {
      "image/png": "[encoded data removed]",
      "text/plain": [
       "<Figure size 432x288 with 1 Axes>"
      ]
     },
     "metadata": {
      "needs_background": "light"
     },
     "output_type": "display_data"
    }
   ],
   "source": [
    "plt.hist(df_b_more_than_3, bins=df['more_than_3'].max()+1);"
   ]
  },
  {
   "cell_type": "code",
   "execution_count": 13,
   "metadata": {},
   "outputs": [
    {
     "data": {
      "text/plain": [
       "Ttest_indResult(statistic=-1.9186814283602933, pvalue=0.05649260475471848)"
      ]
     },
     "execution_count": 13,
     "metadata": {},
     "output_type": "execute_result"
    }
   ],
   "source": [
    "sts.ttest_ind(df_a_more_than_3, df_b_more_than_3)"
   ]
  },
  {
   "cell_type": "code",
   "execution_count": 14,
   "metadata": {},
   "outputs": [
    {
     "data": {
      "text/plain": [
       "MannwhitneyuResult(statistic=4165.0, pvalue=0.0284467072867045)"
      ]
     },
     "execution_count": 14,
     "metadata": {},
     "output_type": "execute_result"
    }
   ],
   "source": [
    "mannwhitneyu(df_a_more_than_3, df_b_more_than_3)"
   ]
  },
  {
   "cell_type": "code",
   "execution_count": null,
   "metadata": {},
   "outputs": [],
   "source": []
  },
  {
   "cell_type": "raw",
   "metadata": {},
   "source": [
    "Задание 2\n",
    "Вам необходимо построить модель, которая на основании данных, поступающих каждую\n",
    "минуту, определяют качество продукции, производимое на обжиговой машине.\n",
    "Обжиговая машина представляет собой агрегат, состоящий из 5 одинаковых по размеру\n",
    "камер, в каждой камере установлено по 3 датчика температур. Кроме этого, для данной\n",
    "задачи Вы собрали данные о высоте слоя сырья и его влажности. Высота слоя и влажность\n",
    "измеряются при входе сырья в машину. Сырье проходит через обжиговую машину за час.\n",
    "Данные с показателями работы обжиговой машины содержатся в файле X_data.csv:\n",
    "Название тега Описание тега\n",
    "T_data_1_1 1-й датчик в 1-й камере\n",
    "T_data_1_2 2-й датчик в 1-й камере\n",
    "T_data_1_3 3-й датчик в 1-й камере\n",
    "T_data_2_1 1-й датчик во 2-й камере\n",
    "T_data_2_2 2-й датчик во 2-й камере\n",
    "T_data_2_3 3-й датчик во 2-й камере\n",
    "T_data_3_1 1-й датчик в 3-й камере\n",
    "T_data_3_2 2-й датчик в 3-й камере\n",
    "T_data_3_3 3-й датчик в 3-й камере\n",
    "T_data_4_1 1-й датчик в 4-й камере\n",
    "\n",
    "T_data_4_2 2-й датчик в 4-й камере\n",
    "T_data_4_3 3-й датчик в 4-й камере\n",
    "T_data_5_1 1-й датчик в 5-й камере\n",
    "T_data_5_2 2-й датчик в 5-й камере\n",
    "T_data_5_3 3-й датчик в 5-й камере\n",
    "H_data Высота слоя\n",
    "AH_data Влажность сырья\n",
    "Качество продукции измеряется в лаборатории по пробам, которые забираются каждый\n",
    "час, данные по известным анализам содержатся в файле Y_train.csv. В файле указано\n",
    "время забора пробы, проба забирается на выходе из обжиговой машины.\n",
    "Вы договорились с заказчиком, что оценкой модели будет являться показатель MAE, для\n",
    "оценки модели необходимо сгенерировать предсказания за период, указанный в файле\n",
    "Y_submit.csv (5808 предиктов)."
   ]
  },
  {
   "cell_type": "code",
   "execution_count": null,
   "metadata": {},
   "outputs": [],
   "source": []
  }
 ],
 "metadata": {
  "kernelspec": {
   "display_name": "Python 3",
   "language": "python",
   "name": "python3"
  },
  "language_info": {
   "codemirror_mode": {
    "name": "ipython",
    "version": 3
   },
   "file_extension": ".py",
   "mimetype": "text/x-python",
   "name": "python",
   "nbconvert_exporter": "python",
   "pygments_lexer": "ipython3",
   "version": "3.7.2"
  }
 },
 "nbformat": 4,
 "nbformat_minor": 2
}
