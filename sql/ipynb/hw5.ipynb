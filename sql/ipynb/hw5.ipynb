{
 "cells": [
  {
   "cell_type": "markdown",
   "metadata": {},
   "source": [
    "# Домашнее задание № 5.\n",
    "\n",
    "Задание посвящено MongoDB. "
   ]
  },
  {
   "cell_type": "markdown",
   "metadata": {},
   "source": [
    "## 1. Вариант с pymongo"
   ]
  },
  {
   "cell_type": "markdown",
   "metadata": {},
   "source": [
    "В рамках домашней работы необходимо:\n",
    "\n",
    "- подключиться к Mongo из командной строки Linux и загрузить в Mongo текстовый JSON-файл;"
   ]
  },
  {
   "cell_type": "code",
   "execution_count": 1,
   "metadata": {},
   "outputs": [
    {
     "name": "stdout",
     "output_type": "stream",
     "text": [
      "2019-02-09T17:00:12.169+0300\tconnected to: localhost\n",
      "2019-02-09T17:00:12.169+0300\tdropping: movies.tags\n",
      "2019-02-09T17:00:12.997+0300\timported 158680 documents\n"
     ]
    }
   ],
   "source": [
    "!/usr/bin/mongoimport --db movies --collection tags --file $NETOLOGY_DATA/raw_data/simple_tags.json --drop"
   ]
  },
  {
   "cell_type": "markdown",
   "metadata": {},
   "source": [
    "- выполнить запросы к Mongo через консоль:"
   ]
  },
  {
   "cell_type": "code",
   "execution_count": 2,
   "metadata": {},
   "outputs": [],
   "source": [
    "import pymongo"
   ]
  },
  {
   "cell_type": "code",
   "execution_count": 3,
   "metadata": {},
   "outputs": [],
   "source": [
    "from pymongo import MongoClient\n",
    "db = MongoClient().movies"
   ]
  },
  {
   "cell_type": "code",
   "execution_count": 4,
   "metadata": {},
   "outputs": [],
   "source": [
    "coll = db.tags"
   ]
  },
  {
   "cell_type": "markdown",
   "metadata": {},
   "source": [
    "- подсчитайте число элементов в созданной коллекции tags в bd movies"
   ]
  },
  {
   "cell_type": "code",
   "execution_count": 5,
   "metadata": {},
   "outputs": [
    {
     "name": "stdout",
     "output_type": "stream",
     "text": [
      "tags count:  158680\n"
     ]
    },
    {
     "name": "stderr",
     "output_type": "stream",
     "text": [
      "/home/truename/anaconda3/lib/python3.7/site-packages/ipykernel_launcher.py:1: DeprecationWarning: count is deprecated. Use Collection.count_documents instead.\n",
      "  \"\"\"Entry point for launching an IPython kernel.\n"
     ]
    }
   ],
   "source": [
    "print(\"tags count: \", coll.find({}).count())"
   ]
  },
  {
   "cell_type": "markdown",
   "metadata": {},
   "source": [
    "- подсчитайте число фильмов с конкретным тегом - `woman`"
   ]
  },
  {
   "cell_type": "code",
   "execution_count": 6,
   "metadata": {},
   "outputs": [
    {
     "name": "stdout",
     "output_type": "stream",
     "text": [
      "woman tags count:  19\n"
     ]
    },
    {
     "name": "stderr",
     "output_type": "stream",
     "text": [
      "/home/truename/anaconda3/lib/python3.7/site-packages/ipykernel_launcher.py:1: DeprecationWarning: count is deprecated. Use Collection.count_documents instead.\n",
      "  \"\"\"Entry point for launching an IPython kernel.\n"
     ]
    }
   ],
   "source": [
    "print(\"woman tags count: \",coll.find({\"name\": \"woman\"}).count())"
   ]
  },
  {
   "cell_type": "markdown",
   "metadata": {},
   "source": [
    "- используя группировку данных ($groupby) вывести top-3 самых распространённых тегов"
   ]
  },
  {
   "cell_type": "code",
   "execution_count": 7,
   "metadata": {},
   "outputs": [],
   "source": [
    "from bson.son import SON"
   ]
  },
  {
   "cell_type": "code",
   "execution_count": 8,
   "metadata": {},
   "outputs": [],
   "source": [
    "pipeline = [\n",
    "    {\"$group\": {\"_id\": \"$name\", \"tag_count\": {\"$sum\": 1}}},\n",
    "    {\"$sort\": SON([(\"tag_count\", -1)])},\n",
    "    {\"$limit\": 3}\n",
    "]"
   ]
  },
  {
   "cell_type": "code",
   "execution_count": 9,
   "metadata": {},
   "outputs": [
    {
     "name": "stdout",
     "output_type": "stream",
     "text": [
      "[{'_id': 'woman director', 'tag_count': 3115},\n",
      " {'_id': 'independent film', 'tag_count': 1930},\n",
      " {'_id': 'murder', 'tag_count': 1308}]\n"
     ]
    }
   ],
   "source": [
    "import pprint\n",
    "pprint.pprint(list(db.tags.aggregate(pipeline)))"
   ]
  },
  {
   "cell_type": "markdown",
   "metadata": {},
   "source": [
    "## 2. Вариант с командами для mongo"
   ]
  },
  {
   "cell_type": "code",
   "execution_count": 10,
   "metadata": {},
   "outputs": [
    {
     "name": "stdout",
     "output_type": "stream",
     "text": [
      "#!/usr/bin/env bash\n",
      "\n",
      "# команда для загрузки файла в MONGO\n",
      "/usr/bin/mongoimport --db movies --collection tags --file $NETOLOGY_DATA/raw_data/simple_tags.json --drop\n",
      "\n",
      "# в файле agg.js три задачи\n",
      "# - подсчитайте число элементов в созданной коллекции\n",
      "# - подсчитайте число фильмов с конкретным тегом - `woman`\n",
      "# - используя группировку данных ($groupby) вывести top-3 самых распространённых тегов\n",
      "/usr/bin/mongo movies ./agg.js"
     ]
    }
   ],
   "source": [
    "!cat ../shell/hw5.sh"
   ]
  },
  {
   "cell_type": "code",
   "execution_count": 11,
   "metadata": {},
   "outputs": [
    {
     "name": "stdout",
     "output_type": "stream",
     "text": [
      "/*\n",
      "        Написать запрос, который выводит общее число тегов\n",
      "*/\n",
      "print(\"tags count: \", db.tags.find({}).count());\n",
      "/*\n",
      "        Добавляем фильтрацию: считаем только количество тегов woman\n",
      "*/\n",
      "print(\"woman tags count: \", db.tags.find({'name': 'woman'}).count());\n",
      "/*\n",
      "        Очень сложный запрос: используем группировку данных посчитать количество вхождений для каждого тега\n",
      "        и напечатать top-3 самых популярных\n",
      "*/\n",
      "\n",
      "printjson(\n",
      "        db.tags.aggregate([\n",
      "                {\"$group\": {\n",
      "                                _id: \"$name\",\n",
      "                                tag_count: { $sum: 1 }\n",
      "                           }\n",
      "                },\n",
      "                {$sort:{tag_count: -1}},\n",
      "                {$limit: 3}\n",
      "        ])['_batch']\n",
      ");"
     ]
    }
   ],
   "source": [
    "!cat ../shell/agg.js"
   ]
  }
 ],
 "metadata": {
  "kernelspec": {
   "display_name": "Python 3",
   "language": "python",
   "name": "python3"
  },
  "language_info": {
   "codemirror_mode": {
    "name": "ipython",
    "version": 3
   },
   "file_extension": ".py",
   "mimetype": "text/x-python",
   "name": "python",
   "nbconvert_exporter": "python",
   "pygments_lexer": "ipython3",
   "version": "3.7.0"
  }
 },
 "nbformat": 4,
 "nbformat_minor": 2
}
