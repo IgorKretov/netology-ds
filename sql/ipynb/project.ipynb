{
 "cells": [
  {
   "cell_type": "markdown",
   "metadata": {},
   "source": [
    "# Проектная работа по модулю “SQL и получение данных”\n",
    "\n",
    "### Что необходимо сделать?\n",
    " \t\t\t\t\t\t\t\n",
    "1. Создать не менее 4 таблиц и заполнить их данными. \n",
    "Таблицы должны быть связаны между собой посредством ключей (ID) и представлять какую-то логическую структуру. \n",
    "Тематика данных может быть использована любая\n",
    "2. Написать не менее 10 SQL запросов к базе данных. \n",
    "В запросах должны быть отражены как базовые команды, так и аналитические функции (не менее 3 запросов). \n",
    "Должно присутствовать описание того, что вы получаете путем каждого запроса.\n",
    "\n",
    "\n",
    "### Как сдавать проектную работу?\n",
    "\n",
    "По итогам работы у вас должны быть подготовлены следующие файлы:\t\t\t\t\t\t\n",
    "- Описание БД, ее таблиц, логики, связей и бизнес области (формат .pdf)\n",
    "- Список SQL запросов с их описанием (формат .sql)"
   ]
  },
  {
   "cell_type": "code",
   "execution_count": 1,
   "metadata": {},
   "outputs": [],
   "source": [
    "from IPython.display import Image"
   ]
  },
  {
   "cell_type": "markdown",
   "metadata": {},
   "source": [
    "***\n",
    "## В качестве бизнес-области для проектной работы взята модель продаж.\n",
    "-  Продажи товаров (product_id) осуществляются в магазинах (store_id) в течении всего года (date_id = день) в штуках (qty) и национальной валюте (РУБЛИ, sum_nv).\n",
    "    -  Детализация: магазин - товар - день\n",
    "-  Товар является элементом справочника Products.\n",
    "    -  У товара есть атрибуты (attr_id) ProductsAttributes (связь через link-таблицу ProductsAttrLink)\n",
    "    -  Товарные иерархии ProductsHierarchyTree (справочник иерархий товара ProductsHierarchies) позволяют анализировать товар в различных преднастроенных деревьях\n",
    "-  Магазин является элементом справочника Stores\n",
    "    -  У магазина есть атрибуты StoresAttributes (связь через link-таблицу StoresAttrLink)\n",
    "    -  Магазинные иерархии StoresHierarchyTree (справочник иерархий магазинов StoresHierarchies) позволяют анализировать магазины в различных преднастроенных деревьях\n",
    "-  Дата является элементом календаря, простейший вариант которого включает лишь номер недели, год и признак выходного дня"
   ]
  },
  {
   "cell_type": "markdown",
   "metadata": {},
   "source": [
    "Скрипт создания таблиц и наполнения данными [здесь](https://github.com/VladimirNikiforov/netology-ds/blob/master/sql/sql/project_ddl_dml.sql)"
   ]
  },
  {
   "cell_type": "markdown",
   "metadata": {},
   "source": [
    "![ERD](../img/SalesERDiagram2.png)"
   ]
  },
  {
   "cell_type": "markdown",
   "metadata": {},
   "source": [
    "## В схеме 14 таблиц, кратко описывающих бизнес-модель продаж товара в магазинах\n",
    "Все названия вымышленные и связи с действительностью не имеют... :)\n",
    "\n",
    "### Запрос 1. В рабочие или выходные дни в среднем больше покупают штук товаров?"
   ]
  },
  {
   "cell_type": "markdown",
   "metadata": {},
   "source": [
    "![ERD](../img/SalesSQL0.png)"
   ]
  },
  {
   "cell_type": "markdown",
   "metadata": {},
   "source": [
    "### Запрос 2. Сколько всего мы выручили рублей за каждый из наших товаров?"
   ]
  },
  {
   "cell_type": "markdown",
   "metadata": {},
   "source": [
    "![ERD](../img/SalesSQL1.png)"
   ]
  },
  {
   "cell_type": "markdown",
   "metadata": {},
   "source": [
    "### Запрос 3. Какой из магазинов больше продает в рублях?"
   ]
  },
  {
   "cell_type": "markdown",
   "metadata": {},
   "source": [
    "![ERD](../img/SalesSQL2.png)"
   ]
  },
  {
   "cell_type": "markdown",
   "metadata": {},
   "source": [
    "### Запрос 4. Какой цвет среди всех товаров самый продаваемый?"
   ]
  },
  {
   "cell_type": "markdown",
   "metadata": {},
   "source": [
    "![ERD](../img/SalesSQL3.png)"
   ]
  },
  {
   "cell_type": "markdown",
   "metadata": {},
   "source": [
    "### Запрос 5. В каких городах больше продажи?"
   ]
  },
  {
   "cell_type": "markdown",
   "metadata": {},
   "source": [
    "![ERD](../img/SalesSQL4.png)"
   ]
  },
  {
   "cell_type": "markdown",
   "metadata": {},
   "source": [
    "### Запрос 6. Какая неделя \"пиковая\" - максимальный рост продаж относительно предыдущей недели?"
   ]
  },
  {
   "cell_type": "markdown",
   "metadata": {},
   "source": [
    "![ERD](../img/SalesSQL5.png)"
   ]
  },
  {
   "cell_type": "markdown",
   "metadata": {},
   "source": [
    "### Запрос 7. Для каждого из магазинов найдем самый продаваемый товар - bestseller"
   ]
  },
  {
   "cell_type": "markdown",
   "metadata": {},
   "source": [
    "![ERD](../img/SalesSQL6.png)"
   ]
  },
  {
   "cell_type": "markdown",
   "metadata": {},
   "source": [
    "### Запрос 8. Построим товарную иерархию с товарами"
   ]
  },
  {
   "cell_type": "markdown",
   "metadata": {},
   "source": [
    "![ERD](../img/SalesSQL7_1.png)"
   ]
  },
  {
   "cell_type": "markdown",
   "metadata": {},
   "source": [
    "![ERD](../img/SalesSQL7_2.png)"
   ]
  },
  {
   "cell_type": "markdown",
   "metadata": {},
   "source": [
    "![ERD](../img/SalesSQL7_4.png)"
   ]
  },
  {
   "cell_type": "markdown",
   "metadata": {},
   "source": [
    "### Запрос 9. Сама по себе товарная иерархия - хорошо, но добавим продажи!"
   ]
  },
  {
   "cell_type": "markdown",
   "metadata": {},
   "source": [
    "![ERD](../img/SalesSQL8_1.png)"
   ]
  },
  {
   "cell_type": "markdown",
   "metadata": {},
   "source": [
    "![ERD](../img/SalesSQL8_2.png)"
   ]
  },
  {
   "cell_type": "markdown",
   "metadata": {},
   "source": [
    "![ERD](../img/SalesSQL8_3.png)"
   ]
  },
  {
   "cell_type": "markdown",
   "metadata": {},
   "source": [
    "### Запрос 10. Построим магазинную иерархию с объемами продаж и расчетом агрегатов на верхних уровнях иерархии"
   ]
  },
  {
   "cell_type": "markdown",
   "metadata": {},
   "source": [
    "![ERD](../img/SalesSQL9_1.png)"
   ]
  },
  {
   "cell_type": "markdown",
   "metadata": {},
   "source": [
    "![ERD](../img/SalesSQL9_2.png)"
   ]
  },
  {
   "cell_type": "markdown",
   "metadata": {},
   "source": [
    "Полные скрипты доступны в [здесь](https://github.com/VladimirNikiforov/netology-ds/blob/master/sql/sql/project.sql)"
   ]
  }
 ],
 "metadata": {
  "kernelspec": {
   "display_name": "Python 3",
   "language": "python",
   "name": "python3"
  },
  "language_info": {
   "codemirror_mode": {
    "name": "ipython",
    "version": 3
   },
   "file_extension": ".py",
   "mimetype": "text/x-python",
   "name": "python",
   "nbconvert_exporter": "python",
   "pygments_lexer": "ipython3",
   "version": "3.7.0"
  }
 },
 "nbformat": 4,
 "nbformat_minor": 2
}
