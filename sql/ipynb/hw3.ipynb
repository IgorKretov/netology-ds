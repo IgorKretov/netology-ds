{
 "cells": [
  {
   "cell_type": "markdown",
   "metadata": {},
   "source": [
    "# Домашнее задание #3"
   ]
  },
  {
   "cell_type": "markdown",
   "metadata": {},
   "source": [
    "<pre>\n",
    "SELECT 'ФИО: Никифоров Владимир' as FIO;\n",
    "</pre>"
   ]
  },
  {
   "cell_type": "code",
   "execution_count": 1,
   "metadata": {},
   "outputs": [],
   "source": [
    "from IPython.display import Image"
   ]
  },
  {
   "cell_type": "markdown",
   "metadata": {},
   "source": [
    "![FIO](../img/hw2_0.png)"
   ]
  },
  {
   "cell_type": "markdown",
   "metadata": {},
   "source": [
    "### Оконные функции.\n",
    "\n",
    "Вывести список пользователей в формате userId, movieId, normed_rating, avg_rating где\n",
    "\n",
    "- userId, movieId - без изменения\n",
    "- для каждого пользователя преобразовать рейтинг r в нормированный - normed_rating=(r - r_min)/(r_max - r_min), где r_min и r_max соответственно минимально и максимальное значение рейтинга у данного пользователя\n",
    "- avg_rating - среднее значение рейтинга у данного пользователя\n",
    "\n",
    "Вывести первые 30 таких записей"
   ]
  },
  {
   "cell_type": "markdown",
   "metadata": {},
   "source": [
    "<pre>\n",
    "SELECT userId, movieId,\n",
    "       case when MAX(rating) OVER (PARTITION BY userId) = MIN(rating) OVER (PARTITION BY userId) then 0\n",
    "         else (rating - MIN(rating) OVER (PARTITION BY userId))/(MAX(rating) OVER (PARTITION BY userId) - MIN(rating) OVER (PARTITION BY userId))\n",
    "       end normed_rating,\n",
    "       AVG(rating) OVER (PARTITION BY userId) avg_rating\n",
    "  FROM ratings\n",
    " ORDER BY userId, movieId\n",
    " LIMIT 30;\n",
    "</pre>"
   ]
  },
  {
   "cell_type": "markdown",
   "metadata": {},
   "source": [
    "![WindowFunctions](../img/hw3_1.png)"
   ]
  },
  {
   "cell_type": "markdown",
   "metadata": {},
   "source": [
    "### ETL\n",
    "\n",
    "ETL - процесс выгрузки данных, обработки и их дальнейшеней загрузки. В рамках домашней работы нужно проделать все три этапа\n",
    "\n",
    "#### Extract\n",
    "\n",
    "Подключитесь к контейнеру с Postgres:\n",
    "\n",
    "<pre>\n",
    "sudo docker-compose --project-name data-cli -f docker-compose.yml run --rm data-client\n",
    "</pre>\n",
    "\n",
    "Проверьте, что в директории data присутствует файл с ключевыми словами по фильмам\n",
    "\n",
    "<pre>\n",
    "ls /data | grep keywords\n",
    "</pre>\n",
    "\n",
    "Наша задача - загрузить это файл в Postgres. \n",
    "\n",
    "Напишите команду создания таблички keywords у неё должно быть 2 поля - id(числовой) и tags (текстовое).  Пример такой команды можно подсмотреть в файле postgres_interactions/load_data.sh\n",
    "<pre>\n",
    "psql --host $APP_POSTGRES_HOST -U postgres -c \"ВАША КОМАНДА\"\n",
    "</pre>\n",
    "\n",
    "Напишите команду копирования данных из файла в созданную вами таблицу\n",
    "<pre>\n",
    "psql --host $APP_POSTGRES_HOST -U postgres -c \"ВАША КОМАНДА\"\n",
    "</pre>\n",
    "\n",
    "Подключитесь к контейнеру\n",
    "<pre>\n",
    "psql --host $APP_POSTGRES_HOST -U postgres\n",
    "</pre>\n",
    "\n",
    "Проверьте, что в таблице есть записи\n",
    "<pre>\n",
    "SELECT  COUNT(*) FROM keywords;\n",
    "</pre>\n",
    "\n",
    "Результат запроса\n",
    "<pre>\n",
    "count\n",
    "-------\n",
    " 46419\n",
    "</pre>\n",
    "\n",
    "#### Transform\n",
    "\n",
    "Мы загрузили данные в табличку, теперь нужно их преобразовать для дальнейшего использования. Мы ходитм узнать, какие теги у фильмов, которые сильно нравятся пользователям.\n",
    "\n",
    "- Сформируйте запрос (назовём его ЗАПРОС1) к таблице ratings, в котором будут 2 поля\n",
    "-- movieId\n",
    "-- avg_rating - средний рейтинг, который ставят этому контенту пользователи\n",
    "В выборку должны попасть те фильмы, которым поставили оценки более чем 50 пользователей\n",
    "Список должен быть отсортирован по убыванию по полю avg_rating и по возрастанию по полю movieId\n",
    "Из этой выборки оставить первое 150 элементов\n",
    "\n",
    "Теперь мы хотим добавить к выборке хороших фильмов с высоким рейтингов информацию о тегах. Воспользуемся Common Table Expressions. Для этого нужно написать ЗАПРОС2, который присоединяет к выборке таблицу keywords\n",
    "\n",
    "<pre>\n",
    " WITH top_rated as ( ЗАПРОС1 ) ЗАПРОС2;\n",
    "</pre>\n",
    "\n",
    "#### Load\n",
    "\n",
    "Мы обогатили выборку популярного контента внешними данными о тегах. Теперь мы можем сохранить эту информацию в таблицу для дальнейшего использования\n",
    "\n",
    "Сохраним нашу выборку в новую таблицу top_rated_tags. Для этого мы модифицируем ЗАПРОС2 - вместо простого SELECT сделаем SELECT INTO.\n",
    "\n",
    "Назовём всю эту конструкцию ЗАПРОС3\n",
    "<pre>\n",
    " WITH top_rated as ( ЗАПРОС1 )  SELECT movieId, top_rated_tags INTO имя_таблицы FROM top_rated ...;\n",
    "</pre>\n",
    "\n",
    "Теперь можно выгрузить таблицу в текстовый файл - пример см. в лекции. Внимание: Поля в текстовом файле нужно разделить при помощи табуляции ( символ E`\\t`).\n",
    "\n",
    "Решением домашки будет скрипт hw3.sql вида:\n",
    "\n",
    "<pre>\n",
    "\"ВАША КОМАНДА СОЗДАНИЯ ТАБЛИЦЫ\";\n",
    "\n",
    "\"ВАША КОМАНДА ЗАЛИВКИ ДАННЫХ В ТАБЛИЦу\";\n",
    "\n",
    "\"ЗАПРОС3\";\n",
    "\n",
    "\"ВАША КОМАНДА ВЫГРУЗКИ ТАБЛИЦЫ В ФАЙЛ\"\n",
    "</pre>"
   ]
  },
  {
   "cell_type": "code",
   "execution_count": null,
   "metadata": {},
   "outputs": [],
   "source": []
  },
  {
   "cell_type": "code",
   "execution_count": null,
   "metadata": {},
   "outputs": [],
   "source": []
  }
 ],
 "metadata": {
  "kernelspec": {
   "display_name": "Python 3",
   "language": "python",
   "name": "python3"
  },
  "language_info": {
   "codemirror_mode": {
    "name": "ipython",
    "version": 3
   },
   "file_extension": ".py",
   "mimetype": "text/x-python",
   "name": "python",
   "nbconvert_exporter": "python",
   "pygments_lexer": "ipython3",
   "version": "3.7.0"
  }
 },
 "nbformat": 4,
 "nbformat_minor": 2
}
