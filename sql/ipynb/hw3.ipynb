{
 "cells": [
  {
   "cell_type": "markdown",
   "metadata": {},
   "source": [
    "# Домашнее задание #3"
   ]
  },
  {
   "cell_type": "markdown",
   "metadata": {},
   "source": [
    "<pre>\n",
    "SELECT 'ФИО: Никифоров Владимир' as FIO;\n",
    "</pre>"
   ]
  },
  {
   "cell_type": "code",
   "execution_count": 1,
   "metadata": {},
   "outputs": [],
   "source": [
    "from IPython.display import Image"
   ]
  },
  {
   "cell_type": "markdown",
   "metadata": {},
   "source": [
    "![FIO](../img/hw2_0.png)"
   ]
  },
  {
   "cell_type": "markdown",
   "metadata": {},
   "source": [
    "### Оконные функции.\n",
    "\n",
    "Вывести список пользователей в формате userId, movieId, normed_rating, avg_rating где\n",
    "\n",
    "- userId, movieId - без изменения\n",
    "- для каждого пользователя преобразовать рейтинг r в нормированный - normed_rating=(r - r_min)/(r_max - r_min), где r_min и r_max соответственно минимально и максимальное значение рейтинга у данного пользователя\n",
    "- avg_rating - среднее значение рейтинга у данного пользователя\n",
    "\n",
    "Вывести первые 30 таких записей"
   ]
  },
  {
   "cell_type": "markdown",
   "metadata": {},
   "source": [
    "<pre>\n",
    "-- оконные функции\n",
    "SELECT userId, movieId,\n",
    "       case when MAX(rating) OVER (PARTITION BY userId) = MIN(rating) OVER (PARTITION BY userId) then 0\n",
    "         else (rating - MIN(rating) OVER (PARTITION BY userId))/(MAX(rating) OVER (PARTITION BY userId) - MIN(rating) OVER (PARTITION BY userId))\n",
    "       end normed_rating,\n",
    "       AVG(rating) OVER (PARTITION BY userId) avg_rating\n",
    "  FROM ratings\n",
    " ORDER BY userId, movieId\n",
    " LIMIT 30;\n",
    "</pre>"
   ]
  },
  {
   "cell_type": "markdown",
   "metadata": {},
   "source": [
    "![WindowFunctions](../img/hw3_1.png)"
   ]
  },
  {
   "cell_type": "markdown",
   "metadata": {},
   "source": [
    "### ETL\n",
    "\n",
    "ETL - процесс выгрузки данных, обработки и их дальнейшеней загрузки. В рамках домашней работы нужно проделать все три этапа\n",
    "\n",
    "#### Extract\n",
    "\n",
    "В директории data присутствует файл с ключевыми словами по фильмам:\n",
    "\n",
    "<pre>\n",
    "ls ./raw_data | grep keywords\n",
    "</pre>"
   ]
  },
  {
   "cell_type": "markdown",
   "metadata": {},
   "source": [
    "![Files_Keywords](../img/hw3_2.png)"
   ]
  },
  {
   "cell_type": "markdown",
   "metadata": {},
   "source": [
    "Наша задача - загрузить это файл в Postgres. \n",
    "\n",
    "1. Напишите команду создания таблички keywords у неё должно быть 2 поля - id(числовой) и tags (текстовое).\n",
    "2. Напишите команду копирования данных из файла в созданную вами таблицу\n",
    "3. Проверьте, что в таблице есть записи\n",
    "<pre>\n",
    "#!/usr/bin/env bash\n",
    "#Filename: hw3_keywords_import.sh\n",
    "\n",
    "echo \"Предварительно удаляем таблицу keywords при ее наличии...\"\n",
    "\n",
    "psql -U postgres -c \"DROP TABLE IF EXISTS keywords\"\n",
    "\n",
    "echo \"1. Создаем таблицу keywords...\"\n",
    "\n",
    "psql -U postgres -c \"CREATE TABLE keywords ( id bigint, tags varchar(32000) );\"\n",
    "\n",
    "echo \"2. Копирование данных из файла в созданную таблицу\"\n",
    "\n",
    "psql -U postgres -c \"\\copy keywords FROM '/usr/local/share/netology/raw_data/keywords.csv' DELIMITER ',' CSV HEADER\"\n",
    "\n",
    "echo \"3. Проверяем, что в таблице есть записи\"\n",
    "\n",
    "psql -U postgres -c \"SELECT COUNT(*) FROM keywords;\"\n",
    "</pre>"
   ]
  },
  {
   "cell_type": "markdown",
   "metadata": {},
   "source": [
    "![Extract script](../img/hw3_3a.png)"
   ]
  },
  {
   "cell_type": "markdown",
   "metadata": {},
   "source": [
    "![Extract](../img/hw3_3.png)"
   ]
  },
  {
   "cell_type": "markdown",
   "metadata": {},
   "source": [
    "#### Transform\n",
    "\n",
    "Мы загрузили данные в табличку, теперь нужно их преобразовать для дальнейшего использования. Мы ходитм узнать, какие теги у фильмов, которые сильно нравятся пользователям.\n",
    "\n",
    "- Сформируйте запрос (назовём его ЗАПРОС1) к таблице ratings, в котором будут 2 поля\n",
    "-- movieId\n",
    "-- avg_rating - средний рейтинг, который ставят этому контенту пользователи\n",
    "В выборку должны попасть те фильмы, которым поставили оценки более чем 50 пользователей\n",
    "Список должен быть отсортирован по убыванию по полю avg_rating и по возрастанию по полю movieId\n",
    "Из этой выборки оставить первое 150 элементов\n",
    "\n",
    "Теперь мы хотим добавить к выборке хороших фильмов с высоким рейтингом информацию о тегах. Воспользуемся Common Table Expressions. Для этого нужно написать ЗАПРОС2, который присоединяет к выборке таблицу keywords\n",
    "\n",
    "<pre>\n",
    "-- transform by CTE\n",
    "WITH top_rated as (SELECT movieId, AVG(rating) avg_rating\n",
    "                     FROM ratings\n",
    "                    GROUP BY movieId\n",
    "                   HAVING COUNT(distinct userid) > 50\n",
    "                    ORDER BY avg_rating DESC, movieId ASC\n",
    "                    LIMIT 150\n",
    "                  )\n",
    "SELECT t.movieId, t.avg_rating, k.tags\n",
    "  FROM top_rated t\n",
    "  JOIN keywords k on t.movieId = k.id\n",
    " ORDER BY avg_rating DESC, movieId ASC;\n",
    "</pre>"
   ]
  },
  {
   "cell_type": "markdown",
   "metadata": {},
   "source": [
    "![Transform](../img/hw3_4.png)"
   ]
  },
  {
   "cell_type": "markdown",
   "metadata": {},
   "source": [
    "#### Load\n",
    "\n",
    "Мы обогатили выборку популярного контента внешними данными о тегах. Теперь мы можем сохранить эту информацию в таблицу для дальнейшего использования\n",
    "\n",
    "Сохраним нашу выборку в новую таблицу top_rated_tags. Для этого мы модифицируем ЗАПРОС2 - вместо простого SELECT сделаем SELECT INTO.\n",
    "\n",
    "Назовём всю эту конструкцию ЗАПРОС3\n",
    "<pre>\n",
    "-- ЗАПРОС3. Load into table TOP_RATED_TAGS\n",
    "WITH top_rated as (SELECT movieId, AVG(rating) avg_rating\n",
    "                     FROM ratings\n",
    "                    GROUP BY movieId\n",
    "                   HAVING COUNT(distinct userid) > 50\n",
    "                    ORDER BY avg_rating DESC, movieId ASC\n",
    "                    LIMIT 150\n",
    "                  )\n",
    "SELECT t.movieId, k.tags top_rated_tags\n",
    "  INTO top_rated_tags\n",
    "  FROM top_rated t\n",
    "  JOIN keywords k on t.movieId = k.id\n",
    " ORDER BY avg_rating DESC, movieId ASC;\n",
    "</pre>"
   ]
  },
  {
   "cell_type": "markdown",
   "metadata": {},
   "source": [
    "![Load](../img/hw3_5.png)"
   ]
  },
  {
   "cell_type": "markdown",
   "metadata": {},
   "source": [
    "![SELECT * FROM top_rated_tags;](../img/hw3_6.png)"
   ]
  },
  {
   "cell_type": "markdown",
   "metadata": {},
   "source": [
    "Теперь можно выгрузить таблицу в текстовый файл - пример см. в лекции.\n",
    "\n",
    "Внимание: Поля в текстовом файле нужно разделить при помощи табуляции ( символ E`\\t`).\n",
    "\n",
    "<pre>\n",
    "#!/usr/bin/env bash\n",
    "#Filename: hw3_keywords_export.sh\n",
    "\n",
    "echo \"Выгружаем таблицу в текстовый файл с разделителями - табуляцией...\"\n",
    "\n",
    "psql -U postgres -c \"\\copy (select * from top_rated_tags) to '/usr/local/share/netology/raw_data/top_rated_tags.tsv' with delimiter as E'\\t'\"\n",
    "</pre>"
   ]
  },
  {
   "cell_type": "markdown",
   "metadata": {},
   "source": [
    "![EXPORT](../img/hw3_7.png)"
   ]
  },
  {
   "cell_type": "markdown",
   "metadata": {},
   "source": [
    "![Head of exported file](../img/hw3_7a.png)"
   ]
  }
 ],
 "metadata": {
  "kernelspec": {
   "display_name": "Python 3",
   "language": "python",
   "name": "python3"
  },
  "language_info": {
   "codemirror_mode": {
    "name": "ipython",
    "version": 3
   },
   "file_extension": ".py",
   "mimetype": "text/x-python",
   "name": "python",
   "nbconvert_exporter": "python",
   "pygments_lexer": "ipython3",
   "version": "3.7.0"
  }
 },
 "nbformat": 4,
 "nbformat_minor": 2
}
