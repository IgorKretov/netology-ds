{
 "cells": [
  {
   "cell_type": "markdown",
   "metadata": {},
   "source": [
    "# Домашнее задание №2"
   ]
  },
  {
   "cell_type": "markdown",
   "metadata": {},
   "source": [
    "<pre>\n",
    "SELECT 'ФИО: Никифоров Владимир' as FIO;\n",
    "</pre>"
   ]
  },
  {
   "cell_type": "code",
   "execution_count": 1,
   "metadata": {},
   "outputs": [],
   "source": [
    "from IPython.display import Image"
   ]
  },
  {
   "cell_type": "markdown",
   "metadata": {},
   "source": [
    "![FIO](img/hw2_0.png)"
   ]
  },
  {
   "cell_type": "markdown",
   "metadata": {},
   "source": [
    "## 1. Простые выборки\n",
    "\n",
    "- 1.1 SELECT , LIMIT - выбрать 10 записей из таблицы rating (Для всех дальнейших запросов выбирать по 10 записей, если не указано иное)\n",
    "- 1.2 WHERE, LIKE - выбрать из таблицы links всё записи, у которых imdbid оканчивается на \"42\", а поле movieid между 100 и 1000"
   ]
  },
  {
   "cell_type": "markdown",
   "metadata": {},
   "source": [
    "<pre>\n",
    "-- запрос 1.1\n",
    "SELECT * FROM ratings LIMIT 10;\n",
    "</pre>"
   ]
  },
  {
   "cell_type": "markdown",
   "metadata": {},
   "source": [
    "![HomeWork2_1.1](img/hw2_1_1.png)"
   ]
  },
  {
   "cell_type": "markdown",
   "metadata": {},
   "source": [
    "<pre>\n",
    "-- запрос 1.2\n",
    "SELECT * FROM links where movieid between 100 and 1000 and imdbid like '%42' LIMIT 10;\n",
    "</pre>"
   ]
  },
  {
   "cell_type": "markdown",
   "metadata": {},
   "source": [
    "![HomeWork2_1.2](img/hw2_1_2.png)"
   ]
  },
  {
   "cell_type": "markdown",
   "metadata": {},
   "source": [
    "## 2. Сложные выборки: JOIN\n",
    "\n",
    "- 2.1 INNER JOIN выбрать из таблицы links все imdbId, которым ставили рейтинг 5"
   ]
  },
  {
   "cell_type": "markdown",
   "metadata": {},
   "source": [
    "<pre>\n",
    "-- запрос 2.1\n",
    "SELECT l.imdbid\n",
    "  FROM public.links as l\n",
    "  JOIN public.ratings as r\n",
    "    ON l.movieid = r.movieid\n",
    " WHERE r.rating = 5\n",
    "LIMIT 10;\n",
    "</pre>"
   ]
  },
  {
   "cell_type": "markdown",
   "metadata": {},
   "source": [
    "![HomeWork2_2.1](img/hw2_2_1.png)"
   ]
  },
  {
   "cell_type": "markdown",
   "metadata": {},
   "source": [
    "## 3. Аггрегация данных: базовые статистики\n",
    "\n",
    "- 3.1 COUNT() Посчитать число фильмов без оценок\n",
    "- 3.2 GROUP BY, HAVING вывести top-10 пользователей, у который средний рейтинг выше 3.5"
   ]
  },
  {
   "cell_type": "markdown",
   "metadata": {},
   "source": [
    "<pre>\n",
    "-- запрос 3.1\n",
    "SELECT count(l.movieid) as cnt\n",
    "  FROM public.links l\n",
    "  LEFT JOIN public.ratings r\n",
    "    ON l.movieid = r.movieid\n",
    " WHERE r.movieid IS NULL;\n",
    "</pre>"
   ]
  },
  {
   "cell_type": "markdown",
   "metadata": {},
   "source": [
    "![HomeWork2_3.1](img/hw2_3_1.png)"
   ]
  },
  {
   "cell_type": "markdown",
   "metadata": {},
   "source": [
    "<pre>\n",
    "-- запрос 3.2\n",
    "SELECT userId,\n",
    "       AVG(rating) as avg_rating\n",
    "  FROM public.ratings\n",
    " GROUP BY userId\n",
    "HAVING AVG(rating) > 3.5\n",
    "ORDER BY avg_rating DESC\n",
    " LIMIT 10;\n",
    "</pre>"
   ]
  },
  {
   "cell_type": "markdown",
   "metadata": {},
   "source": [
    "![HomeWork2_3.2](img/hw2_3_2.png)"
   ]
  },
  {
   "cell_type": "markdown",
   "metadata": {},
   "source": [
    "## 4. Иерархические запросы\n",
    "\n",
    "- 4.1 Подзапросы: достать любые 10 imbdId из links у которых средний рейтинг больше 3.5.\n",
    "- 4.2 Common Table Expressions: посчитать средний рейтинг по пользователям, у которых более 10 оценок.  Нужно подсчитать средний рейтинг по все пользователям, которые попали под условие - то есть в ответе должно быть одно число."
   ]
  },
  {
   "cell_type": "markdown",
   "metadata": {},
   "source": [
    "<pre>\n",
    "-- запрос 4.1\n",
    "SELECT l.imdbid\n",
    "  FROM public.links l\n",
    " WHERE l.movieid in (SELECT r.movieid\n",
    "                       FROM public.ratings r\n",
    "                      GROUP BY r.movieid\n",
    "                     HAVING AVG(r.rating) > 3.5)\n",
    " LIMIT 10;\n",
    "</pre>"
   ]
  },
  {
   "cell_type": "markdown",
   "metadata": {},
   "source": [
    "![HomeWork2_4.1](img/hw2_4_1.png)"
   ]
  },
  {
   "cell_type": "markdown",
   "metadata": {},
   "source": [
    "<pre>\n",
    "-- запрос 4.2\n",
    "WITH tmp_table as (SELECT r.userid, avg(r.rating) avg_rating\n",
    "                     FROM public.ratings r\n",
    "                    GROUP BY r.userid\n",
    "                   HAVING count(r.rating) > 10\n",
    "                  )\n",
    "SELECT AVG(avg_rating) as avg_rating\n",
    "  FROM tmp_table t;\n",
    "</pre>"
   ]
  },
  {
   "cell_type": "markdown",
   "metadata": {},
   "source": [
    "![HomeWork2_4.2](img/hw2_4_2.png)"
   ]
  }
 ],
 "metadata": {
  "kernelspec": {
   "display_name": "Python 3",
   "language": "python",
   "name": "python3"
  },
  "language_info": {
   "codemirror_mode": {
    "name": "ipython",
    "version": 3
   },
   "file_extension": ".py",
   "mimetype": "text/x-python",
   "name": "python",
   "nbconvert_exporter": "python",
   "pygments_lexer": "ipython3",
   "version": "3.7.0"
  }
 },
 "nbformat": 4,
 "nbformat_minor": 2
}
