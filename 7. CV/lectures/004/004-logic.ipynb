{
 "cells": [
  {
   "cell_type": "markdown",
   "metadata": {},
   "source": [
    "## Логическая операция AND"
   ]
  },
  {
   "cell_type": "code",
   "execution_count": 1,
   "metadata": {},
   "outputs": [],
   "source": [
    "import pandas as pd"
   ]
  },
  {
   "cell_type": "code",
   "execution_count": 21,
   "metadata": {},
   "outputs": [
    {
     "name": "stdout",
     "output_type": "stream",
     "text": [
      " Input 1    Input 2    Linear Combination    Activation Output   Is Correct\n",
      "       0          0                    -2                    0          Yes\n",
      "       0          1                    -1                    0          Yes\n",
      "       1          0                    -1                    0          Yes\n",
      "       1          1                     0                    1          Yes\n"
     ]
    }
   ],
   "source": [
    "# TODO: подберите weight1, weight2, and bias\n",
    "# так, чтобы выполнялась операция AND \n",
    "# для входных данных [(0, 0), (0, 1), (1, 0), (1, 1)]\n",
    "weight1 = 1\n",
    "weight2 = 1\n",
    "bias = -2\n",
    "\n",
    "# уравнение гиперплоскости:\n",
    "# y(x) = - x * weight1 / weight2 - bias / weight2\n",
    "\n",
    "# входные данные и разметка\n",
    "test_inputs = [(0, 0), (0, 1), (1, 0), (1, 1)]\n",
    "correct_outputs = [False, False, False, True]\n",
    "outputs = []\n",
    "\n",
    "# вычисляем предсказания\n",
    "for test_input, correct_output in zip(test_inputs, correct_outputs):\n",
    "    linear_combination = weight1 * test_input[0] + weight2 * test_input[1] + bias\n",
    "    # результат линейной комбнации сравниваем с нулем\n",
    "    output = int(linear_combination >= 0)\n",
    "    is_correct_string = 'Yes' if output == correct_output else 'No'\n",
    "    outputs.append([test_input[0],\n",
    "                    test_input[1],\n",
    "                    linear_combination, \n",
    "                    output,\n",
    "                    is_correct_string])\n",
    "\n",
    "# выводим результат\n",
    "output_frame = pd.DataFrame(outputs, columns=['Input 1', \n",
    "                                              '  Input 2', \n",
    "                                              '  Linear Combination', \n",
    "                                              '  Activation Output', \n",
    "                                              '  Is Correct'])\n",
    "print(output_frame.to_string(index = False))"
   ]
  },
  {
   "cell_type": "code",
   "execution_count": 25,
   "metadata": {},
   "outputs": [],
   "source": [
    "%matplotlib inline\n",
    "import numpy as np\n",
    "from matplotlib import pyplot as plt"
   ]
  },
  {
   "cell_type": "code",
   "execution_count": 26,
   "metadata": {},
   "outputs": [
    {
     "data": {
      "text/plain": [
       "[<matplotlib.lines.Line2D at 0x7f09ed096c50>]"
      ]
     },
     "execution_count": 26,
     "metadata": {},
     "output_type": "execute_result"
    },
    {
     "data": {
      "image/png": "[encoded data removed]",
      "text/plain": [
       "<Figure size 432x288 with 1 Axes>"
      ]
     },
     "metadata": {
      "needs_background": "light"
     },
     "output_type": "display_data"
    }
   ],
   "source": [
    "x_1 = np.arange(-2.5, 2.5)\n",
    "x_2 = -x_1 - weight1 / weight2 - bias/weight2\n",
    "in_x_1 = [0,0,1,1]\n",
    "in_x_2 = [0,1,0,1]\n",
    "\n",
    "plt.plot(x_1, x_2, '-')\n",
    "plt.plot(in_x_1, in_x_2, 'o')"
   ]
  },
  {
   "cell_type": "markdown",
   "metadata": {},
   "source": [
    "## Логическая операция NOT"
   ]
  },
  {
   "cell_type": "code",
   "execution_count": 3,
   "metadata": {},
   "outputs": [
    {
     "name": "stdout",
     "output_type": "stream",
     "text": [
      " Input 1    Input 2    Linear Combination    Activation Output   Is Correct\n",
      "       0          0                     0                    1          Yes\n",
      "       0          1                     0                    1           No\n",
      "       1          0                     0                    1          Yes\n",
      "       1          1                     0                    1           No\n"
     ]
    }
   ],
   "source": [
    "# TODO: подберите weight1, weight2, and bias\n",
    "# так, чтобы выполнялась операция NOT \n",
    "# для входных данных [(0, 0), (0, 1), (1, 0), (1, 1)]\n",
    "weight1 = 0\n",
    "weight2 = 0\n",
    "bias = 0\n",
    "\n",
    "# уравнение гиперплоскости:\n",
    "# y(x) = - x * weight1 / weight2 - bias / weight2\n",
    "\n",
    "# входные данные и разметка\n",
    "test_inputs = [(0, 0), (0, 1), (1, 0), (1, 1)]\n",
    "correct_outputs = [True, False, True, False]\n",
    "outputs = []\n",
    "\n",
    "# вычисляем предсказания\n",
    "for test_input, correct_output in zip(test_inputs, correct_outputs):\n",
    "    linear_combination = weight1 * test_input[0] + weight2 * test_input[1] + bias\n",
    "    # результат линейной комбнации сравниваем с нулем\n",
    "    output = int(linear_combination >= 0)\n",
    "    is_correct_string = 'Yes' if output == correct_output else 'No'\n",
    "    outputs.append([test_input[0],\n",
    "                    test_input[1],\n",
    "                    linear_combination, \n",
    "                    output, \n",
    "                    is_correct_string])\n",
    "\n",
    "# выводим результат\n",
    "output_frame = pd.DataFrame(outputs, columns=['Input 1',\n",
    "                                              '  Input 2',\n",
    "                                              '  Linear Combination',\n",
    "                                              '  Activation Output', '  Is Correct'])\n",
    "print(output_frame.to_string(index=False))"
   ]
  }
 ],
 "metadata": {
  "kernelspec": {
   "display_name": "Python 3",
   "language": "python",
   "name": "python3"
  },
  "language_info": {
   "codemirror_mode": {
    "name": "ipython",
    "version": 3
   },
   "file_extension": ".py",
   "mimetype": "text/x-python",
   "name": "python",
   "nbconvert_exporter": "python",
   "pygments_lexer": "ipython3",
   "version": "3.7.2"
  }
 },
 "nbformat": 4,
 "nbformat_minor": 2
}
