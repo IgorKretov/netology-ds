{
 "cells": [
  {
   "cell_type": "markdown",
   "metadata": {},
   "source": [
    "# Начало работы с Tensorflow"
   ]
  },
  {
   "cell_type": "code",
   "execution_count": 1,
   "metadata": {},
   "outputs": [
    {
     "name": "stderr",
     "output_type": "stream",
     "text": [
      "/home/truename/anaconda3/lib/python3.7/site-packages/tensorflow/python/framework/dtypes.py:526: FutureWarning: Passing (type, 1) or '1type' as a synonym of type is deprecated; in a future version of numpy, it will be understood as (type, (1,)) / '(1,)type'.\n",
      "  _np_qint8 = np.dtype([(\"qint8\", np.int8, 1)])\n",
      "/home/truename/anaconda3/lib/python3.7/site-packages/tensorflow/python/framework/dtypes.py:527: FutureWarning: Passing (type, 1) or '1type' as a synonym of type is deprecated; in a future version of numpy, it will be understood as (type, (1,)) / '(1,)type'.\n",
      "  _np_quint8 = np.dtype([(\"quint8\", np.uint8, 1)])\n",
      "/home/truename/anaconda3/lib/python3.7/site-packages/tensorflow/python/framework/dtypes.py:528: FutureWarning: Passing (type, 1) or '1type' as a synonym of type is deprecated; in a future version of numpy, it will be understood as (type, (1,)) / '(1,)type'.\n",
      "  _np_qint16 = np.dtype([(\"qint16\", np.int16, 1)])\n",
      "/home/truename/anaconda3/lib/python3.7/site-packages/tensorflow/python/framework/dtypes.py:529: FutureWarning: Passing (type, 1) or '1type' as a synonym of type is deprecated; in a future version of numpy, it will be understood as (type, (1,)) / '(1,)type'.\n",
      "  _np_quint16 = np.dtype([(\"quint16\", np.uint16, 1)])\n",
      "/home/truename/anaconda3/lib/python3.7/site-packages/tensorflow/python/framework/dtypes.py:530: FutureWarning: Passing (type, 1) or '1type' as a synonym of type is deprecated; in a future version of numpy, it will be understood as (type, (1,)) / '(1,)type'.\n",
      "  _np_qint32 = np.dtype([(\"qint32\", np.int32, 1)])\n",
      "/home/truename/anaconda3/lib/python3.7/site-packages/tensorflow/python/framework/dtypes.py:535: FutureWarning: Passing (type, 1) or '1type' as a synonym of type is deprecated; in a future version of numpy, it will be understood as (type, (1,)) / '(1,)type'.\n",
      "  np_resource = np.dtype([(\"resource\", np.ubyte, 1)])\n"
     ]
    }
   ],
   "source": [
    "%matplotlib inline\n",
    "import numpy as np\n",
    "import tensorflow as tf\n",
    "from matplotlib import pyplot as plt"
   ]
  },
  {
   "cell_type": "markdown",
   "metadata": {},
   "source": [
    "https://www.tensorflow.org/programmers_guide"
   ]
  },
  {
   "cell_type": "markdown",
   "metadata": {},
   "source": [
    "<img src=\"tensors_flowing.gif\"/>"
   ]
  },
  {
   "cell_type": "markdown",
   "metadata": {},
   "source": [
    "# Подбираем коэффициенты полинома: y = w1 * x^2 + w2 * x + w3"
   ]
  },
  {
   "cell_type": "markdown",
   "metadata": {},
   "source": [
    "## Задаем граф вычислений"
   ]
  },
  {
   "cell_type": "code",
   "execution_count": 2,
   "metadata": {},
   "outputs": [
    {
     "name": "stdout",
     "output_type": "stream",
     "text": [
      "WARNING:tensorflow:From /home/truename/anaconda3/lib/python3.7/site-packages/tensorflow/python/framework/op_def_library.py:263: colocate_with (from tensorflow.python.framework.ops) is deprecated and will be removed in a future version.\n",
      "Instructions for updating:\n",
      "Colocations handled automatically by placer.\n"
     ]
    }
   ],
   "source": [
    "# узлы в графе - тензоры, операции в графе задают связь между тензорами\n",
    "# https://www.tensorflow.org/guide/graphs\n",
    "graph = tf.Graph()\n",
    "\n",
    "with graph.as_default():\n",
    "    # с помощью tf.placeholder мы  \n",
    "    # передаем данные из python в граф Tensorflow\n",
    "    # первая позиция размерности задает число примеров в батче\n",
    "    x = tf.placeholder(tf.float32, shape=[None], name='x')  # входное значение\n",
    "    y = tf.placeholder(tf.float32, shape=[None], name='y')  # ожидаемый ответ\n",
    "    \n",
    "    # переменные позволяют сохранять значения в графе между вызовами\n",
    "    # https://tensorflow.org/guide/variables\n",
    "    with tf.variable_scope('coefficients') as scope:\n",
    "        # создаем переменную для коэффициентов полинома\n",
    "        w = tf.get_variable('w', initializer = tf.random_normal([3, 1], stddev=0.1))\n",
    "    \n",
    "    # вычисляем ответ для заданного x\n",
    "    with tf.name_scope('prediction') as scope:\n",
    "        poly = tf.stack([x**2, x, tf.ones_like(x)], axis=1, name='poly')\n",
    "        y_pred = tf.matmul(poly, w)  # y_pred = w1 * x^2 + w2 * x + w3"
   ]
  },
  {
   "cell_type": "markdown",
   "metadata": {},
   "source": [
    "## Функция потерь и оптимизатор"
   ]
  },
  {
   "cell_type": "code",
   "execution_count": 3,
   "metadata": {},
   "outputs": [
    {
     "name": "stdout",
     "output_type": "stream",
     "text": [
      "WARNING:tensorflow:From /home/truename/anaconda3/lib/python3.7/site-packages/tensorflow/python/ops/losses/losses_impl.py:667: to_float (from tensorflow.python.ops.math_ops) is deprecated and will be removed in a future version.\n",
      "Instructions for updating:\n",
      "Use tf.cast instead.\n"
     ]
    }
   ],
   "source": [
    "# для подбора коэффициентов полинома используем оптимизатор\n",
    "optimizer = tf.train.GradientDescentOptimizer(learning_rate=3e-4)\n",
    "\n",
    "with graph.as_default():\n",
    "    # минимизируем среднеквадратичное отклонение (MSE)\n",
    "    with tf.name_scope('loss') as scope:\n",
    "        mse_loss = tf.losses.mean_squared_error(y, y_pred[:, 0])\n",
    "        \n",
    "    # оптимизатор создает операцию обновления переменных графа\n",
    "    train_step = optimizer.minimize(mse_loss)"
   ]
  },
  {
   "cell_type": "markdown",
   "metadata": {},
   "source": [
    "## Обучение"
   ]
  },
  {
   "cell_type": "code",
   "execution_count": 4,
   "metadata": {},
   "outputs": [],
   "source": [
    "# задаем коэффициенты\n",
    "# полинома для генерации данных\n",
    "POLY_COEFFS = [5, 7, 10]  \n",
    "\n",
    "# генератор данных\n",
    "def generate_data(batch_size=100):\n",
    "    # y = w1 * x^2 + w2 * x + w3 + noise\n",
    "    x = np.random.uniform(-10.0, 10.0, size=batch_size)\n",
    "    poly = np.stack([x**2, x, np.ones_like(x)], axis=1)\n",
    "    y = np.matmul(poly, POLY_COEFFS) + np.random.normal(size=batch_size)\n",
    "    return x, y"
   ]
  },
  {
   "cell_type": "code",
   "execution_count": 5,
   "metadata": {
    "scrolled": false
   },
   "outputs": [
    {
     "name": "stdout",
     "output_type": "stream",
     "text": [
      "MSE[0100]: 76.849\n",
      "MSE[0200]: 40.348\n",
      "MSE[0300]: 39.855\n",
      "MSE[0400]: 31.397\n",
      "MSE[0500]: 32.696\n",
      "MSE[0600]: 29.628\n",
      "MSE[0700]: 28.365\n",
      "MSE[0800]: 26.892\n",
      "MSE[0900]: 31.921\n",
      "MSE[1000]: 24.616\n",
      "MSE[1100]: 24.581\n",
      "MSE[1200]: 21.869\n",
      "MSE[1300]: 23.946\n",
      "MSE[1400]: 20.957\n",
      "MSE[1500]: 20.232\n",
      "MSE[1600]: 18.588\n",
      "MSE[1700]: 19.459\n",
      "MSE[1800]: 18.022\n",
      "MSE[1900]: 17.108\n",
      "MSE[2000]: 16.758\n",
      "MSE[2100]: 17.490\n",
      "MSE[2200]: 15.083\n",
      "MSE[2300]: 13.588\n",
      "MSE[2400]: 13.851\n",
      "MSE[2500]: 13.524\n",
      "MSE[2600]: 11.559\n",
      "MSE[2700]: 12.708\n",
      "MSE[2800]: 10.046\n",
      "MSE[2900]: 10.810\n",
      "MSE[3000]: 10.236\n",
      "MSE[3100]: 9.560\n",
      "MSE[3200]: 7.508\n",
      "MSE[3300]: 6.738\n",
      "MSE[3400]: 9.189\n",
      "MSE[3500]: 9.649\n",
      "MSE[3600]: 7.375\n",
      "MSE[3700]: 6.401\n",
      "MSE[3800]: 6.304\n",
      "MSE[3900]: 6.731\n",
      "MSE[4000]: 6.252\n",
      "MSE[4100]: 4.707\n",
      "MSE[4200]: 5.387\n",
      "MSE[4300]: 5.315\n",
      "MSE[4400]: 5.418\n",
      "MSE[4500]: 5.386\n",
      "MSE[4600]: 3.921\n",
      "MSE[4700]: 4.406\n",
      "MSE[4800]: 4.478\n",
      "MSE[4900]: 4.213\n",
      "MSE[5000]: 3.974\n",
      "MSE[5100]: 4.014\n",
      "MSE[5200]: 4.302\n",
      "MSE[5300]: 3.740\n",
      "MSE[5400]: 3.273\n",
      "MSE[5500]: 3.884\n",
      "MSE[5600]: 3.356\n",
      "MSE[5700]: 3.114\n",
      "MSE[5800]: 2.622\n",
      "MSE[5900]: 3.234\n",
      "MSE[6000]: 2.894\n",
      "MSE[6100]: 2.681\n",
      "MSE[6200]: 2.824\n",
      "MSE[6300]: 2.358\n",
      "MSE[6400]: 2.704\n",
      "MSE[6500]: 2.166\n",
      "MSE[6600]: 2.318\n",
      "MSE[6700]: 2.173\n",
      "MSE[6800]: 2.191\n",
      "MSE[6900]: 2.749\n",
      "MSE[7000]: 2.189\n",
      "MSE[7100]: 2.186\n",
      "MSE[7200]: 2.010\n",
      "MSE[7300]: 1.824\n",
      "MSE[7400]: 1.947\n",
      "MSE[7500]: 1.734\n",
      "MSE[7600]: 1.853\n",
      "MSE[7700]: 1.629\n",
      "MSE[7800]: 1.948\n",
      "MSE[7900]: 2.037\n",
      "MSE[8000]: 1.484\n",
      "MSE[8100]: 1.822\n",
      "MSE[8200]: 1.332\n",
      "MSE[8300]: 1.198\n",
      "MSE[8400]: 1.488\n",
      "MSE[8500]: 1.449\n",
      "MSE[8600]: 1.353\n",
      "MSE[8700]: 1.532\n",
      "MSE[8800]: 1.423\n",
      "MSE[8900]: 2.029\n",
      "MSE[9000]: 1.150\n",
      "MSE[9100]: 1.467\n",
      "MSE[9200]: 1.448\n",
      "MSE[9300]: 1.646\n",
      "MSE[9400]: 1.184\n",
      "MSE[9500]: 1.431\n",
      "MSE[9600]: 1.522\n",
      "MSE[9700]: 0.959\n",
      "MSE[9800]: 1.349\n",
      "MSE[9900]: 1.152\n",
      "MSE[10000]: 1.149\n",
      "Real coeffs: [5, 7, 10]\n",
      "Estimated coeffs: [5.015348 7.004126 9.308331]\n"
     ]
    }
   ],
   "source": [
    "loss_history = []\n",
    "\n",
    "# граф выполняется в рамках сессии\n",
    "# по завершении сесси текущие значения\n",
    "# переменных перестают быть доступными\n",
    "with tf.Session(graph=graph) as sess:\n",
    "    # инициализируем переменные (параметры модели)\n",
    "    sess.run(tf.global_variables_initializer())\n",
    "    \n",
    "    for i in range(10000):  # запускаем обучение\n",
    "        # генерируем случайный набор данных\n",
    "        # и выполняем операции на заданном семпле\n",
    "        batch_x, batch_y = generate_data(batch_size=100)\n",
    "        _, mse = sess.run([train_step, mse_loss],\n",
    "                          feed_dict = {x: batch_x,\n",
    "                                       y: batch_y})\n",
    "        \n",
    "        loss_history.append(mse)\n",
    "        if (i + 1) % 100 == 0:\n",
    "            print('MSE[%04d]: %.3f' % (i + 1, mse))\n",
    "\n",
    "    # сравниваем подобранные веса с истинными значениями\n",
    "    print('Real coeffs: %s' % POLY_COEFFS)\n",
    "    print('Estimated coeffs: %s' % w.eval()[:, 0])      "
   ]
  },
  {
   "cell_type": "markdown",
   "metadata": {},
   "source": [
    "## Визуализируем кривую обучения"
   ]
  },
  {
   "cell_type": "code",
   "execution_count": 6,
   "metadata": {},
   "outputs": [
    {
     "data": {
      "image/png": "[encoded data removed]",
      "text/plain": [
       "<Figure size 432x288 with 1 Axes>"
      ]
     },
     "metadata": {
      "needs_background": "light"
     },
     "output_type": "display_data"
    }
   ],
   "source": [
    "plt.plot(loss_history[50:])\n",
    "plt.title('Lerning Сurve')\n",
    "plt.xlabel('iteration')\n",
    "plt.ylabel('mse');"
   ]
  },
  {
   "cell_type": "markdown",
   "metadata": {},
   "source": [
    "## Визуализация графа вычислений"
   ]
  },
  {
   "cell_type": "code",
   "execution_count": 7,
   "metadata": {},
   "outputs": [],
   "source": [
    "## удаляем логи предыдущих запусков\n",
    "# !rm -rf ./log/001/*"
   ]
  },
  {
   "cell_type": "code",
   "execution_count": 8,
   "metadata": {},
   "outputs": [],
   "source": [
    "with tf.Session(graph=graph) as sess:\n",
    "    # сохраняем граф вычислений на диск\n",
    "    writer = tf.summary.FileWriter('log/001', sess.graph)\n",
    "    writer.close()"
   ]
  },
  {
   "cell_type": "code",
   "execution_count": 9,
   "metadata": {},
   "outputs": [
    {
     "name": "stdout",
     "output_type": "stream",
     "text": [
      "/home/truename/anaconda3/lib/python3.7/site-packages/tensorflow/python/framework/dtypes.py:526: FutureWarning: Passing (type, 1) or '1type' as a synonym of type is deprecated; in a future version of numpy, it will be understood as (type, (1,)) / '(1,)type'.\n",
      "  _np_qint8 = np.dtype([(\"qint8\", np.int8, 1)])\n",
      "/home/truename/anaconda3/lib/python3.7/site-packages/tensorflow/python/framework/dtypes.py:527: FutureWarning: Passing (type, 1) or '1type' as a synonym of type is deprecated; in a future version of numpy, it will be understood as (type, (1,)) / '(1,)type'.\n",
      "  _np_quint8 = np.dtype([(\"quint8\", np.uint8, 1)])\n",
      "/home/truename/anaconda3/lib/python3.7/site-packages/tensorflow/python/framework/dtypes.py:528: FutureWarning: Passing (type, 1) or '1type' as a synonym of type is deprecated; in a future version of numpy, it will be understood as (type, (1,)) / '(1,)type'.\n",
      "  _np_qint16 = np.dtype([(\"qint16\", np.int16, 1)])\n",
      "/home/truename/anaconda3/lib/python3.7/site-packages/tensorflow/python/framework/dtypes.py:529: FutureWarning: Passing (type, 1) or '1type' as a synonym of type is deprecated; in a future version of numpy, it will be understood as (type, (1,)) / '(1,)type'.\n",
      "  _np_quint16 = np.dtype([(\"quint16\", np.uint16, 1)])\n",
      "/home/truename/anaconda3/lib/python3.7/site-packages/tensorflow/python/framework/dtypes.py:530: FutureWarning: Passing (type, 1) or '1type' as a synonym of type is deprecated; in a future version of numpy, it will be understood as (type, (1,)) / '(1,)type'.\n",
      "  _np_qint32 = np.dtype([(\"qint32\", np.int32, 1)])\n",
      "/home/truename/anaconda3/lib/python3.7/site-packages/tensorflow/python/framework/dtypes.py:535: FutureWarning: Passing (type, 1) or '1type' as a synonym of type is deprecated; in a future version of numpy, it will be understood as (type, (1,)) / '(1,)type'.\n",
      "  np_resource = np.dtype([(\"resource\", np.ubyte, 1)])\n",
      "/home/truename/anaconda3/lib/python3.7/site-packages/tensorboard/compat/tensorflow_stub/dtypes.py:541: FutureWarning: Passing (type, 1) or '1type' as a synonym of type is deprecated; in a future version of numpy, it will be understood as (type, (1,)) / '(1,)type'.\n",
      "  _np_qint8 = np.dtype([(\"qint8\", np.int8, 1)])\n",
      "/home/truename/anaconda3/lib/python3.7/site-packages/tensorboard/compat/tensorflow_stub/dtypes.py:542: FutureWarning: Passing (type, 1) or '1type' as a synonym of type is deprecated; in a future version of numpy, it will be understood as (type, (1,)) / '(1,)type'.\n",
      "  _np_quint8 = np.dtype([(\"quint8\", np.uint8, 1)])\n",
      "/home/truename/anaconda3/lib/python3.7/site-packages/tensorboard/compat/tensorflow_stub/dtypes.py:543: FutureWarning: Passing (type, 1) or '1type' as a synonym of type is deprecated; in a future version of numpy, it will be understood as (type, (1,)) / '(1,)type'.\n",
      "  _np_qint16 = np.dtype([(\"qint16\", np.int16, 1)])\n",
      "/home/truename/anaconda3/lib/python3.7/site-packages/tensorboard/compat/tensorflow_stub/dtypes.py:544: FutureWarning: Passing (type, 1) or '1type' as a synonym of type is deprecated; in a future version of numpy, it will be understood as (type, (1,)) / '(1,)type'.\n",
      "  _np_quint16 = np.dtype([(\"quint16\", np.uint16, 1)])\n",
      "/home/truename/anaconda3/lib/python3.7/site-packages/tensorboard/compat/tensorflow_stub/dtypes.py:545: FutureWarning: Passing (type, 1) or '1type' as a synonym of type is deprecated; in a future version of numpy, it will be understood as (type, (1,)) / '(1,)type'.\n",
      "  _np_qint32 = np.dtype([(\"qint32\", np.int32, 1)])\n",
      "/home/truename/anaconda3/lib/python3.7/site-packages/tensorboard/compat/tensorflow_stub/dtypes.py:550: FutureWarning: Passing (type, 1) or '1type' as a synonym of type is deprecated; in a future version of numpy, it will be understood as (type, (1,)) / '(1,)type'.\n",
      "  np_resource = np.dtype([(\"resource\", np.ubyte, 1)])\n",
      "TensorBoard 1.13.1 at http://0.0.0.0:8800 (Press CTRL+C to quit)\n",
      "^C\n"
     ]
    }
   ],
   "source": [
    "# запускаем интерфейс визуализации\n",
    "!tensorboard --port 8800 --host 0.0.0.0 --logdir ./log/001"
   ]
  }
 ],
 "metadata": {
  "kernelspec": {
   "display_name": "Python 3",
   "language": "python",
   "name": "python3"
  },
  "language_info": {
   "codemirror_mode": {
    "name": "ipython",
    "version": 3
   },
   "file_extension": ".py",
   "mimetype": "text/x-python",
   "name": "python",
   "nbconvert_exporter": "python",
   "pygments_lexer": "ipython3",
   "version": "3.7.2"
  }
 },
 "nbformat": 4,
 "nbformat_minor": 2
}
