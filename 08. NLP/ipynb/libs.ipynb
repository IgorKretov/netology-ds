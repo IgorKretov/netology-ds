{
 "cells": [
  {
   "cell_type": "code",
   "execution_count": 2,
   "metadata": {},
   "outputs": [
    {
     "name": "stdout",
     "output_type": "stream",
     "text": [
      "Collecting rnnmorph\n",
      "\u001b[?25l  Downloading https://files.pythonhosted.org/packages/f6/b4/c776a30c7ee91715b8c66cc21d87e0ab7952794aa343fefc243cc805f421/rnnmorph-0.4.0.tar.gz (10.5MB)\n",
      "\u001b[K    100% |████████████████████████████████| 10.5MB 536kB/s \n",
      "\u001b[?25hRequirement already satisfied: numpy>=1.11.3 in /home/truename/anaconda3/lib/python3.7/site-packages (from rnnmorph) (1.17.2)\n",
      "Requirement already satisfied: scipy>=0.18.1 in /home/truename/anaconda3/lib/python3.7/site-packages (from rnnmorph) (1.1.0)\n",
      "Requirement already satisfied: scikit-learn>=0.18.1 in /home/truename/anaconda3/lib/python3.7/site-packages (from rnnmorph) (0.21.2)\n",
      "Requirement already satisfied: tensorflow>=1.1.0 in /home/truename/anaconda3/lib/python3.7/site-packages (from rnnmorph) (1.13.1)\n",
      "Requirement already satisfied: keras>=2.0.6 in /home/truename/anaconda3/lib/python3.7/site-packages (from rnnmorph) (2.2.4)\n",
      "Requirement already satisfied: pymorphy2>=0.8 in /home/truename/anaconda3/lib/python3.7/site-packages (from rnnmorph) (0.8)\n",
      "Collecting russian-tagsets==0.6 (from rnnmorph)\n",
      "  Downloading https://files.pythonhosted.org/packages/2d/b1/c9377d472a04fb9b84f59365560d68b5d868b589691f32545eb606b3be48/russian-tagsets-0.6.tar.gz\n",
      "Requirement already satisfied: tqdm>=4.14.0 in /home/truename/anaconda3/lib/python3.7/site-packages (from rnnmorph) (4.35.0)\n",
      "Collecting jsonpickle>=0.9.4 (from rnnmorph)\n",
      "  Downloading https://files.pythonhosted.org/packages/07/07/c157520a3ebd166c8c24c6ae0ecae7c3968eb4653ff0e5af369bb82f004d/jsonpickle-1.2-py2.py3-none-any.whl\n",
      "Requirement already satisfied: nltk>=3.2.5 in /home/truename/anaconda3/lib/python3.7/site-packages (from rnnmorph) (3.3)\n",
      "Requirement already satisfied: joblib>=0.11 in /home/truename/anaconda3/lib/python3.7/site-packages (from scikit-learn>=0.18.1->rnnmorph) (0.13.2)\n",
      "Requirement already satisfied: tensorboard<1.14.0,>=1.13.0 in /home/truename/anaconda3/lib/python3.7/site-packages (from tensorflow>=1.1.0->rnnmorph) (1.13.1)\n",
      "Requirement already satisfied: wheel>=0.26 in /home/truename/anaconda3/lib/python3.7/site-packages (from tensorflow>=1.1.0->rnnmorph) (0.31.1)\n",
      "Requirement already satisfied: termcolor>=1.1.0 in /home/truename/anaconda3/lib/python3.7/site-packages (from tensorflow>=1.1.0->rnnmorph) (1.1.0)\n",
      "Requirement already satisfied: grpcio>=1.8.6 in /home/truename/anaconda3/lib/python3.7/site-packages (from tensorflow>=1.1.0->rnnmorph) (1.19.0)\n",
      "Requirement already satisfied: six>=1.10.0 in /home/truename/anaconda3/lib/python3.7/site-packages (from tensorflow>=1.1.0->rnnmorph) (1.11.0)\n",
      "Requirement already satisfied: keras-applications>=1.0.6 in /home/truename/anaconda3/lib/python3.7/site-packages (from tensorflow>=1.1.0->rnnmorph) (1.0.7)\n",
      "Requirement already satisfied: gast>=0.2.0 in /home/truename/anaconda3/lib/python3.7/site-packages (from tensorflow>=1.1.0->rnnmorph) (0.2.2)\n",
      "Requirement already satisfied: absl-py>=0.1.6 in /home/truename/anaconda3/lib/python3.7/site-packages (from tensorflow>=1.1.0->rnnmorph) (0.7.0)\n",
      "Requirement already satisfied: keras-preprocessing>=1.0.5 in /home/truename/anaconda3/lib/python3.7/site-packages (from tensorflow>=1.1.0->rnnmorph) (1.0.9)\n",
      "Requirement already satisfied: protobuf>=3.6.1 in /home/truename/anaconda3/lib/python3.7/site-packages (from tensorflow>=1.1.0->rnnmorph) (3.7.0)\n",
      "Requirement already satisfied: astor>=0.6.0 in /home/truename/anaconda3/lib/python3.7/site-packages (from tensorflow>=1.1.0->rnnmorph) (0.7.1)\n",
      "Requirement already satisfied: tensorflow-estimator<1.14.0rc0,>=1.13.0 in /home/truename/anaconda3/lib/python3.7/site-packages (from tensorflow>=1.1.0->rnnmorph) (1.13.0)\n",
      "Requirement already satisfied: h5py in /home/truename/anaconda3/lib/python3.7/site-packages (from keras>=2.0.6->rnnmorph) (2.10.0)\n",
      "Requirement already satisfied: pyyaml in /home/truename/anaconda3/lib/python3.7/site-packages (from keras>=2.0.6->rnnmorph) (3.13)\n",
      "Requirement already satisfied: dawg-python>=0.7 in /home/truename/anaconda3/lib/python3.7/site-packages (from pymorphy2>=0.8->rnnmorph) (0.7.2)\n",
      "Requirement already satisfied: docopt>=0.6 in /home/truename/anaconda3/lib/python3.7/site-packages (from pymorphy2>=0.8->rnnmorph) (0.6.2)\n",
      "Requirement already satisfied: pymorphy2-dicts<3.0,>=2.4 in /home/truename/anaconda3/lib/python3.7/site-packages (from pymorphy2>=0.8->rnnmorph) (2.4.393442.3710985)\n",
      "Requirement already satisfied: markdown>=2.6.8 in /home/truename/anaconda3/lib/python3.7/site-packages (from tensorboard<1.14.0,>=1.13.0->tensorflow>=1.1.0->rnnmorph) (3.0.1)\n",
      "Requirement already satisfied: werkzeug>=0.11.15 in /home/truename/anaconda3/lib/python3.7/site-packages (from tensorboard<1.14.0,>=1.13.0->tensorflow>=1.1.0->rnnmorph) (0.14.1)\n",
      "Requirement already satisfied: setuptools in /home/truename/anaconda3/lib/python3.7/site-packages (from protobuf>=3.6.1->tensorflow>=1.1.0->rnnmorph) (40.2.0)\n",
      "Requirement already satisfied: mock>=2.0.0 in /home/truename/anaconda3/lib/python3.7/site-packages (from tensorflow-estimator<1.14.0rc0,>=1.13.0->tensorflow>=1.1.0->rnnmorph) (2.0.0)\n",
      "Requirement already satisfied: pbr>=0.11 in /home/truename/anaconda3/lib/python3.7/site-packages (from mock>=2.0.0->tensorflow-estimator<1.14.0rc0,>=1.13.0->tensorflow>=1.1.0->rnnmorph) (5.1.3)\n",
      "Building wheels for collected packages: rnnmorph, russian-tagsets\n",
      "  Building wheel for rnnmorph (setup.py) ... \u001b[?25ldone\n",
      "\u001b[?25h  Stored in directory: /home/truename/.cache/pip/wheels/61/74/5d/3c6c523a759b67e6a81677e2aad003321536587d1575a4face\n",
      "  Building wheel for russian-tagsets (setup.py) ... \u001b[?25ldone\n",
      "\u001b[?25h  Stored in directory: /home/truename/.cache/pip/wheels/e8/9d/dd/4679aca4031fdb0d3ad65e165ba5343e61441ed7ad587a08e6\n",
      "Successfully built rnnmorph russian-tagsets\n",
      "Installing collected packages: russian-tagsets, jsonpickle, rnnmorph\n",
      "Successfully installed jsonpickle-1.2 rnnmorph-0.4.0 russian-tagsets-0.6\n",
      "\u001b[33mYou are using pip version 19.0.2, however version 19.3.1 is available.\n",
      "You should consider upgrading via the 'pip install --upgrade pip' command.\u001b[0m\n"
     ]
    }
   ],
   "source": [
    "!pip install rnnmorph"
   ]
  },
  {
   "cell_type": "code",
   "execution_count": 3,
   "metadata": {},
   "outputs": [
    {
     "name": "stdout",
     "output_type": "stream",
     "text": [
      "[nltk_data] Downloading package punkt to /home/truename/nltk_data...\n",
      "[nltk_data]   Package punkt is already up-to-date!\n",
      "[nltk_data] Downloading package stopwords to\n",
      "[nltk_data]     /home/truename/nltk_data...\n",
      "[nltk_data]   Package stopwords is already up-to-date!\n"
     ]
    },
    {
     "name": "stderr",
     "output_type": "stream",
     "text": [
      "Using TensorFlow backend.\n",
      "/home/truename/anaconda3/lib/python3.7/site-packages/tensorflow/python/framework/dtypes.py:526: FutureWarning: Passing (type, 1) or '1type' as a synonym of type is deprecated; in a future version of numpy, it will be understood as (type, (1,)) / '(1,)type'.\n",
      "  _np_qint8 = np.dtype([(\"qint8\", np.int8, 1)])\n",
      "/home/truename/anaconda3/lib/python3.7/site-packages/tensorflow/python/framework/dtypes.py:527: FutureWarning: Passing (type, 1) or '1type' as a synonym of type is deprecated; in a future version of numpy, it will be understood as (type, (1,)) / '(1,)type'.\n",
      "  _np_quint8 = np.dtype([(\"quint8\", np.uint8, 1)])\n",
      "/home/truename/anaconda3/lib/python3.7/site-packages/tensorflow/python/framework/dtypes.py:528: FutureWarning: Passing (type, 1) or '1type' as a synonym of type is deprecated; in a future version of numpy, it will be understood as (type, (1,)) / '(1,)type'.\n",
      "  _np_qint16 = np.dtype([(\"qint16\", np.int16, 1)])\n",
      "/home/truename/anaconda3/lib/python3.7/site-packages/tensorflow/python/framework/dtypes.py:529: FutureWarning: Passing (type, 1) or '1type' as a synonym of type is deprecated; in a future version of numpy, it will be understood as (type, (1,)) / '(1,)type'.\n",
      "  _np_quint16 = np.dtype([(\"quint16\", np.uint16, 1)])\n",
      "/home/truename/anaconda3/lib/python3.7/site-packages/tensorflow/python/framework/dtypes.py:530: FutureWarning: Passing (type, 1) or '1type' as a synonym of type is deprecated; in a future version of numpy, it will be understood as (type, (1,)) / '(1,)type'.\n",
      "  _np_qint32 = np.dtype([(\"qint32\", np.int32, 1)])\n",
      "/home/truename/anaconda3/lib/python3.7/site-packages/tensorflow/python/framework/dtypes.py:535: FutureWarning: Passing (type, 1) or '1type' as a synonym of type is deprecated; in a future version of numpy, it will be understood as (type, (1,)) / '(1,)type'.\n",
      "  np_resource = np.dtype([(\"resource\", np.ubyte, 1)])\n"
     ]
    }
   ],
   "source": [
    "import pandas as pd\n",
    "import matplotlib.pyplot as plt\n",
    "import numpy as np \n",
    "import nltk\n",
    "nltk.download('punkt')\n",
    "nltk.download('stopwords')\n",
    "from pymorphy2 import MorphAnalyzer\n",
    "from pymystem3 import Mystem\n",
    "from rnnmorph.predictor import RNNMorphPredictor\n",
    "from rusenttokenize import ru_sent_tokenize"
   ]
  },
  {
   "cell_type": "code",
   "execution_count": 6,
   "metadata": {},
   "outputs": [
    {
     "name": "stdout",
     "output_type": "stream",
     "text": [
      "Collecting pullenti-wrapper\n",
      "  Downloading https://files.pythonhosted.org/packages/1d/5a/806b2c5d03c8c06b0af09d80b4e41eb45c3d491f60b5bc7dd5cb486640d5/pullenti_wrapper-0.6.0-py3-none-any.whl\n",
      "Collecting pullenti-client==0.3.0 (from pullenti-wrapper)\n",
      "  Downloading https://files.pythonhosted.org/packages/00/c3/fdb8c1c3b95653ed7376e0328375f2d3fa4f619dc4054ceacab3c3578471/pullenti_client-0.3.0-py2.py3-none-any.whl\n",
      "Collecting pullenti==3.20 (from pullenti-wrapper)\n",
      "\u001b[?25l  Downloading https://files.pythonhosted.org/packages/c2/0d/81c126d31eddf1b0828740e1bc67a3ba5b7485a875fa43f2e3fb3ac54009/pullenti-3.20-py3-none-any.whl (15.0MB)\n",
      "\u001b[K    100% |████████████████████████████████| 15.0MB 544kB/s \n",
      "\u001b[?25hRequirement already satisfied: requests in /home/truename/anaconda3/lib/python3.7/site-packages (from pullenti-client==0.3.0->pullenti-wrapper) (2.19.1)\n",
      "Requirement already satisfied: idna<2.8,>=2.5 in /home/truename/anaconda3/lib/python3.7/site-packages (from requests->pullenti-client==0.3.0->pullenti-wrapper) (2.7)\n",
      "Requirement already satisfied: urllib3<1.24,>=1.21.1 in /home/truename/anaconda3/lib/python3.7/site-packages (from requests->pullenti-client==0.3.0->pullenti-wrapper) (1.23)\n",
      "Requirement already satisfied: certifi>=2017.4.17 in /home/truename/anaconda3/lib/python3.7/site-packages (from requests->pullenti-client==0.3.0->pullenti-wrapper) (2018.11.29)\n",
      "Requirement already satisfied: chardet<3.1.0,>=3.0.2 in /home/truename/anaconda3/lib/python3.7/site-packages (from requests->pullenti-client==0.3.0->pullenti-wrapper) (3.0.4)\n",
      "Installing collected packages: pullenti-client, pullenti, pullenti-wrapper\n",
      "Successfully installed pullenti-3.20 pullenti-client-0.3.0 pullenti-wrapper-0.6.0\n",
      "\u001b[33mYou are using pip version 19.0.2, however version 19.3.1 is available.\n",
      "You should consider upgrading via the 'pip install --upgrade pip' command.\u001b[0m\n"
     ]
    }
   ],
   "source": [
    "!pip install pullenti-wrapper"
   ]
  },
  {
   "cell_type": "code",
   "execution_count": 28,
   "metadata": {},
   "outputs": [
    {
     "name": "stdout",
     "output_type": "stream",
     "text": [
      "Requirement already up-to-date: pip in /home/truename/anaconda3/lib/python3.7/site-packages (19.3.1)\n",
      "\u001b[31mERROR: Could not find a version that satisfies the requirement keras_contrib (from versions: none)\u001b[0m\n",
      "\u001b[31mERROR: No matching distribution found for keras_contrib\u001b[0m\n"
     ]
    }
   ],
   "source": [
    "!pip install --upgrade pip\n",
    "!pip install keras_contrib"
   ]
  },
  {
   "cell_type": "code",
   "execution_count": 29,
   "metadata": {},
   "outputs": [],
   "source": [
    "from natasha import *\n",
    "from wordcloud import *\n",
    "import gensim\n",
    "import seaborn as sns"
   ]
  },
  {
   "cell_type": "code",
   "execution_count": 30,
   "metadata": {},
   "outputs": [],
   "source": [
    "import torch\n",
    "import torchtext\n",
    "import keras"
   ]
  },
  {
   "cell_type": "code",
   "execution_count": 31,
   "metadata": {},
   "outputs": [
    {
     "ename": "ModuleNotFoundError",
     "evalue": "No module named 'keras_contrib'",
     "output_type": "error",
     "traceback": [
      "\u001b[0;31m---------------------------------------------------------------------------\u001b[0m",
      "\u001b[0;31mModuleNotFoundError\u001b[0m                       Traceback (most recent call last)",
      "\u001b[0;32m<ipython-input-31-a396e034fdf5>\u001b[0m in \u001b[0;36m<module>\u001b[0;34m()\u001b[0m\n\u001b[0;32m----> 1\u001b[0;31m \u001b[0;32mfrom\u001b[0m \u001b[0mkeras_contrib\u001b[0m\u001b[0;34m.\u001b[0m\u001b[0mlayers\u001b[0m \u001b[0;32mimport\u001b[0m \u001b[0mCRF\u001b[0m\u001b[0;34m\u001b[0m\u001b[0;34m\u001b[0m\u001b[0m\n\u001b[0m\u001b[1;32m      2\u001b[0m \u001b[0;32mfrom\u001b[0m \u001b[0msklearn_crfsuite\u001b[0m \u001b[0;32mimport\u001b[0m \u001b[0mCRF\u001b[0m\u001b[0;34m\u001b[0m\u001b[0;34m\u001b[0m\u001b[0m\n",
      "\u001b[0;31mModuleNotFoundError\u001b[0m: No module named 'keras_contrib'"
     ]
    }
   ],
   "source": [
    "from keras_contrib.layers import CRF\n",
    "from sklearn_crfsuite import CRF"
   ]
  },
  {
   "cell_type": "code",
   "execution_count": null,
   "metadata": {},
   "outputs": [],
   "source": []
  }
 ],
 "metadata": {
  "kernelspec": {
   "display_name": "Python 3",
   "language": "python",
   "name": "python3"
  },
  "language_info": {
   "codemirror_mode": {
    "name": "ipython",
    "version": 3
   },
   "file_extension": ".py",
   "mimetype": "text/x-python",
   "name": "python",
   "nbconvert_exporter": "python",
   "pygments_lexer": "ipython3",
   "version": "3.7.2"
  }
 },
 "nbformat": 4,
 "nbformat_minor": 2
}
