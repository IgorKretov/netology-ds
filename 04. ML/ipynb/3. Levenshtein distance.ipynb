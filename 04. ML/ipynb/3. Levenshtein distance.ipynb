{
 "cells": [
  {
   "cell_type": "markdown",
   "metadata": {},
   "source": [
    "# Поиск наиболее близкого имени участника"
   ]
  },
  {
   "cell_type": "code",
   "execution_count": 2,
   "metadata": {},
   "outputs": [
    {
     "name": "stdout",
     "output_type": "stream",
     "text": [
      "Collecting python-levenshtein\n",
      "\u001b[?25l  Downloading https://files.pythonhosted.org/packages/42/a9/d1785c85ebf9b7dfacd08938dd028209c34a0ea3b1bcdb895208bd40a67d/python-Levenshtein-0.12.0.tar.gz (48kB)\n",
      "\u001b[K    100% |████████████████████████████████| 51kB 495kB/s \n",
      "\u001b[?25hRequirement already satisfied: setuptools in /home/truename/anaconda3/lib/python3.7/site-packages (from python-levenshtein) (40.2.0)\n",
      "Building wheels for collected packages: python-levenshtein\n",
      "  Building wheel for python-levenshtein (setup.py) ... \u001b[?25ldone\n",
      "\u001b[?25h  Stored in directory: /home/truename/.cache/pip/wheels/de/c2/93/660fd5f7559049268ad2dc6d81c4e39e9e36518766eaf7e342\n",
      "Successfully built python-levenshtein\n",
      "Installing collected packages: python-levenshtein\n",
      "Successfully installed python-levenshtein-0.12.0\n",
      "\u001b[33mYou are using pip version 19.0.2, however version 19.3.1 is available.\n",
      "You should consider upgrading via the 'pip install --upgrade pip' command.\u001b[0m\n"
     ]
    }
   ],
   "source": [
    "!pip install python-levenshtein"
   ]
  },
  {
   "cell_type": "code",
   "execution_count": 4,
   "metadata": {
    "collapsed": true
   },
   "outputs": [],
   "source": [
    "# conda install -c conda-forge python-levenshtein\n",
    "# или pip install python-levenshtein\n",
    "\n",
    "import Levenshtein"
   ]
  },
  {
   "cell_type": "code",
   "execution_count": 5,
   "metadata": {
    "collapsed": true
   },
   "outputs": [],
   "source": [
    "# что было написано в заявке\n",
    "\n",
    "claim_list = [\n",
    "    'Шехавцова Анна',\n",
    "    'Гречихина Наталья',\n",
    "    'Козлова Алена',\n",
    "    'Груздева Алина',\n",
    "    'Кущенко Анна',\n",
    "    'Чистякова Анастасия'\n",
    "]"
   ]
  },
  {
   "cell_type": "code",
   "execution_count": 6,
   "metadata": {
    "collapsed": true
   },
   "outputs": [],
   "source": [
    "# результат расшифровки речи диктора\n",
    "\n",
    "speech_recognition = [\n",
    "    'кучменко она',\n",
    "    'кущенко оксана',\n",
    "    'груздь алина',\n",
    "    'рычихина наталья',\n",
    "    'шиховцева на',\n",
    "    'чистова анастасия'\n",
    "]"
   ]
  },
  {
   "cell_type": "markdown",
   "metadata": {},
   "source": [
    "### С библиотекой Levenshtein"
   ]
  },
  {
   "cell_type": "code",
   "execution_count": 7,
   "metadata": {},
   "outputs": [
    {
     "data": {
      "text/plain": [
       "4"
      ]
     },
     "execution_count": 7,
     "metadata": {},
     "output_type": "execute_result"
    }
   ],
   "source": [
    "Levenshtein.distance('Оксана', 'Анна')"
   ]
  },
  {
   "cell_type": "code",
   "execution_count": 8,
   "metadata": {},
   "outputs": [
    {
     "name": "stdout",
     "output_type": "stream",
     "text": [
      "кучменко она\n",
      "кущенко оксана\n",
      "груздь алина\n",
      "рычихина наталья\n",
      "шиховцева на\n",
      "чистова анастасия\n"
     ]
    }
   ],
   "source": [
    "for recognized_name in speech_recognition:\n",
    "    print(recognized_name)"
   ]
  },
  {
   "cell_type": "code",
   "execution_count": 9,
   "metadata": {},
   "outputs": [
    {
     "name": "stdout",
     "output_type": "stream",
     "text": [
      "кучменко она,Шехавцова Анна,11\n",
      "кучменко она,Гречихина Наталья,14\n",
      "кучменко она,Козлова Алена,11\n",
      "кучменко она,Груздева Алина,10\n",
      "кучменко она,Кущенко Анна,5\n",
      "кучменко она,Чистякова Анастасия,15\n",
      "кущенко оксана,Шехавцова Анна,11\n",
      "кущенко оксана,Гречихина Наталья,15\n",
      "кущенко оксана,Козлова Алена,11\n",
      "кущенко оксана,Груздева Алина,11\n",
      "кущенко оксана,Кущенко Анна,5\n",
      "кущенко оксана,Чистякова Анастасия,14\n",
      "груздь алина,Шехавцова Анна,11\n",
      "груздь алина,Гречихина Наталья,14\n",
      "груздь алина,Козлова Алена,9\n",
      "груздь алина,Груздева Алина,5\n",
      "груздь алина,Кущенко Анна,10\n",
      "груздь алина,Чистякова Анастасия,16\n",
      "рычихина наталья,Шехавцова Анна,14\n",
      "рычихина наталья,Гречихина Наталья,3\n",
      "рычихина наталья,Козлова Алена,14\n",
      "рычихина наталья,Груздева Алина,14\n",
      "рычихина наталья,Кущенко Анна,14\n",
      "рычихина наталья,Чистякова Анастасия,12\n",
      "шиховцева на,Шехавцова Анна,6\n",
      "шиховцева на,Гречихина Наталья,14\n",
      "шиховцева на,Козлова Алена,9\n",
      "шиховцева на,Груздева Алина,9\n",
      "шиховцева на,Кущенко Анна,10\n",
      "шиховцева на,Чистякова Анастасия,13\n",
      "чистова анастасия,Шехавцова Анна,13\n",
      "чистова анастасия,Гречихина Наталья,12\n",
      "чистова анастасия,Козлова Алена,12\n",
      "чистова анастасия,Груздева Алина,14\n",
      "чистова анастасия,Кущенко Анна,14\n",
      "чистова анастасия,Чистякова Анастасия,4\n"
     ]
    }
   ],
   "source": [
    "for recognized_name in speech_recognition:\n",
    "    for real_name in claim_list:\n",
    "        print('{},{},{}'.format(recognized_name, real_name, Levenshtein.distance(recognized_name, real_name)))"
   ]
  },
  {
   "cell_type": "markdown",
   "metadata": {},
   "source": [
    "### Без библиотеки из файла 'recognized_stats.txt'"
   ]
  },
  {
   "cell_type": "code",
   "execution_count": 11,
   "metadata": {},
   "outputs": [
    {
     "name": "stdout",
     "output_type": "stream",
     "text": [
      "кучменко она Шехавцова Анна 11\n",
      "кучменко она Гречихина Наталья 14\n",
      "кучменко она Козлова Алена 11\n",
      "кучменко она Груздева Алина 10\n",
      "кучменко она Кущенко Анна 5\n",
      "кучменко она Чистякова Анастасия 15\n",
      "кущенко оксана Шехавцова Анна 11\n",
      "кущенко оксана Гречихина Наталья 15\n",
      "кущенко оксана Козлова Алена 11\n",
      "кущенко оксана Груздева Алина 11\n",
      "кущенко оксана Кущенко Анна 5\n",
      "кущенко оксана Чистякова Анастасия 14\n",
      "груздь алина Шехавцова Анна 11\n",
      "груздь алина Гречихина Наталья 14\n",
      "груздь алина Козлова Алена 9\n",
      "груздь алина Груздева Алина 5\n",
      "груздь алина Кущенко Анна 10\n",
      "груздь алина Чистякова Анастасия 16\n",
      "рычихина наталья Шехавцова Анна 14\n",
      "рычихина наталья Гречихина Наталья 3\n",
      "рычихина наталья Козлова Алена 14\n",
      "рычихина наталья Груздева Алина 14\n",
      "рычихина наталья Кущенко Анна 14\n",
      "рычихина наталья Чистякова Анастасия 12\n",
      "шиховцева на Шехавцова Анна 6\n",
      "шиховцева на Гречихина Наталья 14\n",
      "шиховцева на Козлова Алена 9\n",
      "шиховцева на Груздева Алина 9\n",
      "шиховцева на Кущенко Анна 10\n",
      "шиховцева на Чистякова Анастасия 13\n",
      "чистова анастасия Шехавцова Анна 13\n",
      "чистова анастасия Гречихина Наталья 12\n",
      "чистова анастасия Козлова Алена 12\n",
      "чистова анастасия Груздева Алина 14\n",
      "чистова анастасия Кущенко Анна 14\n",
      "чистова анастасия Чистякова Анастасия 4\n"
     ]
    }
   ],
   "source": [
    "distances = []\n",
    "\n",
    "f = open('../data/recognized_stats.txt', mode = 'r', encoding = 'utf-8')\n",
    "\n",
    "lines = [line.strip().split(';') for line in f]\n",
    "\n",
    "for line in lines:\n",
    "    \n",
    "    for rec in line:\n",
    "        recognized_name, real_name, distance = rec.split(',')\n",
    "        print(recognized_name, real_name, distance)"
   ]
  },
  {
   "cell_type": "markdown",
   "metadata": {},
   "source": [
    "### Сортировка словаря"
   ]
  },
  {
   "cell_type": "code",
   "execution_count": 12,
   "metadata": {},
   "outputs": [
    {
     "name": "stdout",
     "output_type": "stream",
     "text": [
      "{'Шехавцова Анна': 11, 'Гречихина Наталья': 14, 'Козлова Алена': 11, 'Груздева Алина': 10, 'Кущенко Анна': 5, 'Чистякова Анастасия': 15}\n"
     ]
    }
   ],
   "source": [
    "for recognized_name in speech_recognition:\n",
    "    distances = {real_name: Levenshtein.distance(recognized_name, real_name) for real_name in claim_list}\n",
    "    print(distances)\n",
    "    \n",
    "    break"
   ]
  },
  {
   "cell_type": "code",
   "execution_count": 33,
   "metadata": {},
   "outputs": [
    {
     "data": {
      "text/plain": [
       "[('Кущенко Анна', 5),\n",
       " ('Груздева Алина', 10),\n",
       " ('Шехавцова Анна', 11),\n",
       " ('Козлова Алена', 11),\n",
       " ('Гречихина Наталья', 14),\n",
       " ('Чистякова Анастасия', 15)]"
      ]
     },
     "execution_count": 33,
     "metadata": {},
     "output_type": "execute_result"
    }
   ],
   "source": [
    "# x[1] - сортировка по значениям словаря по возрастанию (если надо по убыванию - добавляем минус перед x[1])\n",
    "# x[0] - по ключам\n",
    "sorted(distances.items(), key = lambda x: x[1])"
   ]
  },
  {
   "cell_type": "code",
   "execution_count": null,
   "metadata": {},
   "outputs": [],
   "source": []
  },
  {
   "cell_type": "code",
   "execution_count": null,
   "metadata": {},
   "outputs": [],
   "source": []
  },
  {
   "cell_type": "code",
   "execution_count": 17,
   "metadata": {},
   "outputs": [
    {
     "data": {
      "text/plain": [
       "['Шехавцова Анна',\n",
       " 'Гречихина Наталья',\n",
       " 'Козлова Алена',\n",
       " 'Груздева Алина',\n",
       " 'Кущенко Анна',\n",
       " 'Чистякова Анастасия']"
      ]
     },
     "execution_count": 17,
     "metadata": {},
     "output_type": "execute_result"
    }
   ],
   "source": [
    "claim_list"
   ]
  },
  {
   "cell_type": "code",
   "execution_count": 36,
   "metadata": {},
   "outputs": [],
   "source": [
    "d = {}\n",
    "for real_name in claim_list:\n",
    "    d[real_name] = sorted({recognized_name: Levenshtein.distance(recognized_name, real_name) for recognized_name in speech_recognition}.items(), key = lambda x: x[1])"
   ]
  },
  {
   "cell_type": "code",
   "execution_count": 37,
   "metadata": {},
   "outputs": [
    {
     "data": {
      "text/plain": [
       "{'Шехавцова Анна': [('шиховцева на', 6),\n",
       "  ('кучменко она', 11),\n",
       "  ('кущенко оксана', 11),\n",
       "  ('груздь алина', 11),\n",
       "  ('чистова анастасия', 13),\n",
       "  ('рычихина наталья', 14)],\n",
       " 'Гречихина Наталья': [('рычихина наталья', 3),\n",
       "  ('чистова анастасия', 12),\n",
       "  ('кучменко она', 14),\n",
       "  ('груздь алина', 14),\n",
       "  ('шиховцева на', 14),\n",
       "  ('кущенко оксана', 15)],\n",
       " 'Козлова Алена': [('груздь алина', 9),\n",
       "  ('шиховцева на', 9),\n",
       "  ('кучменко она', 11),\n",
       "  ('кущенко оксана', 11),\n",
       "  ('чистова анастасия', 12),\n",
       "  ('рычихина наталья', 14)],\n",
       " 'Груздева Алина': [('груздь алина', 5),\n",
       "  ('шиховцева на', 9),\n",
       "  ('кучменко она', 10),\n",
       "  ('кущенко оксана', 11),\n",
       "  ('рычихина наталья', 14),\n",
       "  ('чистова анастасия', 14)],\n",
       " 'Кущенко Анна': [('кучменко она', 5),\n",
       "  ('кущенко оксана', 5),\n",
       "  ('груздь алина', 10),\n",
       "  ('шиховцева на', 10),\n",
       "  ('рычихина наталья', 14),\n",
       "  ('чистова анастасия', 14)],\n",
       " 'Чистякова Анастасия': [('чистова анастасия', 4),\n",
       "  ('рычихина наталья', 12),\n",
       "  ('шиховцева на', 13),\n",
       "  ('кущенко оксана', 14),\n",
       "  ('кучменко она', 15),\n",
       "  ('груздь алина', 16)]}"
      ]
     },
     "execution_count": 37,
     "metadata": {},
     "output_type": "execute_result"
    }
   ],
   "source": [
    "d"
   ]
  },
  {
   "cell_type": "code",
   "execution_count": 30,
   "metadata": {},
   "outputs": [
    {
     "data": {
      "text/plain": [
       "dict_items([('Шехавцова Анна', {'кучменко она': 11, 'кущенко оксана': 11, 'груздь алина': 11, 'рычихина наталья': 14, 'шиховцева на': 6, 'чистова анастасия': 13}), ('Гречихина Наталья', {'кучменко она': 14, 'кущенко оксана': 15, 'груздь алина': 14, 'рычихина наталья': 3, 'шиховцева на': 14, 'чистова анастасия': 12}), ('Козлова Алена', {'кучменко она': 11, 'кущенко оксана': 11, 'груздь алина': 9, 'рычихина наталья': 14, 'шиховцева на': 9, 'чистова анастасия': 12}), ('Груздева Алина', {'кучменко она': 10, 'кущенко оксана': 11, 'груздь алина': 5, 'рычихина наталья': 14, 'шиховцева на': 9, 'чистова анастасия': 14}), ('Кущенко Анна', {'кучменко она': 5, 'кущенко оксана': 5, 'груздь алина': 10, 'рычихина наталья': 14, 'шиховцева на': 10, 'чистова анастасия': 14}), ('Чистякова Анастасия', {'кучменко она': 15, 'кущенко оксана': 14, 'груздь алина': 16, 'рычихина наталья': 12, 'шиховцева на': 13, 'чистова анастасия': 4})])"
      ]
     },
     "execution_count": 30,
     "metadata": {},
     "output_type": "execute_result"
    }
   ],
   "source": [
    "#sorted(d.items(), key = lambda x: x[1].items())\n",
    "d.items()"
   ]
  }
 ],
 "metadata": {
  "kernelspec": {
   "display_name": "Python 3",
   "language": "python",
   "name": "python3"
  },
  "language_info": {
   "codemirror_mode": {
    "name": "ipython",
    "version": 3
   },
   "file_extension": ".py",
   "mimetype": "text/x-python",
   "name": "python",
   "nbconvert_exporter": "python",
   "pygments_lexer": "ipython3",
   "version": "3.7.2"
  }
 },
 "nbformat": 4,
 "nbformat_minor": 2
}
